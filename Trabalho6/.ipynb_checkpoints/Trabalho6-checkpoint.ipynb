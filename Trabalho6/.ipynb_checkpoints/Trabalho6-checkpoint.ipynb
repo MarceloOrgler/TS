{
 "cells": [
  {
   "cell_type": "code",
   "execution_count": 1,
   "id": "062e4530",
   "metadata": {},
   "outputs": [],
   "source": [
    "library(pacman)\n",
    "p_load(dplyr,glarma,boot)"
   ]
  },
  {
   "cell_type": "code",
   "execution_count": 2,
   "id": "83461b08",
   "metadata": {},
   "outputs": [
    {
     "data": {
      "text/html": [
       "'C:/Users/Marcelo/OneDrive/Área de Trabalho/ts/glarma'"
      ],
      "text/latex": [
       "'C:/Users/Marcelo/OneDrive/Área de Trabalho/ts/glarma'"
      ],
      "text/markdown": [
       "'C:/Users/Marcelo/OneDrive/Área de Trabalho/ts/glarma'"
      ],
      "text/plain": [
       "[1] \"C:/Users/Marcelo/OneDrive/Área de Trabalho/ts/glarma\""
      ]
     },
     "metadata": {},
     "output_type": "display_data"
    }
   ],
   "source": [
    "setwd('C:\\\\Users\\\\Marcelo\\\\OneDrive\\\\Área de Trabalho\\\\ts\\\\glarma')\n",
    "getwd()"
   ]
  },
  {
   "cell_type": "markdown",
   "id": "5d5a10f5",
   "metadata": {},
   "source": [
    "# Simulação"
   ]
  },
  {
   "cell_type": "markdown",
   "id": "5ed9db1a",
   "metadata": {},
   "source": [
    "Criando a função que simula o processo:"
   ]
  },
  {
   "cell_type": "code",
   "execution_count": 3,
   "id": "a1576590",
   "metadata": {},
   "outputs": [],
   "source": [
    "simulate_glarma <- function(T = 100, beta = 1, phi = 0, theta = 0.3, x = NULL) {\n",
    "  if (is.null(x)) x <- rep(1, T)\n",
    "  \n",
    "  z <- numeric(T)\n",
    "  mu <- numeric(T)\n",
    "  y <- numeric(T)\n",
    "  e <- numeric(T)\n",
    "  \n",
    "  for (t in 1:T) {\n",
    "    z_t <- 0\n",
    "    if (t > 1) z_t <- z[t - 1] * phi + e[t - 1] * theta\n",
    "    \n",
    "    eta <- beta * x[t] + z_t\n",
    "    mu[t] <- exp(eta)\n",
    "    y[t] <- rpois(1, lambda = mu[t])\n",
    "    e[t] <- (y[t] - mu[t]) / sqrt(mu[t])\n",
    "    z[t] <- z_t\n",
    "  }\n",
    "  \n",
    "  return(data.frame(time = 1:T, x = x, y = y, mu = mu, z = z,e=e))\n",
    "}"
   ]
  },
  {
   "cell_type": "code",
   "execution_count": 4,
   "id": "5a57eb63",
   "metadata": {},
   "outputs": [],
   "source": [
    "Amostra_original<-simulate_glarma(T=100,beta=1,phi=0,theta=0.3,x=NULL)"
   ]
  },
  {
   "cell_type": "code",
   "execution_count": 5,
   "id": "4996cde4",
   "metadata": {},
   "outputs": [
    {
     "data": {
      "text/html": [
       "100"
      ],
      "text/latex": [
       "100"
      ],
      "text/markdown": [
       "100"
      ],
      "text/plain": [
       "[1] 100"
      ]
     },
     "metadata": {},
     "output_type": "display_data"
    }
   ],
   "source": [
    "length(Amostra_original$y)"
   ]
  },
  {
   "cell_type": "code",
   "execution_count": 6,
   "id": "ebc518fb",
   "metadata": {},
   "outputs": [
    {
     "data": {
      "text/plain": [
       "   Min. 1st Qu.  Median    Mean 3rd Qu.    Max. \n",
       "   0.00    2.00    2.00    2.81    4.00    8.00 "
      ]
     },
     "metadata": {},
     "output_type": "display_data"
    }
   ],
   "source": [
    "summary(Amostra_original$y)"
   ]
  },
  {
   "cell_type": "code",
   "execution_count": 7,
   "id": "8e9d168b",
   "metadata": {},
   "outputs": [],
   "source": [
    "X <- Amostra_original$x\n",
    "X <- as.matrix(X)\n",
    "colnames(X) <- \"Intercept\""
   ]
  },
  {
   "cell_type": "code",
   "execution_count": 8,
   "id": "96cb3383",
   "metadata": {},
   "outputs": [],
   "source": [
    "result=glarma(Amostra_original$y, X, phiLags = NULL ,thetaLags = c(1), type = \"Poi\")"
   ]
  },
  {
   "cell_type": "code",
   "execution_count": 9,
   "id": "86b1d515",
   "metadata": {},
   "outputs": [
    {
     "data": {
      "text/html": [
       "<strong>theta_1:</strong> 0.270120181961199"
      ],
      "text/latex": [
       "\\textbf{theta\\textbackslash{}\\_1:} 0.270120181961199"
      ],
      "text/markdown": [
       "**theta_1:** 0.270120181961199"
      ],
      "text/plain": [
       "  theta_1 \n",
       "0.2701202 "
      ]
     },
     "metadata": {},
     "output_type": "display_data"
    }
   ],
   "source": [
    "Theta<-result$delta[2]\n",
    "Theta"
   ]
  },
  {
   "cell_type": "code",
   "execution_count": 10,
   "id": "604dda45",
   "metadata": {},
   "outputs": [
    {
     "data": {
      "text/html": [
       "<strong>Intercept:</strong> 1.00364391176688"
      ],
      "text/latex": [
       "\\textbf{Intercept:} 1.00364391176688"
      ],
      "text/markdown": [
       "**Intercept:** 1.00364391176688"
      ],
      "text/plain": [
       "Intercept \n",
       " 1.003644 "
      ]
     },
     "metadata": {},
     "output_type": "display_data"
    }
   ],
   "source": [
    "Beta<-result$delta[1]\n",
    "Beta"
   ]
  },
  {
   "cell_type": "markdown",
   "id": "d5ee8190",
   "metadata": {},
   "source": [
    "# Bootstrap paramétrico:"
   ]
  },
  {
   "cell_type": "code",
   "execution_count": 11,
   "id": "4d8d17eb",
   "metadata": {},
   "outputs": [],
   "source": [
    "B=100"
   ]
  },
  {
   "cell_type": "code",
   "execution_count": 12,
   "id": "08323519",
   "metadata": {},
   "outputs": [],
   "source": [
    "T=length(Amostra_original$y)"
   ]
  },
  {
   "cell_type": "markdown",
   "id": "67732244",
   "metadata": {},
   "source": [
    "gerando as amostras bootstrap:"
   ]
  },
  {
   "cell_type": "code",
   "execution_count": 13,
   "id": "b405af7e",
   "metadata": {},
   "outputs": [],
   "source": [
    "mu<-Amostra_original$mu"
   ]
  },
  {
   "cell_type": "code",
   "execution_count": 14,
   "id": "fec83547",
   "metadata": {},
   "outputs": [
    {
     "data": {
      "text/html": [
       "100"
      ],
      "text/latex": [
       "100"
      ],
      "text/markdown": [
       "100"
      ],
      "text/plain": [
       "[1] 100"
      ]
     },
     "metadata": {},
     "output_type": "display_data"
    }
   ],
   "source": [
    "length(mu)"
   ]
  },
  {
   "cell_type": "code",
   "execution_count": 15,
   "id": "0264a510",
   "metadata": {},
   "outputs": [],
   "source": [
    "Y_Bootstrap <- matrix(NA, nrow = T, ncol = B)"
   ]
  },
  {
   "cell_type": "code",
   "execution_count": 16,
   "id": "8cf54775",
   "metadata": {},
   "outputs": [],
   "source": [
    "for (b in 1:B){\n",
    "    r = simulate_glarma(T=T,beta=0.5,phi=0,theta=Theta,x=NULL) \n",
    "    Y_Bootstrap[,b] <- r$y\n",
    "    }"
   ]
  },
  {
   "cell_type": "markdown",
   "id": "fc6d9a32",
   "metadata": {},
   "source": [
    "Estimando os parâmetros para cada amostra:"
   ]
  },
  {
   "cell_type": "code",
   "execution_count": 17,
   "id": "c58f2620",
   "metadata": {},
   "outputs": [],
   "source": [
    "recupera_par<- function(Y_col){\n",
    "    fit<-glarma(Y_col, X, phiLags = NULL ,thetaLags = c(1), type = \"Poi\")\n",
    "    return(fit$delta[2])}"
   ]
  },
  {
   "cell_type": "code",
   "execution_count": 18,
   "id": "a03d7c06",
   "metadata": {},
   "outputs": [],
   "source": [
    "Theta_estimates <- apply(Y_Bootstrap, 2, recupera_par)"
   ]
  },
  {
   "cell_type": "code",
   "execution_count": 19,
   "id": "7a6a2fb9",
   "metadata": {},
   "outputs": [
    {
     "data": {
      "text/html": [
       "0.266194960000334"
      ],
      "text/latex": [
       "0.266194960000334"
      ],
      "text/markdown": [
       "0.266194960000334"
      ],
      "text/plain": [
       "[1] 0.266195"
      ]
     },
     "metadata": {},
     "output_type": "display_data"
    }
   ],
   "source": [
    "mean(Theta_estimates)"
   ]
  },
  {
   "cell_type": "code",
   "execution_count": 20,
   "id": "b69d7a60",
   "metadata": {},
   "outputs": [
    {
     "data": {
      "text/html": [
       "<style>\n",
       ".dl-inline {width: auto; margin:0; padding: 0}\n",
       ".dl-inline>dt, .dl-inline>dd {float: none; width: auto; display: inline-block}\n",
       ".dl-inline>dt::after {content: \":\\0020\"; padding-right: .5ex}\n",
       ".dl-inline>dt:not(:first-of-type) {padding-left: .5ex}\n",
       "</style><dl class=dl-inline><dt>2.5%</dt><dd>0.122043094237009</dd><dt>97.5%</dt><dd>0.418508669149512</dd></dl>\n"
      ],
      "text/latex": [
       "\\begin{description*}\n",
       "\\item[2.5\\textbackslash{}\\%] 0.122043094237009\n",
       "\\item[97.5\\textbackslash{}\\%] 0.418508669149512\n",
       "\\end{description*}\n"
      ],
      "text/markdown": [
       "2.5%\n",
       ":   0.12204309423700997.5%\n",
       ":   0.418508669149512\n",
       "\n"
      ],
      "text/plain": [
       "     2.5%     97.5% \n",
       "0.1220431 0.4185087 "
      ]
     },
     "metadata": {},
     "output_type": "display_data"
    }
   ],
   "source": [
    "quantile(Theta_estimates,probs=c(0.025,0.975))"
   ]
  },
  {
   "cell_type": "code",
   "execution_count": 21,
   "id": "a970b2ff",
   "metadata": {},
   "outputs": [
    {
     "data": {
      "image/png": "[encoded data removed]",
      "text/plain": [
       "Plot with title \"Histogram of Theta_estimates\""
      ]
     },
     "metadata": {
      "image/png": {
       "height": 420,
       "width": 420
      }
     },
     "output_type": "display_data"
    }
   ],
   "source": [
    "hist(Theta_estimates)"
   ]
  },
  {
   "cell_type": "markdown",
   "id": "bec05996",
   "metadata": {},
   "source": [
    "Nosso bootstrap está funcionando, vamos fazer o experimento monte carlo:"
   ]
  },
  {
   "cell_type": "markdown",
   "id": "5813c0c5",
   "metadata": {},
   "source": [
    "### Questão 1"
   ]
  },
  {
   "cell_type": "code",
   "execution_count": 22,
   "id": "d1cd5bfa",
   "metadata": {},
   "outputs": [],
   "source": [
    "R = 100"
   ]
  },
  {
   "cell_type": "code",
   "execution_count": 23,
   "id": "785c79c9",
   "metadata": {},
   "outputs": [],
   "source": [
    "bootstrap_parametrico <- function(B=20,T=100,beta=1,phi=0,theta=0.3)\n",
    "\n",
    "    {\n",
    "    Theta_bootstrap<-numeric(B)\n",
    "\n",
    "    Amostra_original<-simulate_glarma(T=100,beta=1,phi=0,theta=0.3,x=NULL)\n",
    "    X <- Amostra_original$x\n",
    "    X <- as.matrix(X)\n",
    "    colnames(X) <- \"Intercept\"\n",
    "\n",
    "    result=glarma(Amostra_original$y, X, phiLags = NULL ,thetaLags = c(1), type = \"Poi\")\n",
    "    theta_estimado<-result$delta[2]\n",
    "\n",
    "    T=length(Amostra_original$y)\n",
    "    mu<-result$mu\n",
    "\n",
    "    Y_Bootstrap <- matrix(NA, nrow = T, ncol = B)\n",
    "\n",
    "    for (b in 1:B)\n",
    "        {\n",
    "        s = simulate_glarma(T=T,beta=0.5,phi=0,theta=theta,x=NULL) \n",
    "        Y_Bootstrap[,b] <- s$y\n",
    "        }\n",
    "    \n",
    "    Theta_bootstrap <- apply(Y_Bootstrap, 2, recupera_par)\n",
    "\n",
    "    mean_theta <- mean(Theta_bootstrap)\n",
    "\n",
    "    IC<-quantile(Theta_bootstrap, probs = c(0.025, 0.975))\n",
    "            \n",
    "    return(list('theta_estimado'=theta_estimado,\n",
    "                'Theta_bootstrap'=Theta_bootstrap,\n",
    "                'mean_theta'=mean_theta,\n",
    "                'IC'=IC,\n",
    "                'Amostra_original'= Amostra_original$y))\n",
    "    }"
   ]
  },
  {
   "cell_type": "code",
   "execution_count": 24,
   "id": "780647f8",
   "metadata": {},
   "outputs": [],
   "source": [
    "Questao1 <- function(B=20,T=100,beta=1,phi=0,theta=0.3,R=2)\n",
    "    {\n",
    "    \n",
    "    theta_estimado<-numeric(R)\n",
    "    mean_theta_bootstrap<-numeric(R)\n",
    "    IC_bootstrap <- vector(\"list\", R)\n",
    "\n",
    "\n",
    "    for (r in 1:R)\n",
    "        {\n",
    "        result <- bootstrap_parametrico()\n",
    "        \n",
    "        mean_theta_bootstrap[r] <- result$mean_theta\n",
    "        \n",
    "        IC_bootstrap[[r]]<-result$IC\n",
    "        \n",
    "        theta_estimado[r]<-result$theta_estimado\n",
    "        }\n",
    "    return(list('theta_estimado'=theta_estimado,'mean_theta_bootstrap'=mean_theta_bootstrap,'IC_bootstrap'=IC_bootstrap))\n",
    "    } "
   ]
  },
  {
   "cell_type": "markdown",
   "id": "9d5598b9",
   "metadata": {},
   "source": [
    "conferindo as funções:"
   ]
  },
  {
   "cell_type": "code",
   "execution_count": 25,
   "id": "895d99b2",
   "metadata": {},
   "outputs": [],
   "source": [
    "MM_bootstrap_parametrico<-Questao1()"
   ]
  },
  {
   "cell_type": "code",
   "execution_count": 26,
   "id": "11f966e9",
   "metadata": {},
   "outputs": [
    {
     "data": {
      "text/html": [
       "<dl>\n",
       "\t<dt>$theta_estimado</dt>\n",
       "\t\t<dd><style>\n",
       ".list-inline {list-style: none; margin:0; padding: 0}\n",
       ".list-inline>li {display: inline-block}\n",
       ".list-inline>li:not(:last-child)::after {content: \"\\00b7\"; padding: 0 .5ex}\n",
       "</style>\n",
       "<ol class=list-inline><li>0.305944223022344</li><li>0.342619710299625</li></ol>\n",
       "</dd>\n",
       "\t<dt>$mean_theta_bootstrap</dt>\n",
       "\t\t<dd><style>\n",
       ".list-inline {list-style: none; margin:0; padding: 0}\n",
       ".list-inline>li {display: inline-block}\n",
       ".list-inline>li:not(:last-child)::after {content: \"\\00b7\"; padding: 0 .5ex}\n",
       "</style>\n",
       "<ol class=list-inline><li>0.272387885856344</li><li>0.293547744173031</li></ol>\n",
       "</dd>\n",
       "\t<dt>$IC_bootstrap</dt>\n",
       "\t\t<dd><ol>\n",
       "\t<li><style>\n",
       ".dl-inline {width: auto; margin:0; padding: 0}\n",
       ".dl-inline>dt, .dl-inline>dd {float: none; width: auto; display: inline-block}\n",
       ".dl-inline>dt::after {content: \":\\0020\"; padding-right: .5ex}\n",
       ".dl-inline>dt:not(:first-of-type) {padding-left: .5ex}\n",
       "</style><dl class=dl-inline><dt>2.5%</dt><dd>0.133444789855884</dd><dt>97.5%</dt><dd>0.414291562670431</dd></dl>\n",
       "</li>\n",
       "\t<li><style>\n",
       ".dl-inline {width: auto; margin:0; padding: 0}\n",
       ".dl-inline>dt, .dl-inline>dd {float: none; width: auto; display: inline-block}\n",
       ".dl-inline>dt::after {content: \":\\0020\"; padding-right: .5ex}\n",
       ".dl-inline>dt:not(:first-of-type) {padding-left: .5ex}\n",
       "</style><dl class=dl-inline><dt>2.5%</dt><dd>0.196941468921514</dd><dt>97.5%</dt><dd>0.383546945942757</dd></dl>\n",
       "</li>\n",
       "</ol>\n",
       "</dd>\n",
       "</dl>\n"
      ],
      "text/latex": [
       "\\begin{description}\n",
       "\\item[\\$theta\\_estimado] \\begin{enumerate*}\n",
       "\\item 0.305944223022344\n",
       "\\item 0.342619710299625\n",
       "\\end{enumerate*}\n",
       "\n",
       "\\item[\\$mean\\_theta\\_bootstrap] \\begin{enumerate*}\n",
       "\\item 0.272387885856344\n",
       "\\item 0.293547744173031\n",
       "\\end{enumerate*}\n",
       "\n",
       "\\item[\\$IC\\_bootstrap] \\begin{enumerate}\n",
       "\\item \\begin{description*}\n",
       "\\item[2.5\\textbackslash{}\\%] 0.133444789855884\n",
       "\\item[97.5\\textbackslash{}\\%] 0.414291562670431\n",
       "\\end{description*}\n",
       "\n",
       "\\item \\begin{description*}\n",
       "\\item[2.5\\textbackslash{}\\%] 0.196941468921514\n",
       "\\item[97.5\\textbackslash{}\\%] 0.383546945942757\n",
       "\\end{description*}\n",
       "\n",
       "\\end{enumerate}\n",
       "\n",
       "\\end{description}\n"
      ],
      "text/markdown": [
       "$theta_estimado\n",
       ":   1. 0.305944223022344\n",
       "2. 0.342619710299625\n",
       "\n",
       "\n",
       "\n",
       "$mean_theta_bootstrap\n",
       ":   1. 0.272387885856344\n",
       "2. 0.293547744173031\n",
       "\n",
       "\n",
       "\n",
       "$IC_bootstrap\n",
       ":   1. 2.5%\n",
       ":   0.13344478985588497.5%\n",
       ":   0.414291562670431\n",
       "\n",
       "\n",
       "2. 2.5%\n",
       ":   0.19694146892151497.5%\n",
       ":   0.383546945942757\n",
       "\n",
       "\n",
       "\n",
       "\n",
       "\n",
       "\n",
       "\n"
      ],
      "text/plain": [
       "$theta_estimado\n",
       "[1] 0.3059442 0.3426197\n",
       "\n",
       "$mean_theta_bootstrap\n",
       "[1] 0.2723879 0.2935477\n",
       "\n",
       "$IC_bootstrap\n",
       "$IC_bootstrap[[1]]\n",
       "     2.5%     97.5% \n",
       "0.1334448 0.4142916 \n",
       "\n",
       "$IC_bootstrap[[2]]\n",
       "     2.5%     97.5% \n",
       "0.1969415 0.3835469 \n",
       "\n"
      ]
     },
     "metadata": {},
     "output_type": "display_data"
    }
   ],
   "source": [
    "MM_bootstrap_parametrico"
   ]
  },
  {
   "cell_type": "markdown",
   "id": "b1e005af",
   "metadata": {},
   "source": [
    "Respondendo a questão:"
   ]
  },
  {
   "cell_type": "code",
   "execution_count": 27,
   "id": "16fa6ecd",
   "metadata": {},
   "outputs": [],
   "source": [
    "conferindo_cobertura_bootstrap <- function(B = 20, T = 100, beta = 1, phi = 0, theta = 0.3, R = 100) {\n",
    "  \n",
    "  resultado <- Questao1(B = B, T = T, beta = beta, phi = phi, theta = theta, R = R)\n",
    "\n",
    "  theta_estimado <- resultado$theta_estimado\n",
    "  IC_bootstrap <- resultado$IC_bootstrap\n",
    "  \n",
    "  dentro_do_intervalo <- logical(R)\n",
    "  \n",
    "  for (r in 1:R) {\n",
    "    intervalo <- IC_bootstrap[[r]]\n",
    "    dentro_do_intervalo[r] <- (theta_estimado[r] >= intervalo[1]) && (theta_estimado[r] <= intervalo[2])\n",
    "  }\n",
    "\n",
    "  cobertura_percentual <- mean(dentro_do_intervalo) * 100\n",
    "  \n",
    "  return(list(\n",
    "    cobertura_percentual = cobertura_percentual,\n",
    "    total_dentro = sum(dentro_do_intervalo),\n",
    "    total_r = R\n",
    "  ))\n",
    "}\n"
   ]
  },
  {
   "cell_type": "code",
   "execution_count": 28,
   "id": "6f62a0c7",
   "metadata": {},
   "outputs": [
    {
     "data": {
      "text/html": [
       "<dl>\n",
       "\t<dt>$cobertura_percentual</dt>\n",
       "\t\t<dd>94</dd>\n",
       "\t<dt>$total_dentro</dt>\n",
       "\t\t<dd>94</dd>\n",
       "\t<dt>$total_r</dt>\n",
       "\t\t<dd>100</dd>\n",
       "</dl>\n"
      ],
      "text/latex": [
       "\\begin{description}\n",
       "\\item[\\$cobertura\\_percentual] 94\n",
       "\\item[\\$total\\_dentro] 94\n",
       "\\item[\\$total\\_r] 100\n",
       "\\end{description}\n"
      ],
      "text/markdown": [
       "$cobertura_percentual\n",
       ":   94\n",
       "$total_dentro\n",
       ":   94\n",
       "$total_r\n",
       ":   100\n",
       "\n",
       "\n"
      ],
      "text/plain": [
       "$cobertura_percentual\n",
       "[1] 94\n",
       "\n",
       "$total_dentro\n",
       "[1] 94\n",
       "\n",
       "$total_r\n",
       "[1] 100\n"
      ]
     },
     "metadata": {},
     "output_type": "display_data"
    }
   ],
   "source": [
    "conferindo_cobertura_bootstrap(R=100)"
   ]
  },
  {
   "cell_type": "markdown",
   "id": "59479a7c",
   "metadata": {},
   "source": [
    "# Bootstrap Não Paramétrico"
   ]
  },
  {
   "cell_type": "code",
   "execution_count": 51,
   "id": "390641f5",
   "metadata": {},
   "outputs": [],
   "source": [
    "e<-Amostra_original$e"
   ]
  },
  {
   "cell_type": "code",
   "execution_count": 52,
   "id": "e477fe12",
   "metadata": {},
   "outputs": [],
   "source": [
    "y<-Amostra_original$y"
   ]
  },
  {
   "cell_type": "code",
   "execution_count": 53,
   "id": "90738fce",
   "metadata": {},
   "outputs": [],
   "source": [
    "mu<-Amostra_original$mu"
   ]
  },
  {
   "cell_type": "code",
   "execution_count": 54,
   "id": "c1bfe91d",
   "metadata": {},
   "outputs": [],
   "source": [
    "X <- Amostra_original$x\n",
    "X <- as.matrix(X)\n",
    "colnames(X) <- \"Intercept\""
   ]
  },
  {
   "cell_type": "code",
   "execution_count": 55,
   "id": "520feeba",
   "metadata": {},
   "outputs": [],
   "source": [
    "e_boot <- replicate(B, sample(e, size = T, replace = TRUE))"
   ]
  },
  {
   "cell_type": "code",
   "execution_count": 56,
   "id": "66e9f98d",
   "metadata": {},
   "outputs": [],
   "source": [
    "gera_y_boot <- function(e,mu)\n",
    "{\n",
    "    \n",
    "    T <- length(e)\n",
    "    y <- numeric(T)\n",
    "    \n",
    "    for (t in 1:T)\n",
    "        {\n",
    "        y[t] = mu[t] + e[t]*sqrt(mu[t])\n",
    "        y[t] = round(y[t])\n",
    "        }\n",
    "    y[y < 1e-12] <- 0\n",
    "    return(data.frame(y=y))\n",
    "} "
   ]
  },
  {
   "cell_type": "code",
   "execution_count": 57,
   "id": "5caaeece",
   "metadata": {},
   "outputs": [],
   "source": [
    "est_bootstrap <- function(y,X)\n",
    "{\n",
    "    fit <- glarma(y, X, phiLags = NULL ,thetaLags = c(1), type = \"Poi\")\n",
    "    beta <- fit$delta[1]\n",
    "    theta <- fit$delta[2]\n",
    "    \n",
    "    return(par = c(beta,theta))\n",
    "}"
   ]
  },
  {
   "cell_type": "code",
   "execution_count": 58,
   "id": "820958aa",
   "metadata": {},
   "outputs": [],
   "source": [
    "gera_mu_boot <- function(e,y,x,par)\n",
    "{\n",
    "    z <- numeric(T)\n",
    "\n",
    "    beta <- par[1]\n",
    "    theta <- par[2]\n",
    "    \n",
    "    for (t in 1:T) {\n",
    "        z_t <- 0\n",
    "        if (t > 1) z_t <-  e[t - 1] * theta\n",
    "\n",
    "        eta <- beta * x[t] + z_t\n",
    "        mu[t] <- exp(eta)\n",
    "        z[t] <- z_t\n",
    "      }\n",
    "    return(mu)\n",
    "}"
   ]
  },
  {
   "cell_type": "code",
   "execution_count": 61,
   "id": "ea3b9eb8",
   "metadata": {},
   "outputs": [],
   "source": [
    "bootstrap_n_parametrico <- function(e_boot, mu_init, y, X, B)\n",
    "{\n",
    "\n",
    "    T <- length(y)\n",
    "    Y_Bootstrap <- matrix(NA, nrow = T, ncol = B)\n",
    "    theta <- numeric(B)\n",
    "\n",
    "    mu_current <- mu_init  \n",
    "  \n",
    "  for (b in 1:B) {\n",
    "    e <- e_boot[, b]\n",
    "    \n",
    "    y_boot <- gera_y_boot(e, mu_current)\n",
    "    y_boot<-y_boot$y\n",
    "    Y_Bootstrap[, b] <- y_boot\n",
    "    \n",
    "    par <- est_bootstrap(y_boot, X)\n",
    "    theta[b] <- par[2]\n",
    "    \n",
    "    mu_current <- gera_mu_boot(e=e, y=y_boot, x=X, par=par)\n",
    "  }\n",
    "   \n",
    "  return(theta)\n",
    "}"
   ]
  },
  {
   "cell_type": "code",
   "execution_count": 62,
   "id": "0aa36770",
   "metadata": {},
   "outputs": [],
   "source": [
    "theta_bootstrap <- bootstrap_n_parametrico(e_boot=e_boot,mu=mu,y=y,X=X,B=B)"
   ]
  },
  {
   "cell_type": "code",
   "execution_count": 63,
   "id": "130e1f93",
   "metadata": {},
   "outputs": [
    {
     "data": {
      "text/html": [
       "-0.00848453725125449"
      ],
      "text/latex": [
       "-0.00848453725125449"
      ],
      "text/markdown": [
       "-0.00848453725125449"
      ],
      "text/plain": [
       "[1] -0.008484537"
      ]
     },
     "metadata": {},
     "output_type": "display_data"
    }
   ],
   "source": [
    "mean(theta_bootstrap)"
   ]
  },
  {
   "cell_type": "code",
   "execution_count": 64,
   "id": "1296650a",
   "metadata": {
    "scrolled": true
   },
   "outputs": [
    {
     "data": {
      "image/png": "[encoded data removed]",
      "text/plain": [
       "Plot with title \"Histogram of theta_bootstrap\""
      ]
     },
     "metadata": {
      "image/png": {
       "height": 420,
       "width": 420
      }
     },
     "output_type": "display_data"
    }
   ],
   "source": [
    "hist(theta_bootstrap)"
   ]
  },
  {
   "cell_type": "markdown",
   "id": "24ee3baf",
   "metadata": {},
   "source": [
    "O bootstrap não paramétrico deu errado, como o esperado."
   ]
  },
  {
   "cell_type": "markdown",
   "id": "0a2a6ceb",
   "metadata": {},
   "source": [
    "### Questão 2"
   ]
  },
  {
   "cell_type": "code",
   "execution_count": 65,
   "id": "223e392a",
   "metadata": {},
   "outputs": [],
   "source": [
    "Questao2 <- function(B=20,T=100,beta=1,phi=0,theta=0.3,R=2)\n",
    "    {\n",
    "    \n",
    "    theta_estimado<-numeric(R)\n",
    "    mean_theta_bootstrap<-numeric(R)\n",
    "    IC_bootstrap <- vector(\"list\", R)\n",
    "\n",
    "    for (r in 1:R)\n",
    "        {\n",
    "        Theta_bootstrap<-numeric(B)\n",
    "\n",
    "        Amostra_original<-simulate_glarma(T=100,beta=1,phi=0,theta=0.3,x=NULL)\n",
    "        X <- Amostra_original$x\n",
    "        X <- as.matrix(X)\n",
    "        colnames(X) <- \"Intercept\"\n",
    "\n",
    "        result=glarma(Amostra_original$y, X, phiLags = NULL ,thetaLags = c(1), type = \"Poi\")\n",
    "        theta_estimado[r]<-result$delta[2]\n",
    "        \n",
    "        e<-Amostra_original$e\n",
    "        e_boot <- replicate(B, sample(e, size = T, replace = TRUE))\n",
    "        \n",
    "        Theta_bootstrap<-bootstrap_n_parametrico(e_boot=e_boot,B=20,mu_init=Amostra_original$mu,y=Amostra_original$y,X=X)\n",
    "        \n",
    "        mean_theta_bootstrap[r] <- mean(Theta_bootstrap)\n",
    "        \n",
    "        IC_bootstrap[[r]]<-quantile(Theta_bootstrap, probs = c(0.025, 0.975))\n",
    "        }\n",
    "    return(list('theta_estimado'=theta_estimado,'mean_theta_bootstrap'=mean_theta_bootstrap,'IC_bootstrap'=IC_bootstrap))\n",
    "    } "
   ]
  },
  {
   "cell_type": "markdown",
   "id": "4d414973",
   "metadata": {},
   "source": [
    "Testando as funções:"
   ]
  },
  {
   "cell_type": "code",
   "execution_count": 66,
   "id": "36283d41",
   "metadata": {},
   "outputs": [],
   "source": [
    "MM_bootstrap_n_parametrico<-Questao2()"
   ]
  },
  {
   "cell_type": "code",
   "execution_count": 67,
   "id": "3f0fee67",
   "metadata": {},
   "outputs": [
    {
     "data": {
      "text/html": [
       "<dl>\n",
       "\t<dt>$theta_estimado</dt>\n",
       "\t\t<dd><style>\n",
       ".list-inline {list-style: none; margin:0; padding: 0}\n",
       ".list-inline>li {display: inline-block}\n",
       ".list-inline>li:not(:last-child)::after {content: \"\\00b7\"; padding: 0 .5ex}\n",
       "</style>\n",
       "<ol class=list-inline><li>0.278925297660273</li><li>0.316321698253395</li></ol>\n",
       "</dd>\n",
       "\t<dt>$mean_theta_bootstrap</dt>\n",
       "\t\t<dd><style>\n",
       ".list-inline {list-style: none; margin:0; padding: 0}\n",
       ".list-inline>li {display: inline-block}\n",
       ".list-inline>li:not(:last-child)::after {content: \"\\00b7\"; padding: 0 .5ex}\n",
       "</style>\n",
       "<ol class=list-inline><li>0.000663816010143372</li><li>0.030683902690339</li></ol>\n",
       "</dd>\n",
       "\t<dt>$IC_bootstrap</dt>\n",
       "\t\t<dd><ol>\n",
       "\t<li><style>\n",
       ".dl-inline {width: auto; margin:0; padding: 0}\n",
       ".dl-inline>dt, .dl-inline>dd {float: none; width: auto; display: inline-block}\n",
       ".dl-inline>dt::after {content: \":\\0020\"; padding-right: .5ex}\n",
       ".dl-inline>dt:not(:first-of-type) {padding-left: .5ex}\n",
       "</style><dl class=dl-inline><dt>2.5%</dt><dd>-0.0857034660864085</dd><dt>97.5%</dt><dd>0.0832748860233778</dd></dl>\n",
       "</li>\n",
       "\t<li><style>\n",
       ".dl-inline {width: auto; margin:0; padding: 0}\n",
       ".dl-inline>dt, .dl-inline>dd {float: none; width: auto; display: inline-block}\n",
       ".dl-inline>dt::after {content: \":\\0020\"; padding-right: .5ex}\n",
       ".dl-inline>dt:not(:first-of-type) {padding-left: .5ex}\n",
       "</style><dl class=dl-inline><dt>2.5%</dt><dd>-0.081325667723224</dd><dt>97.5%</dt><dd>0.307746798782541</dd></dl>\n",
       "</li>\n",
       "</ol>\n",
       "</dd>\n",
       "</dl>\n"
      ],
      "text/latex": [
       "\\begin{description}\n",
       "\\item[\\$theta\\_estimado] \\begin{enumerate*}\n",
       "\\item 0.278925297660273\n",
       "\\item 0.316321698253395\n",
       "\\end{enumerate*}\n",
       "\n",
       "\\item[\\$mean\\_theta\\_bootstrap] \\begin{enumerate*}\n",
       "\\item 0.000663816010143372\n",
       "\\item 0.030683902690339\n",
       "\\end{enumerate*}\n",
       "\n",
       "\\item[\\$IC\\_bootstrap] \\begin{enumerate}\n",
       "\\item \\begin{description*}\n",
       "\\item[2.5\\textbackslash{}\\%] -0.0857034660864085\n",
       "\\item[97.5\\textbackslash{}\\%] 0.0832748860233778\n",
       "\\end{description*}\n",
       "\n",
       "\\item \\begin{description*}\n",
       "\\item[2.5\\textbackslash{}\\%] -0.081325667723224\n",
       "\\item[97.5\\textbackslash{}\\%] 0.307746798782541\n",
       "\\end{description*}\n",
       "\n",
       "\\end{enumerate}\n",
       "\n",
       "\\end{description}\n"
      ],
      "text/markdown": [
       "$theta_estimado\n",
       ":   1. 0.278925297660273\n",
       "2. 0.316321698253395\n",
       "\n",
       "\n",
       "\n",
       "$mean_theta_bootstrap\n",
       ":   1. 0.000663816010143372\n",
       "2. 0.030683902690339\n",
       "\n",
       "\n",
       "\n",
       "$IC_bootstrap\n",
       ":   1. 2.5%\n",
       ":   -0.085703466086408597.5%\n",
       ":   0.0832748860233778\n",
       "\n",
       "\n",
       "2. 2.5%\n",
       ":   -0.08132566772322497.5%\n",
       ":   0.307746798782541\n",
       "\n",
       "\n",
       "\n",
       "\n",
       "\n",
       "\n",
       "\n"
      ],
      "text/plain": [
       "$theta_estimado\n",
       "[1] 0.2789253 0.3163217\n",
       "\n",
       "$mean_theta_bootstrap\n",
       "[1] 0.000663816 0.030683903\n",
       "\n",
       "$IC_bootstrap\n",
       "$IC_bootstrap[[1]]\n",
       "       2.5%       97.5% \n",
       "-0.08570347  0.08327489 \n",
       "\n",
       "$IC_bootstrap[[2]]\n",
       "       2.5%       97.5% \n",
       "-0.08132567  0.30774680 \n",
       "\n"
      ]
     },
     "metadata": {},
     "output_type": "display_data"
    }
   ],
   "source": [
    "MM_bootstrap_n_parametrico"
   ]
  },
  {
   "cell_type": "code",
   "execution_count": 68,
   "id": "4320f31d",
   "metadata": {},
   "outputs": [],
   "source": [
    "conferindo_cobertura_bootstrap2 <- function(B = 20, T = 100, beta = 1, phi = 0, theta = 0.3, R = 100) {\n",
    "  \n",
    "  resultado <- Questao2(B = B, T = T, beta = beta, phi = phi, theta = theta, R = R)\n",
    "\n",
    "  theta_estimado <- resultado$theta_estimado\n",
    "  IC_bootstrap <- resultado$IC_bootstrap\n",
    "  \n",
    "  dentro_do_intervalo <- logical(R)\n",
    "  \n",
    "  for (r in 1:R) {\n",
    "    intervalo <- IC_bootstrap[[r]]\n",
    "    dentro_do_intervalo[r] <- (theta_estimado[r] >= intervalo[1]) && (theta_estimado[r] <= intervalo[2])\n",
    "  }\n",
    "\n",
    "  cobertura_percentual <- mean(dentro_do_intervalo) * 100\n",
    "  \n",
    "  return(list(\n",
    "    cobertura_percentual = cobertura_percentual,\n",
    "    total_dentro = sum(dentro_do_intervalo),\n",
    "    total_r = R\n",
    "  ))\n",
    "}\n"
   ]
  },
  {
   "cell_type": "code",
   "execution_count": 69,
   "id": "42f60b8d",
   "metadata": {},
   "outputs": [
    {
     "data": {
      "text/html": [
       "<dl>\n",
       "\t<dt>$cobertura_percentual</dt>\n",
       "\t\t<dd>0</dd>\n",
       "\t<dt>$total_dentro</dt>\n",
       "\t\t<dd>0</dd>\n",
       "\t<dt>$total_r</dt>\n",
       "\t\t<dd>2</dd>\n",
       "</dl>\n"
      ],
      "text/latex": [
       "\\begin{description}\n",
       "\\item[\\$cobertura\\_percentual] 0\n",
       "\\item[\\$total\\_dentro] 0\n",
       "\\item[\\$total\\_r] 2\n",
       "\\end{description}\n"
      ],
      "text/markdown": [
       "$cobertura_percentual\n",
       ":   0\n",
       "$total_dentro\n",
       ":   0\n",
       "$total_r\n",
       ":   2\n",
       "\n",
       "\n"
      ],
      "text/plain": [
       "$cobertura_percentual\n",
       "[1] 0\n",
       "\n",
       "$total_dentro\n",
       "[1] 0\n",
       "\n",
       "$total_r\n",
       "[1] 2\n"
      ]
     },
     "metadata": {},
     "output_type": "display_data"
    }
   ],
   "source": [
    "conferindo_cobertura_bootstrap2(R=2)"
   ]
  },
  {
   "cell_type": "markdown",
   "id": "38d5d777",
   "metadata": {},
   "source": [
    "Já sabemos que o algorítmo está errado, logo fiz poucas iterações."
   ]
  },
  {
   "cell_type": "markdown",
   "id": "140fff70",
   "metadata": {},
   "source": [
    "# Questão 3"
   ]
  },
  {
   "cell_type": "markdown",
   "id": "8bed1bb5",
   "metadata": {},
   "source": [
    "criando as funções:"
   ]
  },
  {
   "cell_type": "code",
   "execution_count": 47,
   "id": "af1a8309",
   "metadata": {},
   "outputs": [],
   "source": [
    "prev_glarma <- function(y, x, beta, theta, h = 2, seed = NULL) {\n",
    "\n",
    " futuro_x <- rep(mean(x[, 1], na.rm = TRUE), h)\n",
    "\n",
    "  if (!is.null(seed)) set.seed(seed)\n",
    "  \n",
    "  T <- length(y)\n",
    "  mu <- numeric(T)\n",
    "  e <- numeric(T)\n",
    "  z <- numeric(T)\n",
    "  \n",
    "  #passo 1, recontruir z,e,mu\n",
    "    \n",
    "  for (t in 1:T) {\n",
    "      \n",
    "    z_t <- if (t > 1) e[t - 1] * theta else 0\n",
    "      \n",
    "    eta <- beta * x[t] + z_t\n",
    "    mu[t] <- exp(eta)\n",
    "    e[t] <- (y[t] - mu[t]) / sqrt(mu[t])\n",
    "    z[t] <- z_t\n",
    "  }\n",
    "  \n",
    "  # passo 2, previsão\n",
    "  y_pred <- numeric(h)\n",
    "  mu_pred <- numeric(h)\n",
    "    \n",
    "  z_t <- z[T]\n",
    "  e_t <- e[T]\n",
    "\n",
    "  for (i in 1:h) {\n",
    "    \n",
    "    z_t <- e_t * theta\n",
    "      \n",
    "    eta <- beta * futuro_x[i] + z_t\n",
    "    mu_pred[i] <- exp(eta)\n",
    "\n",
    "    y_pred[i] <- rpois(1, lambda = mu_pred[i])  \n",
    "    e_t <- (y_pred[i] - mu_pred[i]) / sqrt(mu_pred[i]) \n",
    "\n",
    "  }\n",
    "  \n",
    "  return(data.frame(\n",
    "    step = 1:h,\n",
    "    x = futuro_x,\n",
    "    mu = mu_pred,\n",
    "    y_pred = y_pred\n",
    "  ))\n",
    "}\n"
   ]
  },
  {
   "cell_type": "code",
   "execution_count": 48,
   "id": "01cb86d6",
   "metadata": {},
   "outputs": [],
   "source": [
    "intervalo_preditivo_bootstrap <- function(H=2,T=100,B=20, beta = 1, phi = 0, theta = 0.3){\n",
    "    \n",
    "    theta_boot <- numeric(B)\n",
    "    Y_pred <- matrix(NA, nrow = H, ncol = B)\n",
    "    IC_pred <- vector(\"list\", H)\n",
    "    \n",
    "    \n",
    "    x_train <- rep(1,(T-H))\n",
    "    x_train <- as.matrix(x_train)\n",
    "    colnames(x_train) <- \"Intercept\"\n",
    "        \n",
    "    boot <- bootstrap_parametrico(T=100,B=20, beta = 1, phi = 0, theta = 0.3)\n",
    "    \n",
    "    Y <- boot$Amostra_original\n",
    "    Y_train = Y[1:(T-H)]\n",
    "    Y_test = Y[(T-H+1):T]\n",
    "\n",
    "    \n",
    "    theta_boot<-boot$Theta_bootstrap\n",
    "    \n",
    "    for (b in 1:B)\n",
    "        {\n",
    "        prev<-prev_glarma(y=Y_train,x=x_train,beta=beta,theta=theta_boot[b],h=H)\n",
    "        Y_pred[,b]<-prev$y_pred\n",
    "        }\n",
    "    for (h in 1:H)\n",
    "        {\n",
    "        IC_pred[[h]]<-quantile(Y_pred[h,], probs = c(0.025, 0.975))\n",
    "        }\n",
    "    return(list('Y_test'=Y_test,'IC_pred'=IC_pred))\n",
    "}"
   ]
  },
  {
   "cell_type": "code",
   "execution_count": 49,
   "id": "b46693d7",
   "metadata": {},
   "outputs": [],
   "source": [
    "conferindo_IP <- function(B = 20, T = 100, beta = 1, phi = 0, theta = 0.3, H  = 3) {\n",
    "  \n",
    "  resultado <- intervalo_preditivo_bootstrap(H=H,T=T,B=20, beta = beta, phi = phi, theta = theta)\n",
    "\n",
    "  Y_test <- resultado$Y_test\n",
    "  IC_pred <- resultado$IC_pred\n",
    "  \n",
    "  dentro_do_intervalo <- logical(H)\n",
    "  \n",
    "  for (h in 1:H) {\n",
    "    intervalo <- IC_pred[[h]]\n",
    "    dentro_do_intervalo[h] <- (Y_test[h] >= intervalo[1]) && (Y_test[h] <= intervalo[2])\n",
    "  }\n",
    "\n",
    "  cobertura_percentual <- mean(dentro_do_intervalo) * 100\n",
    "  \n",
    "  return(list(\n",
    "    Intervalos=resultado,\n",
    "    total_dentro = sum(dentro_do_intervalo),\n",
    "    total_H = H    \n",
    "  ))\n",
    "}\n"
   ]
  },
  {
   "cell_type": "code",
   "execution_count": 50,
   "id": "86b3e71d",
   "metadata": {},
   "outputs": [
    {
     "data": {
      "text/html": [
       "<dl>\n",
       "\t<dt>$Intervalos</dt>\n",
       "\t\t<dd><dl>\n",
       "\t<dt>$Y_test</dt>\n",
       "\t\t<dd><style>\n",
       ".list-inline {list-style: none; margin:0; padding: 0}\n",
       ".list-inline>li {display: inline-block}\n",
       ".list-inline>li:not(:last-child)::after {content: \"\\00b7\"; padding: 0 .5ex}\n",
       "</style>\n",
       "<ol class=list-inline><li>4</li><li>1</li><li>2</li><li>0</li><li>0</li></ol>\n",
       "</dd>\n",
       "\t<dt>$IC_pred</dt>\n",
       "\t\t<dd><ol>\n",
       "\t<li><style>\n",
       ".dl-inline {width: auto; margin:0; padding: 0}\n",
       ".dl-inline>dt, .dl-inline>dd {float: none; width: auto; display: inline-block}\n",
       ".dl-inline>dt::after {content: \":\\0020\"; padding-right: .5ex}\n",
       ".dl-inline>dt:not(:first-of-type) {padding-left: .5ex}\n",
       "</style><dl class=dl-inline><dt>2.5%</dt><dd>0</dd><dt>97.5%</dt><dd>4.525</dd></dl>\n",
       "</li>\n",
       "\t<li><style>\n",
       ".dl-inline {width: auto; margin:0; padding: 0}\n",
       ".dl-inline>dt, .dl-inline>dd {float: none; width: auto; display: inline-block}\n",
       ".dl-inline>dt::after {content: \":\\0020\"; padding-right: .5ex}\n",
       ".dl-inline>dt:not(:first-of-type) {padding-left: .5ex}\n",
       "</style><dl class=dl-inline><dt>2.5%</dt><dd>0</dd><dt>97.5%</dt><dd>7</dd></dl>\n",
       "</li>\n",
       "\t<li><style>\n",
       ".dl-inline {width: auto; margin:0; padding: 0}\n",
       ".dl-inline>dt, .dl-inline>dd {float: none; width: auto; display: inline-block}\n",
       ".dl-inline>dt::after {content: \":\\0020\"; padding-right: .5ex}\n",
       ".dl-inline>dt:not(:first-of-type) {padding-left: .5ex}\n",
       "</style><dl class=dl-inline><dt>2.5%</dt><dd>0</dd><dt>97.5%</dt><dd>11.675</dd></dl>\n",
       "</li>\n",
       "\t<li><style>\n",
       ".dl-inline {width: auto; margin:0; padding: 0}\n",
       ".dl-inline>dt, .dl-inline>dd {float: none; width: auto; display: inline-block}\n",
       ".dl-inline>dt::after {content: \":\\0020\"; padding-right: .5ex}\n",
       ".dl-inline>dt:not(:first-of-type) {padding-left: .5ex}\n",
       "</style><dl class=dl-inline><dt>2.5%</dt><dd>0</dd><dt>97.5%</dt><dd>8.525</dd></dl>\n",
       "</li>\n",
       "\t<li><style>\n",
       ".dl-inline {width: auto; margin:0; padding: 0}\n",
       ".dl-inline>dt, .dl-inline>dd {float: none; width: auto; display: inline-block}\n",
       ".dl-inline>dt::after {content: \":\\0020\"; padding-right: .5ex}\n",
       ".dl-inline>dt:not(:first-of-type) {padding-left: .5ex}\n",
       "</style><dl class=dl-inline><dt>2.5%</dt><dd>0</dd><dt>97.5%</dt><dd>4</dd></dl>\n",
       "</li>\n",
       "</ol>\n",
       "</dd>\n",
       "</dl>\n",
       "</dd>\n",
       "\t<dt>$total_dentro</dt>\n",
       "\t\t<dd>5</dd>\n",
       "\t<dt>$total_H</dt>\n",
       "\t\t<dd>5</dd>\n",
       "</dl>\n"
      ],
      "text/latex": [
       "\\begin{description}\n",
       "\\item[\\$Intervalos] \\begin{description}\n",
       "\\item[\\$Y\\_test] \\begin{enumerate*}\n",
       "\\item 4\n",
       "\\item 1\n",
       "\\item 2\n",
       "\\item 0\n",
       "\\item 0\n",
       "\\end{enumerate*}\n",
       "\n",
       "\\item[\\$IC\\_pred] \\begin{enumerate}\n",
       "\\item \\begin{description*}\n",
       "\\item[2.5\\textbackslash{}\\%] 0\n",
       "\\item[97.5\\textbackslash{}\\%] 4.525\n",
       "\\end{description*}\n",
       "\n",
       "\\item \\begin{description*}\n",
       "\\item[2.5\\textbackslash{}\\%] 0\n",
       "\\item[97.5\\textbackslash{}\\%] 7\n",
       "\\end{description*}\n",
       "\n",
       "\\item \\begin{description*}\n",
       "\\item[2.5\\textbackslash{}\\%] 0\n",
       "\\item[97.5\\textbackslash{}\\%] 11.675\n",
       "\\end{description*}\n",
       "\n",
       "\\item \\begin{description*}\n",
       "\\item[2.5\\textbackslash{}\\%] 0\n",
       "\\item[97.5\\textbackslash{}\\%] 8.525\n",
       "\\end{description*}\n",
       "\n",
       "\\item \\begin{description*}\n",
       "\\item[2.5\\textbackslash{}\\%] 0\n",
       "\\item[97.5\\textbackslash{}\\%] 4\n",
       "\\end{description*}\n",
       "\n",
       "\\end{enumerate}\n",
       "\n",
       "\\end{description}\n",
       "\n",
       "\\item[\\$total\\_dentro] 5\n",
       "\\item[\\$total\\_H] 5\n",
       "\\end{description}\n"
      ],
      "text/markdown": [
       "$Intervalos\n",
       ":   $Y_test\n",
       ":   1. 4\n",
       "2. 1\n",
       "3. 2\n",
       "4. 0\n",
       "5. 0\n",
       "\n",
       "\n",
       "\n",
       "$IC_pred\n",
       ":   1. 2.5%\n",
       ":   097.5%\n",
       ":   4.525\n",
       "\n",
       "\n",
       "2. 2.5%\n",
       ":   097.5%\n",
       ":   7\n",
       "\n",
       "\n",
       "3. 2.5%\n",
       ":   097.5%\n",
       ":   11.675\n",
       "\n",
       "\n",
       "4. 2.5%\n",
       ":   097.5%\n",
       ":   8.525\n",
       "\n",
       "\n",
       "5. 2.5%\n",
       ":   097.5%\n",
       ":   4\n",
       "\n",
       "\n",
       "\n",
       "\n",
       "\n",
       "\n",
       "\n",
       "\n",
       "$total_dentro\n",
       ":   5\n",
       "$total_H\n",
       ":   5\n",
       "\n",
       "\n"
      ],
      "text/plain": [
       "$Intervalos\n",
       "$Intervalos$Y_test\n",
       "[1] 4 1 2 0 0\n",
       "\n",
       "$Intervalos$IC_pred\n",
       "$Intervalos$IC_pred[[1]]\n",
       " 2.5% 97.5% \n",
       "0.000 4.525 \n",
       "\n",
       "$Intervalos$IC_pred[[2]]\n",
       " 2.5% 97.5% \n",
       "    0     7 \n",
       "\n",
       "$Intervalos$IC_pred[[3]]\n",
       "  2.5%  97.5% \n",
       " 0.000 11.675 \n",
       "\n",
       "$Intervalos$IC_pred[[4]]\n",
       " 2.5% 97.5% \n",
       "0.000 8.525 \n",
       "\n",
       "$Intervalos$IC_pred[[5]]\n",
       " 2.5% 97.5% \n",
       "    0     4 \n",
       "\n",
       "\n",
       "\n",
       "$total_dentro\n",
       "[1] 5\n",
       "\n",
       "$total_H\n",
       "[1] 5\n"
      ]
     },
     "metadata": {},
     "output_type": "display_data"
    }
   ],
   "source": [
    "conferindo_IP(H=5)"
   ]
  },
  {
   "cell_type": "markdown",
   "id": "ffa7780f",
   "metadata": {},
   "source": [
    "Para H passos, Y_teste está dentro dos intervalos de confiança feito com o bootstrap paramétrico."
   ]
  }
 ],
 "metadata": {
  "kernelspec": {
   "display_name": "R",
   "language": "R",
   "name": "ir"
  },
  "language_info": {
   "codemirror_mode": "r",
   "file_extension": ".r",
   "mimetype": "text/x-r-source",
   "name": "R",
   "pygments_lexer": "r",
   "version": "4.4.2"
  }
 },
 "nbformat": 4,
 "nbformat_minor": 5
}
