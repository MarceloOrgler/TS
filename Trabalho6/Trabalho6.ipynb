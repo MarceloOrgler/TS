{
 "cells": [
  {
   "cell_type": "code",
   "execution_count": 1,
   "id": "062e4530",
   "metadata": {},
   "outputs": [],
   "source": [
    "library(pacman)\n",
    "p_load(dplyr,glarma,boot)"
   ]
  },
  {
   "cell_type": "code",
   "execution_count": 2,
   "id": "83461b08",
   "metadata": {},
   "outputs": [
    {
     "data": {
      "text/html": [
       "'C:/Users/Marcelo/OneDrive/Área de Trabalho/ts/glarma'"
      ],
      "text/latex": [
       "'C:/Users/Marcelo/OneDrive/Área de Trabalho/ts/glarma'"
      ],
      "text/markdown": [
       "'C:/Users/Marcelo/OneDrive/Área de Trabalho/ts/glarma'"
      ],
      "text/plain": [
       "[1] \"C:/Users/Marcelo/OneDrive/Área de Trabalho/ts/glarma\""
      ]
     },
     "metadata": {},
     "output_type": "display_data"
    }
   ],
   "source": [
    "setwd('C:\\\\Users\\\\Marcelo\\\\OneDrive\\\\Área de Trabalho\\\\ts\\\\glarma')\n",
    "getwd()"
   ]
  },
  {
   "cell_type": "markdown",
   "id": "5d5a10f5",
   "metadata": {},
   "source": [
    "# Simulação"
   ]
  },
  {
   "cell_type": "markdown",
   "id": "5ed9db1a",
   "metadata": {},
   "source": [
    "Criando a função que simula o processo:"
   ]
  },
  {
   "cell_type": "code",
   "execution_count": 111,
   "id": "a1576590",
   "metadata": {},
   "outputs": [],
   "source": [
    "simulate_glarma <- function(T = 100, beta = 1, theta = 0.3, x = NULL) {\n",
    "  if (is.null(x)) x <- rep(1, T)\n",
    "  \n",
    "  z <- numeric(T)\n",
    "  mu <- numeric(T)\n",
    "  y <- numeric(T)\n",
    "  e <- numeric(T)\n",
    "  \n",
    "  for (t in 1:T) {\n",
    "    z_t <- 0\n",
    "    if (t > 1) z_t <- + e[t - 1] * theta\n",
    "    \n",
    "    eta <- beta * x[t] + z_t\n",
    "    mu[t] <- exp(eta)\n",
    "    y[t] <- rpois(1, lambda = mu[t])\n",
    "    e[t] <- (y[t] - mu[t]) / sqrt(mu[t])\n",
    "    z[t] <- z_t\n",
    "  }\n",
    "  \n",
    "  return(data.frame(time = 1:T, x = x, y = y, mu = mu, z = z,e=e))\n",
    "}"
   ]
  },
  {
   "cell_type": "code",
   "execution_count": 4,
   "id": "5a57eb63",
   "metadata": {},
   "outputs": [],
   "source": [
    "Amostra_original<-simulate_glarma(T=100,beta=1,theta=0.3,x=NULL)"
   ]
  },
  {
   "cell_type": "code",
   "execution_count": 5,
   "id": "4996cde4",
   "metadata": {},
   "outputs": [
    {
     "data": {
      "text/html": [
       "100"
      ],
      "text/latex": [
       "100"
      ],
      "text/markdown": [
       "100"
      ],
      "text/plain": [
       "[1] 100"
      ]
     },
     "metadata": {},
     "output_type": "display_data"
    }
   ],
   "source": [
    "length(Amostra_original$y)"
   ]
  },
  {
   "cell_type": "code",
   "execution_count": 6,
   "id": "ebc518fb",
   "metadata": {},
   "outputs": [
    {
     "data": {
      "text/plain": [
       "   Min. 1st Qu.  Median    Mean 3rd Qu.    Max. \n",
       "   0.00    2.00    3.00    3.05    4.00   11.00 "
      ]
     },
     "metadata": {},
     "output_type": "display_data"
    }
   ],
   "source": [
    "summary(Amostra_original$y)"
   ]
  },
  {
   "cell_type": "code",
   "execution_count": 7,
   "id": "8e9d168b",
   "metadata": {},
   "outputs": [],
   "source": [
    "X <- Amostra_original$x\n",
    "X <- as.matrix(X)\n",
    "colnames(X) <- \"Intercept\""
   ]
  },
  {
   "cell_type": "code",
   "execution_count": 8,
   "id": "96cb3383",
   "metadata": {},
   "outputs": [],
   "source": [
    "result=glarma(Amostra_original$y, X, phiLags = NULL ,thetaLags = c(1), type = \"Poi\")"
   ]
  },
  {
   "cell_type": "code",
   "execution_count": 9,
   "id": "86b1d515",
   "metadata": {},
   "outputs": [
    {
     "data": {
      "text/html": [
       "<strong>theta_1:</strong> 0.378487174407442"
      ],
      "text/latex": [
       "\\textbf{theta\\textbackslash{}\\_1:} 0.378487174407442"
      ],
      "text/markdown": [
       "**theta_1:** 0.378487174407442"
      ],
      "text/plain": [
       "  theta_1 \n",
       "0.3784872 "
      ]
     },
     "metadata": {},
     "output_type": "display_data"
    }
   ],
   "source": [
    "Theta<-result$delta[2]\n",
    "Theta"
   ]
  },
  {
   "cell_type": "code",
   "execution_count": 10,
   "id": "604dda45",
   "metadata": {},
   "outputs": [
    {
     "data": {
      "text/html": [
       "<strong>Intercept:</strong> 1.04742321770757"
      ],
      "text/latex": [
       "\\textbf{Intercept:} 1.04742321770757"
      ],
      "text/markdown": [
       "**Intercept:** 1.04742321770757"
      ],
      "text/plain": [
       "Intercept \n",
       " 1.047423 "
      ]
     },
     "metadata": {},
     "output_type": "display_data"
    }
   ],
   "source": [
    "Beta<-result$delta[1]\n",
    "Beta"
   ]
  },
  {
   "cell_type": "markdown",
   "id": "d5ee8190",
   "metadata": {},
   "source": [
    "# Bootstrap paramétrico:"
   ]
  },
  {
   "cell_type": "code",
   "execution_count": 19,
   "id": "4d8d17eb",
   "metadata": {},
   "outputs": [],
   "source": [
    "B=100"
   ]
  },
  {
   "cell_type": "code",
   "execution_count": 20,
   "id": "08323519",
   "metadata": {},
   "outputs": [],
   "source": [
    "T=length(Amostra_original$y)"
   ]
  },
  {
   "cell_type": "markdown",
   "id": "67732244",
   "metadata": {},
   "source": [
    "gerando as amostras bootstrap:"
   ]
  },
  {
   "cell_type": "code",
   "execution_count": 54,
   "id": "b405af7e",
   "metadata": {},
   "outputs": [],
   "source": [
    "mu<-Amostra_original$mu"
   ]
  },
  {
   "cell_type": "code",
   "execution_count": 55,
   "id": "fec83547",
   "metadata": {},
   "outputs": [
    {
     "data": {
      "text/html": [
       "100"
      ],
      "text/latex": [
       "100"
      ],
      "text/markdown": [
       "100"
      ],
      "text/plain": [
       "[1] 100"
      ]
     },
     "metadata": {},
     "output_type": "display_data"
    }
   ],
   "source": [
    "length(mu)"
   ]
  },
  {
   "cell_type": "code",
   "execution_count": 56,
   "id": "0264a510",
   "metadata": {},
   "outputs": [],
   "source": [
    "Y_Bootstrap <- matrix(NA, nrow = T, ncol = B)"
   ]
  },
  {
   "cell_type": "code",
   "execution_count": 93,
   "id": "8cf54775",
   "metadata": {},
   "outputs": [],
   "source": [
    "for (b in 1:B){\n",
    "    r = simulate_glarma(T=T,beta=1,phi=0,theta=Theta,x=NULL) \n",
    "    Y_Bootstrap[,b] <- r$y\n",
    "    }"
   ]
  },
  {
   "cell_type": "markdown",
   "id": "fc6d9a32",
   "metadata": {},
   "source": [
    "Estimando os parâmetros para cada amostra:"
   ]
  },
  {
   "cell_type": "code",
   "execution_count": 94,
   "id": "c58f2620",
   "metadata": {},
   "outputs": [],
   "source": [
    "recupera_par <- function(Y_col,X) {\n",
    "  fit <- tryCatch({\n",
    "    glarma(Y_col, X, phiLags = NULL, thetaLags = c(1), type = \"Poi\")\n",
    "  }, error = function(e) {\n",
    "    message(\"GLARMA failed to converge: \", e$message)\n",
    "    return(NULL)\n",
    "  })\n",
    "  \n",
    "  if (!is.null(fit) && !is.null(fit$delta) && length(fit$delta) >= 2 && is.numeric(fit$delta)) {\n",
    "    return(c(beta = fit$delta[1],theta = fit$delta[2])\n",
    "    )\n",
    "  } else {\n",
    "    return(c(beta = NA,theta = NA)\n",
    "    )\n",
    "  }\n",
    "}"
   ]
  },
  {
   "cell_type": "code",
   "execution_count": 95,
   "id": "a03d7c06",
   "metadata": {},
   "outputs": [
    {
     "name": "stderr",
     "output_type": "stream",
     "text": [
      "GLARMA failed to converge: Fisher Scoring fails to converge from the initial estimates.\n",
      "\n"
     ]
    }
   ],
   "source": [
    "par_estimates <- t(apply(Y_Bootstrap, 2, function(y_col) recupera_par(y_col, X)))"
   ]
  },
  {
   "cell_type": "code",
   "execution_count": 105,
   "id": "70020c7e",
   "metadata": {},
   "outputs": [],
   "source": [
    "beta=par_estimates[,1]\n",
    "theta=par_estimates[,2]"
   ]
  },
  {
   "cell_type": "code",
   "execution_count": 106,
   "id": "ce26c1bf",
   "metadata": {},
   "outputs": [],
   "source": [
    "par_estimates=list('beta'=beta[!is.na(beta)],'theta'=theta[!is.na(theta)])"
   ]
  },
  {
   "cell_type": "code",
   "execution_count": 107,
   "id": "7a6a2fb9",
   "metadata": {},
   "outputs": [
    {
     "data": {
      "text/html": [
       "0.992065155748453"
      ],
      "text/latex": [
       "0.992065155748453"
      ],
      "text/markdown": [
       "0.992065155748453"
      ],
      "text/plain": [
       "[1] 0.9920652"
      ]
     },
     "metadata": {},
     "output_type": "display_data"
    },
    {
     "data": {
      "text/html": [
       "0.383534014364543"
      ],
      "text/latex": [
       "0.383534014364543"
      ],
      "text/markdown": [
       "0.383534014364543"
      ],
      "text/plain": [
       "[1] 0.383534"
      ]
     },
     "metadata": {},
     "output_type": "display_data"
    }
   ],
   "source": [
    "mean(par_estimates$beta,na.rm=TRUE)\n",
    "mean(par_estimates$theta,na.rm=TRUE)"
   ]
  },
  {
   "cell_type": "code",
   "execution_count": 108,
   "id": "b69d7a60",
   "metadata": {},
   "outputs": [
    {
     "data": {
      "text/html": [
       "<style>\n",
       ".dl-inline {width: auto; margin:0; padding: 0}\n",
       ".dl-inline>dt, .dl-inline>dd {float: none; width: auto; display: inline-block}\n",
       ".dl-inline>dt::after {content: \":\\0020\"; padding-right: .5ex}\n",
       ".dl-inline>dt:not(:first-of-type) {padding-left: .5ex}\n",
       "</style><dl class=dl-inline><dt>2.5%</dt><dd>0.308720400660097</dd><dt>97.5%</dt><dd>0.447289582904393</dd></dl>\n"
      ],
      "text/latex": [
       "\\begin{description*}\n",
       "\\item[2.5\\textbackslash{}\\%] 0.308720400660097\n",
       "\\item[97.5\\textbackslash{}\\%] 0.447289582904393\n",
       "\\end{description*}\n"
      ],
      "text/markdown": [
       "2.5%\n",
       ":   0.30872040066009797.5%\n",
       ":   0.447289582904393\n",
       "\n"
      ],
      "text/plain": [
       "     2.5%     97.5% \n",
       "0.3087204 0.4472896 "
      ]
     },
     "metadata": {},
     "output_type": "display_data"
    }
   ],
   "source": [
    "quantile(par_estimates$theta,probs=c(0.025,0.975))"
   ]
  },
  {
   "cell_type": "code",
   "execution_count": 110,
   "id": "a970b2ff",
   "metadata": {},
   "outputs": [
    {
     "data": {
      "image/png": "[encoded data removed]",
      "text/plain": [
       "Plot with title \"Histogram of par_estimates$theta\""
      ]
     },
     "metadata": {
      "image/png": {
       "height": 420,
       "width": 420
      }
     },
     "output_type": "display_data"
    }
   ],
   "source": [
    "hist(par_estimates$theta)"
   ]
  },
  {
   "cell_type": "markdown",
   "id": "eaa55909",
   "metadata": {},
   "source": [
    "Nosso bootstrap está funcionando, vamos fazer o experimento monte carlo:"
   ]
  },
  {
   "cell_type": "markdown",
   "id": "3b49f047",
   "metadata": {},
   "source": [
    "### Questão 1"
   ]
  },
  {
   "cell_type": "code",
   "execution_count": 126,
   "id": "915552e6",
   "metadata": {},
   "outputs": [],
   "source": [
    "bootstrap_parametrico <- function(B=20,T=100,beta=1,phi=0,theta=0.3)\n",
    "\n",
    "    {\n",
    "    Theta_bootstrap<-numeric(B)\n",
    "\n",
    "    Amostra_original<-simulate_glarma(T=100,beta=1,theta=0.3,x=NULL)\n",
    "    X <- Amostra_original$x\n",
    "    X <- as.matrix(X)\n",
    "    colnames(X) <- \"Intercept\"\n",
    "\n",
    "    result=glarma(Amostra_original$y, X, phiLags = NULL ,thetaLags = c(1), type = \"Poi\")\n",
    "    beta_estimado<-result$delta[1]\n",
    "    theta_estimado<-result$delta[2]\n",
    "\n",
    "    T=length(Amostra_original$y)\n",
    "    mu<-result$mu\n",
    "\n",
    "    Y_Bootstrap <- matrix(NA, nrow = T, ncol = B)\n",
    "\n",
    "    for (b in 1:B)\n",
    "        {\n",
    "        s = simulate_glarma(T=T,beta=beta_estimado,theta=theta_estimado,x=NULL) \n",
    "        Y_Bootstrap[,b] <- s$y\n",
    "        }\n",
    "    \n",
    "    par_bootstrap <- t(apply(Y_Bootstrap, 2, function(y_col) recupera_par(y_col, X)))\n",
    "                             \n",
    "    beta_bootstrap=par_bootstrap[,1]\n",
    "    theta_bootstrap=par_bootstrap[,2]\n",
    "    \n",
    "    par_bootstrap=list('beta'=beta_bootstrap[!is.na(beta_bootstrap)],'theta'=theta_bootstrap[!is.na(theta_bootstrap)])\n",
    "\n",
    "    \n",
    "    mean_beta <- mean(par_bootstrap$beta)\n",
    "    mean_theta <- mean(par_bootstrap$theta)\n",
    "\n",
    "    IC_theta<-quantile(par_bootstrap$theta, probs = c(0.025, 0.975))\n",
    "    IC_beta<-quantile(par_bootstrap$beta, probs = c(0.025, 0.975))\n",
    "\n",
    "            \n",
    "    return(list('beta_estimado'=beta_estimado,\n",
    "                'Beta_bootstrap'=par_bootstrap[1],\n",
    "                'theta_estimado'=theta_estimado,\n",
    "                'Theta_bootstrap'=par_bootstrap[2],\n",
    "                'mean_beta'=mean_beta,\n",
    "                'mean_theta'=mean_theta,\n",
    "                'IC_theta'=IC_theta,\n",
    "                'IC_beta'=IC_beta,\n",
    "                'Amostra_original'= Amostra_original$y))\n",
    "    }"
   ]
  },
  {
   "cell_type": "code",
   "execution_count": 127,
   "id": "238e6f9c",
   "metadata": {
    "scrolled": true
   },
   "outputs": [
    {
     "data": {
      "text/html": [
       "<dl>\n",
       "\t<dt>$beta_estimado</dt>\n",
       "\t\t<dd><strong>Intercept:</strong> 0.990798272696443</dd>\n",
       "\t<dt>$Beta_bootstrap</dt>\n",
       "\t\t<dd><strong>$beta</strong> = <style>\n",
       ".list-inline {list-style: none; margin:0; padding: 0}\n",
       ".list-inline>li {display: inline-block}\n",
       ".list-inline>li:not(:last-child)::after {content: \"\\00b7\"; padding: 0 .5ex}\n",
       "</style>\n",
       "<ol class=list-inline><li>0.99885721007686</li><li>0.942418870079599</li><li>0.739518495703871</li><li>1.01631855554058</li><li>1.15971464199852</li><li>0.996353413454468</li><li>1.01166339137421</li><li>1.03140930831813</li><li>1.08343270568172</li><li>0.966745592491012</li><li>0.891243558746235</li><li>1.0681875110608</li><li>0.864071546874919</li><li>0.950910421283089</li><li>0.969700604276841</li><li>0.816513108194012</li><li>0.988178108387098</li><li>0.826030715264846</li><li>0.937218016312663</li><li>0.978026429589582</li></ol>\n",
       "</dd>\n",
       "\t<dt>$theta_estimado</dt>\n",
       "\t\t<dd><strong>theta_1:</strong> 0.352713411528226</dd>\n",
       "\t<dt>$Theta_bootstrap</dt>\n",
       "\t\t<dd><strong>$theta</strong> = <style>\n",
       ".list-inline {list-style: none; margin:0; padding: 0}\n",
       ".list-inline>li {display: inline-block}\n",
       ".list-inline>li:not(:last-child)::after {content: \"\\00b7\"; padding: 0 .5ex}\n",
       "</style>\n",
       "<ol class=list-inline><li>0.378847764808181</li><li>0.375526933295924</li><li>0.461221967126405</li><li>0.321191232444426</li><li>0.417119391794464</li><li>0.263200397462603</li><li>0.376466540075989</li><li>0.387073267254479</li><li>0.345117034127982</li><li>0.38358347395943</li><li>0.353750114346866</li><li>0.404630910706788</li><li>0.353297940876903</li><li>0.350572276089271</li><li>0.403178419791937</li><li>0.316719940345529</li><li>0.365930595865494</li><li>0.387182037622573</li><li>0.341733868943139</li><li>0.327986927849981</li></ol>\n",
       "</dd>\n",
       "\t<dt>$mean_beta</dt>\n",
       "\t\t<dd>0.961825610235453</dd>\n",
       "\t<dt>$mean_theta</dt>\n",
       "\t\t<dd>0.365716551739418</dd>\n",
       "\t<dt>$IC_theta</dt>\n",
       "\t\t<dd><style>\n",
       ".dl-inline {width: auto; margin:0; padding: 0}\n",
       ".dl-inline>dt, .dl-inline>dd {float: none; width: auto; display: inline-block}\n",
       ".dl-inline>dt::after {content: \":\\0020\"; padding-right: .5ex}\n",
       ".dl-inline>dt:not(:first-of-type) {padding-left: .5ex}\n",
       "</style><dl class=dl-inline><dt>2.5%</dt><dd>0.288622180331993</dd><dt>97.5%</dt><dd>0.440273243843733</dd></dl>\n",
       "</dd>\n",
       "\t<dt>$IC_beta</dt>\n",
       "\t\t<dd><style>\n",
       ".dl-inline {width: auto; margin:0; padding: 0}\n",
       ".dl-inline>dt, .dl-inline>dd {float: none; width: auto; display: inline-block}\n",
       ".dl-inline>dt::after {content: \":\\0020\"; padding-right: .5ex}\n",
       ".dl-inline>dt:not(:first-of-type) {padding-left: .5ex}\n",
       "</style><dl class=dl-inline><dt>2.5%</dt><dd>0.776090936636688</dd><dt>97.5%</dt><dd>1.12348072224804</dd></dl>\n",
       "</dd>\n",
       "\t<dt>$Amostra_original</dt>\n",
       "\t\t<dd><style>\n",
       ".list-inline {list-style: none; margin:0; padding: 0}\n",
       ".list-inline>li {display: inline-block}\n",
       ".list-inline>li:not(:last-child)::after {content: \"\\00b7\"; padding: 0 .5ex}\n",
       "</style>\n",
       "<ol class=list-inline><li>3</li><li>5</li><li>10</li><li>9</li><li>4</li><li>6</li><li>3</li><li>2</li><li>1</li><li>2</li><li>3</li><li>2</li><li>2</li><li>2</li><li>1</li><li>0</li><li>3</li><li>4</li><li>3</li><li>3</li><li>2</li><li>4</li><li>3</li><li>1</li><li>2</li><li>3</li><li>3</li><li>1</li><li>1</li><li>1</li><li>1</li><li>1</li><li>2</li><li>3</li><li>2</li><li>0</li><li>3</li><li>2</li><li>2</li><li>1</li><li>0</li><li>4</li><li>7</li><li>4</li><li>2</li><li>4</li><li>3</li><li>2</li><li>4</li><li>2</li><li>4</li><li>3</li><li>2</li><li>4</li><li>3</li><li>2</li><li>5</li><li>7</li><li>6</li><li>4</li><li>4</li><li>1</li><li>0</li><li>3</li><li>4</li><li>3</li><li>0</li><li>1</li><li>3</li><li>0</li><li>1</li><li>0</li><li>3</li><li>4</li><li>2</li><li>0</li><li>2</li><li>5</li><li>5</li><li>7</li><li>7</li><li>2</li><li>2</li><li>6</li><li>7</li><li>5</li><li>1</li><li>1</li><li>1</li><li>2</li><li>5</li><li>4</li><li>2</li><li>3</li><li>2</li><li>4</li><li>3</li><li>1</li><li>2</li><li>1</li></ol>\n",
       "</dd>\n",
       "</dl>\n"
      ],
      "text/latex": [
       "\\begin{description}\n",
       "\\item[\\$beta\\_estimado] \\textbf{Intercept:} 0.990798272696443\n",
       "\\item[\\$Beta\\_bootstrap] \\textbf{\\$beta} = \\begin{enumerate*}\n",
       "\\item 0.99885721007686\n",
       "\\item 0.942418870079599\n",
       "\\item 0.739518495703871\n",
       "\\item 1.01631855554058\n",
       "\\item 1.15971464199852\n",
       "\\item 0.996353413454468\n",
       "\\item 1.01166339137421\n",
       "\\item 1.03140930831813\n",
       "\\item 1.08343270568172\n",
       "\\item 0.966745592491012\n",
       "\\item 0.891243558746235\n",
       "\\item 1.0681875110608\n",
       "\\item 0.864071546874919\n",
       "\\item 0.950910421283089\n",
       "\\item 0.969700604276841\n",
       "\\item 0.816513108194012\n",
       "\\item 0.988178108387098\n",
       "\\item 0.826030715264846\n",
       "\\item 0.937218016312663\n",
       "\\item 0.978026429589582\n",
       "\\end{enumerate*}\n",
       "\n",
       "\\item[\\$theta\\_estimado] \\textbf{theta\\textbackslash{}\\_1:} 0.352713411528226\n",
       "\\item[\\$Theta\\_bootstrap] \\textbf{\\$theta} = \\begin{enumerate*}\n",
       "\\item 0.378847764808181\n",
       "\\item 0.375526933295924\n",
       "\\item 0.461221967126405\n",
       "\\item 0.321191232444426\n",
       "\\item 0.417119391794464\n",
       "\\item 0.263200397462603\n",
       "\\item 0.376466540075989\n",
       "\\item 0.387073267254479\n",
       "\\item 0.345117034127982\n",
       "\\item 0.38358347395943\n",
       "\\item 0.353750114346866\n",
       "\\item 0.404630910706788\n",
       "\\item 0.353297940876903\n",
       "\\item 0.350572276089271\n",
       "\\item 0.403178419791937\n",
       "\\item 0.316719940345529\n",
       "\\item 0.365930595865494\n",
       "\\item 0.387182037622573\n",
       "\\item 0.341733868943139\n",
       "\\item 0.327986927849981\n",
       "\\end{enumerate*}\n",
       "\n",
       "\\item[\\$mean\\_beta] 0.961825610235453\n",
       "\\item[\\$mean\\_theta] 0.365716551739418\n",
       "\\item[\\$IC\\_theta] \\begin{description*}\n",
       "\\item[2.5\\textbackslash{}\\%] 0.288622180331993\n",
       "\\item[97.5\\textbackslash{}\\%] 0.440273243843733\n",
       "\\end{description*}\n",
       "\n",
       "\\item[\\$IC\\_beta] \\begin{description*}\n",
       "\\item[2.5\\textbackslash{}\\%] 0.776090936636688\n",
       "\\item[97.5\\textbackslash{}\\%] 1.12348072224804\n",
       "\\end{description*}\n",
       "\n",
       "\\item[\\$Amostra\\_original] \\begin{enumerate*}\n",
       "\\item 3\n",
       "\\item 5\n",
       "\\item 10\n",
       "\\item 9\n",
       "\\item 4\n",
       "\\item 6\n",
       "\\item 3\n",
       "\\item 2\n",
       "\\item 1\n",
       "\\item 2\n",
       "\\item 3\n",
       "\\item 2\n",
       "\\item 2\n",
       "\\item 2\n",
       "\\item 1\n",
       "\\item 0\n",
       "\\item 3\n",
       "\\item 4\n",
       "\\item 3\n",
       "\\item 3\n",
       "\\item 2\n",
       "\\item 4\n",
       "\\item 3\n",
       "\\item 1\n",
       "\\item 2\n",
       "\\item 3\n",
       "\\item 3\n",
       "\\item 1\n",
       "\\item 1\n",
       "\\item 1\n",
       "\\item 1\n",
       "\\item 1\n",
       "\\item 2\n",
       "\\item 3\n",
       "\\item 2\n",
       "\\item 0\n",
       "\\item 3\n",
       "\\item 2\n",
       "\\item 2\n",
       "\\item 1\n",
       "\\item 0\n",
       "\\item 4\n",
       "\\item 7\n",
       "\\item 4\n",
       "\\item 2\n",
       "\\item 4\n",
       "\\item 3\n",
       "\\item 2\n",
       "\\item 4\n",
       "\\item 2\n",
       "\\item 4\n",
       "\\item 3\n",
       "\\item 2\n",
       "\\item 4\n",
       "\\item 3\n",
       "\\item 2\n",
       "\\item 5\n",
       "\\item 7\n",
       "\\item 6\n",
       "\\item 4\n",
       "\\item 4\n",
       "\\item 1\n",
       "\\item 0\n",
       "\\item 3\n",
       "\\item 4\n",
       "\\item 3\n",
       "\\item 0\n",
       "\\item 1\n",
       "\\item 3\n",
       "\\item 0\n",
       "\\item 1\n",
       "\\item 0\n",
       "\\item 3\n",
       "\\item 4\n",
       "\\item 2\n",
       "\\item 0\n",
       "\\item 2\n",
       "\\item 5\n",
       "\\item 5\n",
       "\\item 7\n",
       "\\item 7\n",
       "\\item 2\n",
       "\\item 2\n",
       "\\item 6\n",
       "\\item 7\n",
       "\\item 5\n",
       "\\item 1\n",
       "\\item 1\n",
       "\\item 1\n",
       "\\item 2\n",
       "\\item 5\n",
       "\\item 4\n",
       "\\item 2\n",
       "\\item 3\n",
       "\\item 2\n",
       "\\item 4\n",
       "\\item 3\n",
       "\\item 1\n",
       "\\item 2\n",
       "\\item 1\n",
       "\\end{enumerate*}\n",
       "\n",
       "\\end{description}\n"
      ],
      "text/markdown": [
       "$beta_estimado\n",
       ":   **Intercept:** 0.990798272696443\n",
       "$Beta_bootstrap\n",
       ":   **$beta** = 1. 0.99885721007686\n",
       "2. 0.942418870079599\n",
       "3. 0.739518495703871\n",
       "4. 1.01631855554058\n",
       "5. 1.15971464199852\n",
       "6. 0.996353413454468\n",
       "7. 1.01166339137421\n",
       "8. 1.03140930831813\n",
       "9. 1.08343270568172\n",
       "10. 0.966745592491012\n",
       "11. 0.891243558746235\n",
       "12. 1.0681875110608\n",
       "13. 0.864071546874919\n",
       "14. 0.950910421283089\n",
       "15. 0.969700604276841\n",
       "16. 0.816513108194012\n",
       "17. 0.988178108387098\n",
       "18. 0.826030715264846\n",
       "19. 0.937218016312663\n",
       "20. 0.978026429589582\n",
       "\n",
       "\n",
       "\n",
       "$theta_estimado\n",
       ":   **theta_1:** 0.352713411528226\n",
       "$Theta_bootstrap\n",
       ":   **$theta** = 1. 0.378847764808181\n",
       "2. 0.375526933295924\n",
       "3. 0.461221967126405\n",
       "4. 0.321191232444426\n",
       "5. 0.417119391794464\n",
       "6. 0.263200397462603\n",
       "7. 0.376466540075989\n",
       "8. 0.387073267254479\n",
       "9. 0.345117034127982\n",
       "10. 0.38358347395943\n",
       "11. 0.353750114346866\n",
       "12. 0.404630910706788\n",
       "13. 0.353297940876903\n",
       "14. 0.350572276089271\n",
       "15. 0.403178419791937\n",
       "16. 0.316719940345529\n",
       "17. 0.365930595865494\n",
       "18. 0.387182037622573\n",
       "19. 0.341733868943139\n",
       "20. 0.327986927849981\n",
       "\n",
       "\n",
       "\n",
       "$mean_beta\n",
       ":   0.961825610235453\n",
       "$mean_theta\n",
       ":   0.365716551739418\n",
       "$IC_theta\n",
       ":   2.5%\n",
       ":   0.28862218033199397.5%\n",
       ":   0.440273243843733\n",
       "\n",
       "\n",
       "$IC_beta\n",
       ":   2.5%\n",
       ":   0.77609093663668897.5%\n",
       ":   1.12348072224804\n",
       "\n",
       "\n",
       "$Amostra_original\n",
       ":   1. 3\n",
       "2. 5\n",
       "3. 10\n",
       "4. 9\n",
       "5. 4\n",
       "6. 6\n",
       "7. 3\n",
       "8. 2\n",
       "9. 1\n",
       "10. 2\n",
       "11. 3\n",
       "12. 2\n",
       "13. 2\n",
       "14. 2\n",
       "15. 1\n",
       "16. 0\n",
       "17. 3\n",
       "18. 4\n",
       "19. 3\n",
       "20. 3\n",
       "21. 2\n",
       "22. 4\n",
       "23. 3\n",
       "24. 1\n",
       "25. 2\n",
       "26. 3\n",
       "27. 3\n",
       "28. 1\n",
       "29. 1\n",
       "30. 1\n",
       "31. 1\n",
       "32. 1\n",
       "33. 2\n",
       "34. 3\n",
       "35. 2\n",
       "36. 0\n",
       "37. 3\n",
       "38. 2\n",
       "39. 2\n",
       "40. 1\n",
       "41. 0\n",
       "42. 4\n",
       "43. 7\n",
       "44. 4\n",
       "45. 2\n",
       "46. 4\n",
       "47. 3\n",
       "48. 2\n",
       "49. 4\n",
       "50. 2\n",
       "51. 4\n",
       "52. 3\n",
       "53. 2\n",
       "54. 4\n",
       "55. 3\n",
       "56. 2\n",
       "57. 5\n",
       "58. 7\n",
       "59. 6\n",
       "60. 4\n",
       "61. 4\n",
       "62. 1\n",
       "63. 0\n",
       "64. 3\n",
       "65. 4\n",
       "66. 3\n",
       "67. 0\n",
       "68. 1\n",
       "69. 3\n",
       "70. 0\n",
       "71. 1\n",
       "72. 0\n",
       "73. 3\n",
       "74. 4\n",
       "75. 2\n",
       "76. 0\n",
       "77. 2\n",
       "78. 5\n",
       "79. 5\n",
       "80. 7\n",
       "81. 7\n",
       "82. 2\n",
       "83. 2\n",
       "84. 6\n",
       "85. 7\n",
       "86. 5\n",
       "87. 1\n",
       "88. 1\n",
       "89. 1\n",
       "90. 2\n",
       "91. 5\n",
       "92. 4\n",
       "93. 2\n",
       "94. 3\n",
       "95. 2\n",
       "96. 4\n",
       "97. 3\n",
       "98. 1\n",
       "99. 2\n",
       "100. 1\n",
       "\n",
       "\n",
       "\n",
       "\n",
       "\n"
      ],
      "text/plain": [
       "$beta_estimado\n",
       "Intercept \n",
       "0.9907983 \n",
       "\n",
       "$Beta_bootstrap\n",
       "$Beta_bootstrap$beta\n",
       " [1] 0.9988572 0.9424189 0.7395185 1.0163186 1.1597146 0.9963534 1.0116634\n",
       " [8] 1.0314093 1.0834327 0.9667456 0.8912436 1.0681875 0.8640715 0.9509104\n",
       "[15] 0.9697006 0.8165131 0.9881781 0.8260307 0.9372180 0.9780264\n",
       "\n",
       "\n",
       "$theta_estimado\n",
       "  theta_1 \n",
       "0.3527134 \n",
       "\n",
       "$Theta_bootstrap\n",
       "$Theta_bootstrap$theta\n",
       " [1] 0.3788478 0.3755269 0.4612220 0.3211912 0.4171194 0.2632004 0.3764665\n",
       " [8] 0.3870733 0.3451170 0.3835835 0.3537501 0.4046309 0.3532979 0.3505723\n",
       "[15] 0.4031784 0.3167199 0.3659306 0.3871820 0.3417339 0.3279869\n",
       "\n",
       "\n",
       "$mean_beta\n",
       "[1] 0.9618256\n",
       "\n",
       "$mean_theta\n",
       "[1] 0.3657166\n",
       "\n",
       "$IC_theta\n",
       "     2.5%     97.5% \n",
       "0.2886222 0.4402732 \n",
       "\n",
       "$IC_beta\n",
       "     2.5%     97.5% \n",
       "0.7760909 1.1234807 \n",
       "\n",
       "$Amostra_original\n",
       "  [1]  3  5 10  9  4  6  3  2  1  2  3  2  2  2  1  0  3  4  3  3  2  4  3  1  2\n",
       " [26]  3  3  1  1  1  1  1  2  3  2  0  3  2  2  1  0  4  7  4  2  4  3  2  4  2\n",
       " [51]  4  3  2  4  3  2  5  7  6  4  4  1  0  3  4  3  0  1  3  0  1  0  3  4  2\n",
       " [76]  0  2  5  5  7  7  2  2  6  7  5  1  1  1  2  5  4  2  3  2  4  3  1  2  1\n"
      ]
     },
     "metadata": {},
     "output_type": "display_data"
    }
   ],
   "source": [
    "bootstrap_parametrico()"
   ]
  },
  {
   "cell_type": "code",
   "execution_count": 150,
   "id": "d6269018",
   "metadata": {},
   "outputs": [],
   "source": [
    "Questao1 <- function(B = 20, T = 100, beta = 1, phi = 0, theta = 0.3, R = 2) {\n",
    "  \n",
    "  theta_estimado <- numeric(R)\n",
    "  beta_estimado <- numeric(R)\n",
    "  mean_theta_bootstrap <- numeric(R)\n",
    "  mean_beta_bootstrap <- numeric(R)\n",
    "  IC_theta_bootstrap <- vector(\"list\", R)\n",
    "  IC_beta_bootstrap <- vector(\"list\", R)\n",
    "  theta_dif_boot_true <- numeric(R)\n",
    "  theta_dif_boot_est <- numeric(R)\n",
    "  beta_dif_boot_true <- numeric(R)\n",
    "  beta_dif_boot_est <- numeric(R)\n",
    "\n",
    "  \n",
    "  for (r in 1:R) {\n",
    "    result <- tryCatch({\n",
    "      bootstrap_parametrico(B = B, T = T, beta = beta, phi = phi, theta = theta)\n",
    "    }, error = function(e) {\n",
    "      message(sprintf(\"Erro na repetição %d: %s\", r, e$message))\n",
    "      return(NULL)\n",
    "    })\n",
    "    \n",
    "    if (!is.null(result)) {\n",
    "      mean_theta_bootstrap[r] <- result$mean_theta\n",
    "      mean_beta_bootstrap[r] <- result$mean_theta\n",
    "      IC_theta_bootstrap[[r]] <- result$IC_theta\n",
    "      IC_beta_bootstrap[[r]] <- result$IC_beta\n",
    "      theta_estimado[r] <- result$theta_estimado\n",
    "      beta_estimado[r] <- result$beta_estimado\n",
    "\n",
    "    } else {\n",
    "      mean_theta_bootstrap[r] <- NA\n",
    "      IC_theta_bootstrap[[r]] <- c(NA, NA)\n",
    "      IC_beta_bootstrap[[r]] <- c(NA, NA)\n",
    "      theta_estimado[r] <- NA\n",
    "    }\n",
    "\n",
    "    theta_dif_boot_est[r] <- (mean_theta_bootstrap[r] - theta_estimado[r])^2\n",
    "    theta_dif_boot_true[r] <- (mean_theta_bootstrap[r] - theta)^2\n",
    "      \n",
    "    beta_dif_boot_est[r] <- (mean_beta_bootstrap[r] - beta_estimado[r])^2\n",
    "    beta_dif_boot_true[r] <- (mean_beta_bootstrap[r] - beta)^2\n",
    "  }\n",
    "  \n",
    "  return(list(\n",
    "    'theta_estimado' = theta_estimado,\n",
    "    'beta_estimado' = beta_estimado,\n",
    "    'mean_theta_bootstrap' = mean_theta_bootstrap,\n",
    "    'mean_beta_bootstrap' = mean_beta_bootstrap,\n",
    "    'IC_theta_bootstrap' = IC_theta_bootstrap,\n",
    "    'IC_beta_bootstrap' = IC_beta_bootstrap,\n",
    "    'mean_theta_dif_boot_est' = mean(theta_dif_boot_est, na.rm = TRUE),\n",
    "    'mean_theta_dif_boot_true' = mean(theta_dif_boot_true, na.rm = TRUE),\n",
    "    'mean_beta_dif_boot_est' = mean(beta_dif_boot_est, na.rm = TRUE),\n",
    "    'mean_beta_dif_boot_true' = mean(beta_dif_boot_true, na.rm = TRUE)\n",
    "  ))\n",
    "}\n",
    "\n"
   ]
  },
  {
   "cell_type": "markdown",
   "id": "0f82f222",
   "metadata": {},
   "source": [
    "conferindo as funções:"
   ]
  },
  {
   "cell_type": "code",
   "execution_count": 151,
   "id": "314b1105",
   "metadata": {},
   "outputs": [],
   "source": [
    "MM_bootstrap_parametrico<-Questao1()"
   ]
  },
  {
   "cell_type": "code",
   "execution_count": 152,
   "id": "1c57a67f",
   "metadata": {},
   "outputs": [
    {
     "data": {
      "text/html": [
       "<dl>\n",
       "\t<dt>$theta_estimado</dt>\n",
       "\t\t<dd><style>\n",
       ".list-inline {list-style: none; margin:0; padding: 0}\n",
       ".list-inline>li {display: inline-block}\n",
       ".list-inline>li:not(:last-child)::after {content: \"\\00b7\"; padding: 0 .5ex}\n",
       "</style>\n",
       "<ol class=list-inline><li>0.359061678383513</li><li>0.332773925200302</li></ol>\n",
       "</dd>\n",
       "\t<dt>$beta_estimado</dt>\n",
       "\t\t<dd><style>\n",
       ".list-inline {list-style: none; margin:0; padding: 0}\n",
       ".list-inline>li {display: inline-block}\n",
       ".list-inline>li:not(:last-child)::after {content: \"\\00b7\"; padding: 0 .5ex}\n",
       "</style>\n",
       "<ol class=list-inline><li>0.998769952368429</li><li>1.07085396465984</li></ol>\n",
       "</dd>\n",
       "\t<dt>$mean_theta_bootstrap</dt>\n",
       "\t\t<dd><style>\n",
       ".list-inline {list-style: none; margin:0; padding: 0}\n",
       ".list-inline>li {display: inline-block}\n",
       ".list-inline>li:not(:last-child)::after {content: \"\\00b7\"; padding: 0 .5ex}\n",
       "</style>\n",
       "<ol class=list-inline><li>0.367086491956764</li><li>0.344949631868966</li></ol>\n",
       "</dd>\n",
       "\t<dt>$mean_beta_bootstrap</dt>\n",
       "\t\t<dd><style>\n",
       ".list-inline {list-style: none; margin:0; padding: 0}\n",
       ".list-inline>li {display: inline-block}\n",
       ".list-inline>li:not(:last-child)::after {content: \"\\00b7\"; padding: 0 .5ex}\n",
       "</style>\n",
       "<ol class=list-inline><li>0.367086491956764</li><li>0.344949631868966</li></ol>\n",
       "</dd>\n",
       "\t<dt>$IC_theta_bootstrap</dt>\n",
       "\t\t<dd><ol>\n",
       "\t<li><style>\n",
       ".dl-inline {width: auto; margin:0; padding: 0}\n",
       ".dl-inline>dt, .dl-inline>dd {float: none; width: auto; display: inline-block}\n",
       ".dl-inline>dt::after {content: \":\\0020\"; padding-right: .5ex}\n",
       ".dl-inline>dt:not(:first-of-type) {padding-left: .5ex}\n",
       "</style><dl class=dl-inline><dt>2.5%</dt><dd>0.294709063310749</dd><dt>97.5%</dt><dd>0.433087096670893</dd></dl>\n",
       "</li>\n",
       "\t<li><style>\n",
       ".dl-inline {width: auto; margin:0; padding: 0}\n",
       ".dl-inline>dt, .dl-inline>dd {float: none; width: auto; display: inline-block}\n",
       ".dl-inline>dt::after {content: \":\\0020\"; padding-right: .5ex}\n",
       ".dl-inline>dt:not(:first-of-type) {padding-left: .5ex}\n",
       "</style><dl class=dl-inline><dt>2.5%</dt><dd>0.27685343984627</dd><dt>97.5%</dt><dd>0.453096087260778</dd></dl>\n",
       "</li>\n",
       "</ol>\n",
       "</dd>\n",
       "\t<dt>$IC_beta_bootstrap</dt>\n",
       "\t\t<dd><ol>\n",
       "\t<li><style>\n",
       ".dl-inline {width: auto; margin:0; padding: 0}\n",
       ".dl-inline>dt, .dl-inline>dd {float: none; width: auto; display: inline-block}\n",
       ".dl-inline>dt::after {content: \":\\0020\"; padding-right: .5ex}\n",
       ".dl-inline>dt:not(:first-of-type) {padding-left: .5ex}\n",
       "</style><dl class=dl-inline><dt>2.5%</dt><dd>0.812183805262997</dd><dt>97.5%</dt><dd>1.19693689198398</dd></dl>\n",
       "</li>\n",
       "\t<li><style>\n",
       ".dl-inline {width: auto; margin:0; padding: 0}\n",
       ".dl-inline>dt, .dl-inline>dd {float: none; width: auto; display: inline-block}\n",
       ".dl-inline>dt::after {content: \":\\0020\"; padding-right: .5ex}\n",
       ".dl-inline>dt:not(:first-of-type) {padding-left: .5ex}\n",
       "</style><dl class=dl-inline><dt>2.5%</dt><dd>0.958390999358721</dd><dt>97.5%</dt><dd>1.22955827598581</dd></dl>\n",
       "</li>\n",
       "</ol>\n",
       "</dd>\n",
       "\t<dt>$mean_theta_dif_boot_est</dt>\n",
       "\t\t<dd>0.000106322732883402</dd>\n",
       "\t<dt>$mean_theta_dif_boot_true</dt>\n",
       "\t\t<dd>0.00326053340411031</dd>\n",
       "\t<dt>$mean_beta_dif_boot_est</dt>\n",
       "\t\t<dd>0.462980547261109</dd>\n",
       "\t<dt>$mean_beta_dif_boot_true</dt>\n",
       "\t\t<dd>0.414835246726099</dd>\n",
       "</dl>\n"
      ],
      "text/latex": [
       "\\begin{description}\n",
       "\\item[\\$theta\\_estimado] \\begin{enumerate*}\n",
       "\\item 0.359061678383513\n",
       "\\item 0.332773925200302\n",
       "\\end{enumerate*}\n",
       "\n",
       "\\item[\\$beta\\_estimado] \\begin{enumerate*}\n",
       "\\item 0.998769952368429\n",
       "\\item 1.07085396465984\n",
       "\\end{enumerate*}\n",
       "\n",
       "\\item[\\$mean\\_theta\\_bootstrap] \\begin{enumerate*}\n",
       "\\item 0.367086491956764\n",
       "\\item 0.344949631868966\n",
       "\\end{enumerate*}\n",
       "\n",
       "\\item[\\$mean\\_beta\\_bootstrap] \\begin{enumerate*}\n",
       "\\item 0.367086491956764\n",
       "\\item 0.344949631868966\n",
       "\\end{enumerate*}\n",
       "\n",
       "\\item[\\$IC\\_theta\\_bootstrap] \\begin{enumerate}\n",
       "\\item \\begin{description*}\n",
       "\\item[2.5\\textbackslash{}\\%] 0.294709063310749\n",
       "\\item[97.5\\textbackslash{}\\%] 0.433087096670893\n",
       "\\end{description*}\n",
       "\n",
       "\\item \\begin{description*}\n",
       "\\item[2.5\\textbackslash{}\\%] 0.27685343984627\n",
       "\\item[97.5\\textbackslash{}\\%] 0.453096087260778\n",
       "\\end{description*}\n",
       "\n",
       "\\end{enumerate}\n",
       "\n",
       "\\item[\\$IC\\_beta\\_bootstrap] \\begin{enumerate}\n",
       "\\item \\begin{description*}\n",
       "\\item[2.5\\textbackslash{}\\%] 0.812183805262997\n",
       "\\item[97.5\\textbackslash{}\\%] 1.19693689198398\n",
       "\\end{description*}\n",
       "\n",
       "\\item \\begin{description*}\n",
       "\\item[2.5\\textbackslash{}\\%] 0.958390999358721\n",
       "\\item[97.5\\textbackslash{}\\%] 1.22955827598581\n",
       "\\end{description*}\n",
       "\n",
       "\\end{enumerate}\n",
       "\n",
       "\\item[\\$mean\\_theta\\_dif\\_boot\\_est] 0.000106322732883402\n",
       "\\item[\\$mean\\_theta\\_dif\\_boot\\_true] 0.00326053340411031\n",
       "\\item[\\$mean\\_beta\\_dif\\_boot\\_est] 0.462980547261109\n",
       "\\item[\\$mean\\_beta\\_dif\\_boot\\_true] 0.414835246726099\n",
       "\\end{description}\n"
      ],
      "text/markdown": [
       "$theta_estimado\n",
       ":   1. 0.359061678383513\n",
       "2. 0.332773925200302\n",
       "\n",
       "\n",
       "\n",
       "$beta_estimado\n",
       ":   1. 0.998769952368429\n",
       "2. 1.07085396465984\n",
       "\n",
       "\n",
       "\n",
       "$mean_theta_bootstrap\n",
       ":   1. 0.367086491956764\n",
       "2. 0.344949631868966\n",
       "\n",
       "\n",
       "\n",
       "$mean_beta_bootstrap\n",
       ":   1. 0.367086491956764\n",
       "2. 0.344949631868966\n",
       "\n",
       "\n",
       "\n",
       "$IC_theta_bootstrap\n",
       ":   1. 2.5%\n",
       ":   0.29470906331074997.5%\n",
       ":   0.433087096670893\n",
       "\n",
       "\n",
       "2. 2.5%\n",
       ":   0.2768534398462797.5%\n",
       ":   0.453096087260778\n",
       "\n",
       "\n",
       "\n",
       "\n",
       "\n",
       "$IC_beta_bootstrap\n",
       ":   1. 2.5%\n",
       ":   0.81218380526299797.5%\n",
       ":   1.19693689198398\n",
       "\n",
       "\n",
       "2. 2.5%\n",
       ":   0.95839099935872197.5%\n",
       ":   1.22955827598581\n",
       "\n",
       "\n",
       "\n",
       "\n",
       "\n",
       "$mean_theta_dif_boot_est\n",
       ":   0.000106322732883402\n",
       "$mean_theta_dif_boot_true\n",
       ":   0.00326053340411031\n",
       "$mean_beta_dif_boot_est\n",
       ":   0.462980547261109\n",
       "$mean_beta_dif_boot_true\n",
       ":   0.414835246726099\n",
       "\n",
       "\n"
      ],
      "text/plain": [
       "$theta_estimado\n",
       "[1] 0.3590617 0.3327739\n",
       "\n",
       "$beta_estimado\n",
       "[1] 0.998770 1.070854\n",
       "\n",
       "$mean_theta_bootstrap\n",
       "[1] 0.3670865 0.3449496\n",
       "\n",
       "$mean_beta_bootstrap\n",
       "[1] 0.3670865 0.3449496\n",
       "\n",
       "$IC_theta_bootstrap\n",
       "$IC_theta_bootstrap[[1]]\n",
       "     2.5%     97.5% \n",
       "0.2947091 0.4330871 \n",
       "\n",
       "$IC_theta_bootstrap[[2]]\n",
       "     2.5%     97.5% \n",
       "0.2768534 0.4530961 \n",
       "\n",
       "\n",
       "$IC_beta_bootstrap\n",
       "$IC_beta_bootstrap[[1]]\n",
       "     2.5%     97.5% \n",
       "0.8121838 1.1969369 \n",
       "\n",
       "$IC_beta_bootstrap[[2]]\n",
       "    2.5%    97.5% \n",
       "0.958391 1.229558 \n",
       "\n",
       "\n",
       "$mean_theta_dif_boot_est\n",
       "[1] 0.0001063227\n",
       "\n",
       "$mean_theta_dif_boot_true\n",
       "[1] 0.003260533\n",
       "\n",
       "$mean_beta_dif_boot_est\n",
       "[1] 0.4629805\n",
       "\n",
       "$mean_beta_dif_boot_true\n",
       "[1] 0.4148352\n"
      ]
     },
     "metadata": {},
     "output_type": "display_data"
    }
   ],
   "source": [
    "MM_bootstrap_parametrico"
   ]
  },
  {
   "cell_type": "markdown",
   "id": "57d368f1",
   "metadata": {},
   "source": [
    "Respondendo a questão:"
   ]
  },
  {
   "cell_type": "code",
   "execution_count": 161,
   "id": "10108e4c",
   "metadata": {},
   "outputs": [],
   "source": [
    "conferindo_cobertura_bootstrap <- function(B = 20, T = 100, beta = 1, phi = 0, theta = 0.3, R = 100) {\n",
    "  \n",
    "  resultado <- Questao1(B = B, T = T, beta = beta, phi = phi, theta = theta, R = R)\n",
    "\n",
    "  theta_estimado <- resultado$theta_estimado\n",
    "  beta_estimado <- resultado$beta_estimado\n",
    "    \n",
    "  IC_theta_bootstrap <- resultado$IC_theta_bootstrap\n",
    "  mean_theta_boot <- resultado$mean_theta_boot\n",
    "\n",
    "  IC_beta_bootstrap <- resultado$IC_beta_bootstrap\n",
    "  mean_beta_boot <- resultado$mean_beta_boot\n",
    "    \n",
    "  dentro_do_intervalo_theta <- logical(R)\n",
    "  dentro_do_intervalo_beta <- logical(R)\n",
    "\n",
    "    \n",
    " for (r in 1:R) {\n",
    "    intervalo_theta <- IC_theta_bootstrap[[r]]\n",
    "    intervalo_beta <- IC_beta_bootstrap[[r]]\n",
    "    \n",
    "    if (any(is.na(intervalo_theta))) {\n",
    "      dentro_do_intervalo_theta[r] <- NA\n",
    "      dentro_do_intervalo_beta[r] <- NA\n",
    "    } else {\n",
    "      dentro_do_intervalo_theta[r] <- (theta >= intervalo_theta[1]) && (theta <= intervalo_theta[2])\n",
    "      dentro_do_intervalo_beta[r] <- (beta >= intervalo_beta[1]) && (beta <= intervalo_beta[2])\n",
    "    }\n",
    "  }\n",
    "\n",
    "  cobertura_percentual_theta <- mean(dentro_do_intervalo_theta, na.rm = TRUE) * 100\n",
    "  cobertura_percentual_beta <- mean(dentro_do_intervalo_beta, na.rm = TRUE) * 100\n",
    "\n",
    "  \n",
    "  return(list(\n",
    "    cobertura_percentual_theta = cobertura_percentual_theta,\n",
    "    cobertura_percentual_beta = cobertura_percentual_beta,\n",
    "\n",
    "    total_dentro_theta = sum(dentro_do_intervalo_theta,na.rm=TRUE),\n",
    "    total_dentro_beta = sum(dentro_do_intervalo_beta,na.rm=TRUE),\n",
    "\n",
    "    total_r = sum(!is.na(dentro_do_intervalo_theta)),\n",
    "      \n",
    "    mean_dif_theta_boot_true = resultado$mean_theta_dif_boot_true,\n",
    "    mean_dif_theta_boot_est=resultado$mean_theta_dif_boot_est,\n",
    "    mean_dif_beta_boot_true = resultado$mean_beta_dif_boot_true ,\n",
    "    mean_dif_beta_boot_est=resultado$mean_beta_dif_boot_est\n",
    "  ))\n",
    "}\n"
   ]
  },
  {
   "cell_type": "code",
   "execution_count": null,
   "id": "0fcc13a3",
   "metadata": {},
   "outputs": [],
   "source": [
    "conferindo_cobertura_bootstrap(R=100,B=40)"
   ]
  },
  {
   "cell_type": "markdown",
   "id": "59479a7c",
   "metadata": {},
   "source": [
    "# Bootstrap Não Paramétrico"
   ]
  },
  {
   "cell_type": "code",
   "execution_count": 51,
   "id": "390641f5",
   "metadata": {},
   "outputs": [],
   "source": [
    "e<-Amostra_original$e"
   ]
  },
  {
   "cell_type": "code",
   "execution_count": 52,
   "id": "e477fe12",
   "metadata": {},
   "outputs": [],
   "source": [
    "y<-Amostra_original$y"
   ]
  },
  {
   "cell_type": "code",
   "execution_count": 53,
   "id": "90738fce",
   "metadata": {},
   "outputs": [],
   "source": [
    "mu<-Amostra_original$mu"
   ]
  },
  {
   "cell_type": "code",
   "execution_count": 54,
   "id": "c1bfe91d",
   "metadata": {},
   "outputs": [],
   "source": [
    "X <- Amostra_original$x\n",
    "X <- as.matrix(X)\n",
    "colnames(X) <- \"Intercept\""
   ]
  },
  {
   "cell_type": "code",
   "execution_count": 55,
   "id": "520feeba",
   "metadata": {},
   "outputs": [],
   "source": [
    "e_boot <- replicate(B, sample(e, size = T, replace = TRUE))"
   ]
  },
  {
   "cell_type": "code",
   "execution_count": 56,
   "id": "66e9f98d",
   "metadata": {},
   "outputs": [],
   "source": [
    "gera_y_boot <- function(e,mu)\n",
    "{\n",
    "    \n",
    "    T <- length(e)\n",
    "    y <- numeric(T)\n",
    "    \n",
    "    for (t in 1:T)\n",
    "        {\n",
    "        y[t] = mu[t] + e[t]*sqrt(mu[t])\n",
    "        y[t] = round(y[t])\n",
    "        }\n",
    "    y[y < 1e-12] <- 0\n",
    "    return(data.frame(y=y))\n",
    "} "
   ]
  },
  {
   "cell_type": "code",
   "execution_count": 57,
   "id": "5caaeece",
   "metadata": {},
   "outputs": [],
   "source": [
    "est_bootstrap <- function(y,X)\n",
    "{\n",
    "    fit <- glarma(y, X, phiLags = NULL ,thetaLags = c(1), type = \"Poi\")\n",
    "    beta <- fit$delta[1]\n",
    "    theta <- fit$delta[2]\n",
    "    \n",
    "    return(par = c(beta,theta))\n",
    "}"
   ]
  },
  {
   "cell_type": "code",
   "execution_count": 58,
   "id": "820958aa",
   "metadata": {},
   "outputs": [],
   "source": [
    "gera_mu_boot <- function(e,y,x,par)\n",
    "{\n",
    "    z <- numeric(T)\n",
    "\n",
    "    beta <- par[1]\n",
    "    theta <- par[2]\n",
    "    \n",
    "    for (t in 1:T) {\n",
    "        z_t <- 0\n",
    "        if (t > 1) z_t <-  e[t - 1] * theta\n",
    "\n",
    "        eta <- beta * x[t] + z_t\n",
    "        mu[t] <- exp(eta)\n",
    "        z[t] <- z_t\n",
    "      }\n",
    "    return(mu)\n",
    "}"
   ]
  },
  {
   "cell_type": "code",
   "execution_count": 61,
   "id": "ea3b9eb8",
   "metadata": {},
   "outputs": [],
   "source": [
    "bootstrap_n_parametrico <- function(e_boot, mu_init, y, X, B)\n",
    "{\n",
    "\n",
    "    T <- length(y)\n",
    "    Y_Bootstrap <- matrix(NA, nrow = T, ncol = B)\n",
    "    theta <- numeric(B)\n",
    "\n",
    "    mu_current <- mu_init  \n",
    "  \n",
    "  for (b in 1:B) {\n",
    "    e <- e_boot[, b]\n",
    "    \n",
    "    y_boot <- gera_y_boot(e, mu_current)\n",
    "    y_boot<-y_boot$y\n",
    "    Y_Bootstrap[, b] <- y_boot\n",
    "    \n",
    "    par <- est_bootstrap(y_boot, X)\n",
    "    theta[b] <- par[2]\n",
    "    \n",
    "    mu_current <- gera_mu_boot(e=e, y=y_boot, x=X, par=par)\n",
    "  }\n",
    "   \n",
    "  return(theta)\n",
    "}"
   ]
  },
  {
   "cell_type": "code",
   "execution_count": 62,
   "id": "0aa36770",
   "metadata": {},
   "outputs": [],
   "source": [
    "theta_bootstrap <- bootstrap_n_parametrico(e_boot=e_boot,mu=mu,y=y,X=X,B=B)"
   ]
  },
  {
   "cell_type": "code",
   "execution_count": 63,
   "id": "130e1f93",
   "metadata": {},
   "outputs": [
    {
     "data": {
      "text/html": [
       "-0.00848453725125449"
      ],
      "text/latex": [
       "-0.00848453725125449"
      ],
      "text/markdown": [
       "-0.00848453725125449"
      ],
      "text/plain": [
       "[1] -0.008484537"
      ]
     },
     "metadata": {},
     "output_type": "display_data"
    }
   ],
   "source": [
    "mean(theta_bootstrap)"
   ]
  },
  {
   "cell_type": "code",
   "execution_count": 64,
   "id": "1296650a",
   "metadata": {
    "scrolled": true
   },
   "outputs": [
    {
     "data": {
      "image/png": "[encoded data removed]",
      "text/plain": [
       "Plot with title \"Histogram of theta_bootstrap\""
      ]
     },
     "metadata": {
      "image/png": {
       "height": 420,
       "width": 420
      }
     },
     "output_type": "display_data"
    }
   ],
   "source": [
    "hist(theta_bootstrap)"
   ]
  },
  {
   "cell_type": "markdown",
   "id": "3ad5b60e",
   "metadata": {},
   "source": [
    "O bootstrap não paramétrico deu errado, como o esperado."
   ]
  },
  {
   "cell_type": "markdown",
   "id": "973fde64",
   "metadata": {},
   "source": [
    "### Questão 2"
   ]
  },
  {
   "cell_type": "code",
   "execution_count": 65,
   "id": "deec85f2",
   "metadata": {},
   "outputs": [],
   "source": [
    "Questao2 <- function(B=20,T=100,beta=1,phi=0,theta=0.3,R=2)\n",
    "    {\n",
    "    \n",
    "    theta_estimado<-numeric(R)\n",
    "    mean_theta_bootstrap<-numeric(R)\n",
    "    IC_bootstrap <- vector(\"list\", R)\n",
    "\n",
    "    for (r in 1:R)\n",
    "        {\n",
    "        Theta_bootstrap<-numeric(B)\n",
    "\n",
    "        Amostra_original<-simulate_glarma(T=100,beta=1,phi=0,theta=0.3,x=NULL)\n",
    "        X <- Amostra_original$x\n",
    "        X <- as.matrix(X)\n",
    "        colnames(X) <- \"Intercept\"\n",
    "\n",
    "        result=glarma(Amostra_original$y, X, phiLags = NULL ,thetaLags = c(1), type = \"Poi\")\n",
    "        theta_estimado[r]<-result$delta[2]\n",
    "        \n",
    "        e<-Amostra_original$e\n",
    "        e_boot <- replicate(B, sample(e, size = T, replace = TRUE))\n",
    "        \n",
    "        Theta_bootstrap<-bootstrap_n_parametrico(e_boot=e_boot,B=20,mu_init=Amostra_original$mu,y=Amostra_original$y,X=X)\n",
    "        \n",
    "        mean_theta_bootstrap[r] <- mean(Theta_bootstrap)\n",
    "        \n",
    "        IC_bootstrap[[r]]<-quantile(Theta_bootstrap, probs = c(0.025, 0.975))\n",
    "        }\n",
    "    return(list('theta_estimado'=theta_estimado,'mean_theta_bootstrap'=mean_theta_bootstrap,'IC_bootstrap'=IC_bootstrap))\n",
    "    } "
   ]
  },
  {
   "cell_type": "markdown",
   "id": "7297e1ec",
   "metadata": {},
   "source": [
    "Testando as funções:"
   ]
  },
  {
   "cell_type": "code",
   "execution_count": 66,
   "id": "61e4c0f5",
   "metadata": {},
   "outputs": [],
   "source": [
    "MM_bootstrap_n_parametrico<-Questao2()"
   ]
  },
  {
   "cell_type": "code",
   "execution_count": 67,
   "id": "d8dca004",
   "metadata": {},
   "outputs": [
    {
     "data": {
      "text/html": [
       "<dl>\n",
       "\t<dt>$theta_estimado</dt>\n",
       "\t\t<dd><style>\n",
       ".list-inline {list-style: none; margin:0; padding: 0}\n",
       ".list-inline>li {display: inline-block}\n",
       ".list-inline>li:not(:last-child)::after {content: \"\\00b7\"; padding: 0 .5ex}\n",
       "</style>\n",
       "<ol class=list-inline><li>0.278925297660273</li><li>0.316321698253395</li></ol>\n",
       "</dd>\n",
       "\t<dt>$mean_theta_bootstrap</dt>\n",
       "\t\t<dd><style>\n",
       ".list-inline {list-style: none; margin:0; padding: 0}\n",
       ".list-inline>li {display: inline-block}\n",
       ".list-inline>li:not(:last-child)::after {content: \"\\00b7\"; padding: 0 .5ex}\n",
       "</style>\n",
       "<ol class=list-inline><li>0.000663816010143372</li><li>0.030683902690339</li></ol>\n",
       "</dd>\n",
       "\t<dt>$IC_bootstrap</dt>\n",
       "\t\t<dd><ol>\n",
       "\t<li><style>\n",
       ".dl-inline {width: auto; margin:0; padding: 0}\n",
       ".dl-inline>dt, .dl-inline>dd {float: none; width: auto; display: inline-block}\n",
       ".dl-inline>dt::after {content: \":\\0020\"; padding-right: .5ex}\n",
       ".dl-inline>dt:not(:first-of-type) {padding-left: .5ex}\n",
       "</style><dl class=dl-inline><dt>2.5%</dt><dd>-0.0857034660864085</dd><dt>97.5%</dt><dd>0.0832748860233778</dd></dl>\n",
       "</li>\n",
       "\t<li><style>\n",
       ".dl-inline {width: auto; margin:0; padding: 0}\n",
       ".dl-inline>dt, .dl-inline>dd {float: none; width: auto; display: inline-block}\n",
       ".dl-inline>dt::after {content: \":\\0020\"; padding-right: .5ex}\n",
       ".dl-inline>dt:not(:first-of-type) {padding-left: .5ex}\n",
       "</style><dl class=dl-inline><dt>2.5%</dt><dd>-0.081325667723224</dd><dt>97.5%</dt><dd>0.307746798782541</dd></dl>\n",
       "</li>\n",
       "</ol>\n",
       "</dd>\n",
       "</dl>\n"
      ],
      "text/latex": [
       "\\begin{description}\n",
       "\\item[\\$theta\\_estimado] \\begin{enumerate*}\n",
       "\\item 0.278925297660273\n",
       "\\item 0.316321698253395\n",
       "\\end{enumerate*}\n",
       "\n",
       "\\item[\\$mean\\_theta\\_bootstrap] \\begin{enumerate*}\n",
       "\\item 0.000663816010143372\n",
       "\\item 0.030683902690339\n",
       "\\end{enumerate*}\n",
       "\n",
       "\\item[\\$IC\\_bootstrap] \\begin{enumerate}\n",
       "\\item \\begin{description*}\n",
       "\\item[2.5\\textbackslash{}\\%] -0.0857034660864085\n",
       "\\item[97.5\\textbackslash{}\\%] 0.0832748860233778\n",
       "\\end{description*}\n",
       "\n",
       "\\item \\begin{description*}\n",
       "\\item[2.5\\textbackslash{}\\%] -0.081325667723224\n",
       "\\item[97.5\\textbackslash{}\\%] 0.307746798782541\n",
       "\\end{description*}\n",
       "\n",
       "\\end{enumerate}\n",
       "\n",
       "\\end{description}\n"
      ],
      "text/markdown": [
       "$theta_estimado\n",
       ":   1. 0.278925297660273\n",
       "2. 0.316321698253395\n",
       "\n",
       "\n",
       "\n",
       "$mean_theta_bootstrap\n",
       ":   1. 0.000663816010143372\n",
       "2. 0.030683902690339\n",
       "\n",
       "\n",
       "\n",
       "$IC_bootstrap\n",
       ":   1. 2.5%\n",
       ":   -0.085703466086408597.5%\n",
       ":   0.0832748860233778\n",
       "\n",
       "\n",
       "2. 2.5%\n",
       ":   -0.08132566772322497.5%\n",
       ":   0.307746798782541\n",
       "\n",
       "\n",
       "\n",
       "\n",
       "\n",
       "\n",
       "\n"
      ],
      "text/plain": [
       "$theta_estimado\n",
       "[1] 0.2789253 0.3163217\n",
       "\n",
       "$mean_theta_bootstrap\n",
       "[1] 0.000663816 0.030683903\n",
       "\n",
       "$IC_bootstrap\n",
       "$IC_bootstrap[[1]]\n",
       "       2.5%       97.5% \n",
       "-0.08570347  0.08327489 \n",
       "\n",
       "$IC_bootstrap[[2]]\n",
       "       2.5%       97.5% \n",
       "-0.08132567  0.30774680 \n",
       "\n"
      ]
     },
     "metadata": {},
     "output_type": "display_data"
    }
   ],
   "source": [
    "MM_bootstrap_n_parametrico"
   ]
  },
  {
   "cell_type": "code",
   "execution_count": 68,
   "id": "5e895051",
   "metadata": {},
   "outputs": [],
   "source": [
    "conferindo_cobertura_bootstrap2 <- function(B = 20, T = 100, beta = 1, phi = 0, theta = 0.3, R = 100) {\n",
    "  \n",
    "  resultado <- Questao2(B = B, T = T, beta = beta, phi = phi, theta = theta, R = R)\n",
    "\n",
    "  theta_estimado <- resultado$theta_estimado\n",
    "  IC_bootstrap <- resultado$IC_bootstrap\n",
    "  \n",
    "  dentro_do_intervalo <- logical(R)\n",
    "  \n",
    "  for (r in 1:R) {\n",
    "    intervalo <- IC_bootstrap[[r]]\n",
    "    dentro_do_intervalo[r] <- (theta >= intervalo[1]) && (theta <= intervalo[2])\n",
    "  }\n",
    "\n",
    "  cobertura_percentual <- mean(dentro_do_intervalo) * 100\n",
    "  \n",
    "  return(list(\n",
    "    cobertura_percentual = cobertura_percentual,\n",
    "    total_dentro = sum(dentro_do_intervalo),\n",
    "    total_r = R\n",
    "  ))\n",
    "}\n"
   ]
  },
  {
   "cell_type": "code",
   "execution_count": 69,
   "id": "5a23762e",
   "metadata": {},
   "outputs": [
    {
     "data": {
      "text/html": [
       "<dl>\n",
       "\t<dt>$cobertura_percentual</dt>\n",
       "\t\t<dd>0</dd>\n",
       "\t<dt>$total_dentro</dt>\n",
       "\t\t<dd>0</dd>\n",
       "\t<dt>$total_r</dt>\n",
       "\t\t<dd>2</dd>\n",
       "</dl>\n"
      ],
      "text/latex": [
       "\\begin{description}\n",
       "\\item[\\$cobertura\\_percentual] 0\n",
       "\\item[\\$total\\_dentro] 0\n",
       "\\item[\\$total\\_r] 2\n",
       "\\end{description}\n"
      ],
      "text/markdown": [
       "$cobertura_percentual\n",
       ":   0\n",
       "$total_dentro\n",
       ":   0\n",
       "$total_r\n",
       ":   2\n",
       "\n",
       "\n"
      ],
      "text/plain": [
       "$cobertura_percentual\n",
       "[1] 0\n",
       "\n",
       "$total_dentro\n",
       "[1] 0\n",
       "\n",
       "$total_r\n",
       "[1] 2\n"
      ]
     },
     "metadata": {},
     "output_type": "display_data"
    }
   ],
   "source": [
    "conferindo_cobertura_bootstrap2(R=2)"
   ]
  },
  {
   "cell_type": "markdown",
   "id": "0e10bf53",
   "metadata": {},
   "source": [
    "Já sabemos que o algorítmo está errado, logo fiz poucas iterações."
   ]
  },
  {
   "cell_type": "markdown",
   "id": "0e6bee7d",
   "metadata": {},
   "source": [
    "# Questão 3"
   ]
  },
  {
   "cell_type": "markdown",
   "id": "0ed932a3",
   "metadata": {},
   "source": [
    "criando as funções:"
   ]
  },
  {
   "cell_type": "code",
   "execution_count": 31,
   "id": "2470ec58",
   "metadata": {},
   "outputs": [],
   "source": [
    "prev_glarma <- function(y, x, beta, theta, h = 2, seed = NULL) {\n",
    "\n",
    " futuro_x <- rep(mean(x[, 1], na.rm = TRUE), h)\n",
    "\n",
    "  if (!is.null(seed)) set.seed(seed)\n",
    "  \n",
    "  T <- length(y)\n",
    "  mu <- numeric(T)\n",
    "  e <- numeric(T)\n",
    "  z <- numeric(T)\n",
    "  \n",
    "  #passo 1, recontruir z,e,mu\n",
    "    \n",
    "  for (t in 1:T) {\n",
    "      \n",
    "    z_t <- if (t > 1) e[t - 1] * theta else 0\n",
    "      \n",
    "    eta <- beta * x[t] + z_t\n",
    "    mu[t] <- exp(eta)\n",
    "    e[t] <- (y[t] - mu[t]) / sqrt(mu[t])\n",
    "    z[t] <- z_t\n",
    "  }\n",
    "  \n",
    "  # passo 2, previsão\n",
    "  y_pred <- numeric(h)\n",
    "  mu_pred <- numeric(h)\n",
    "    \n",
    "  z_t <- z[T]\n",
    "  e_t <- e[T]\n",
    "\n",
    "  for (i in 1:h) {\n",
    "    \n",
    "    z_t <- e_t * theta\n",
    "      \n",
    "    eta <- beta * futuro_x[i] + z_t\n",
    "    mu_pred[i] <- exp(eta)\n",
    "\n",
    "    y_pred[i] <- rpois(1, lambda = mu_pred[i])  \n",
    "    e_t <- (y_pred[i] - mu_pred[i]) / sqrt(mu_pred[i]) \n",
    "\n",
    "  }\n",
    "  \n",
    "  return(data.frame(\n",
    "    step = 1:h,\n",
    "    x = futuro_x,\n",
    "    mu = mu_pred,\n",
    "    y_pred = y_pred\n",
    "  ))\n",
    "}\n"
   ]
  },
  {
   "cell_type": "code",
   "execution_count": 32,
   "id": "37d8abbd",
   "metadata": {},
   "outputs": [],
   "source": [
    "intervalo_preditivo_bootstrap <- function(H=2,T=100,B=20, beta = 1, phi = 0, theta = 0.3){\n",
    "    \n",
    "    theta_boot <- numeric(B)\n",
    "    Y_pred <- matrix(NA, nrow = H, ncol = B)\n",
    "    IC_pred <- vector(\"list\", H)\n",
    "    \n",
    "    \n",
    "    x_train <- rep(1,(T-H))\n",
    "    x_train <- as.matrix(x_train)\n",
    "    colnames(x_train) <- \"Intercept\"\n",
    "        \n",
    "    boot <- bootstrap_parametrico(T=100,B=20, beta = 1, phi = 0, theta = 0.3)\n",
    "    \n",
    "    Y <- boot$Amostra_original\n",
    "    Y_train = Y[1:(T-H)]\n",
    "    Y_test = Y[(T-H+1):T]\n",
    "\n",
    "    \n",
    "    theta_boot<-boot$Theta_bootstrap\n",
    "    \n",
    "    for (b in 1:B)\n",
    "        {\n",
    "        prev<-prev_glarma(y=Y_train,x=x_train,beta=beta,theta=theta_boot[b],h=H)\n",
    "        Y_pred[,b]<-prev$y_pred\n",
    "        }\n",
    "    for (h in 1:H)\n",
    "        {\n",
    "        IC_pred[[h]]<-quantile(Y_pred[h,], probs = c(0.025, 0.975))\n",
    "        }\n",
    "    return(list('Y_test'=Y_test,'IC_pred'=IC_pred))\n",
    "}"
   ]
  },
  {
   "cell_type": "code",
   "execution_count": 33,
   "id": "0c57dc93",
   "metadata": {},
   "outputs": [],
   "source": [
    "conferindo_IP <- function(B = 20, T = 100, beta = 1, phi = 0, theta = 0.3, H  = 3) {\n",
    "  \n",
    "  resultado <- intervalo_preditivo_bootstrap(H=H,T=T,B=20, beta = beta, phi = phi, theta = theta)\n",
    "\n",
    "  Y_test <- resultado$Y_test\n",
    "  IC_pred <- resultado$IC_pred\n",
    "  \n",
    "  dentro_do_intervalo <- logical(H)\n",
    "  \n",
    "  for (h in 1:H) {\n",
    "    intervalo <- IC_pred[[h]]\n",
    "    dentro_do_intervalo[h] <- (Y_test[h] >= intervalo[1]) && (Y_test[h] <= intervalo[2])\n",
    "  }\n",
    "\n",
    "  cobertura_percentual <- mean(dentro_do_intervalo) * 100\n",
    "  \n",
    "  return(list(\n",
    "    Intervalos=resultado,\n",
    "    total_dentro = sum(dentro_do_intervalo),\n",
    "    total_H = H    \n",
    "  ))\n",
    "}\n"
   ]
  },
  {
   "cell_type": "code",
   "execution_count": 34,
   "id": "46d1e65e",
   "metadata": {},
   "outputs": [
    {
     "data": {
      "text/html": [
       "<dl>\n",
       "\t<dt>$Intervalos</dt>\n",
       "\t\t<dd><dl>\n",
       "\t<dt>$Y_test</dt>\n",
       "\t\t<dd><style>\n",
       ".list-inline {list-style: none; margin:0; padding: 0}\n",
       ".list-inline>li {display: inline-block}\n",
       ".list-inline>li:not(:last-child)::after {content: \"\\00b7\"; padding: 0 .5ex}\n",
       "</style>\n",
       "<ol class=list-inline><li>1</li><li>5</li><li>6</li><li>3</li><li>4</li></ol>\n",
       "</dd>\n",
       "\t<dt>$IC_pred</dt>\n",
       "\t\t<dd><ol>\n",
       "\t<li><style>\n",
       ".dl-inline {width: auto; margin:0; padding: 0}\n",
       ".dl-inline>dt, .dl-inline>dd {float: none; width: auto; display: inline-block}\n",
       ".dl-inline>dt::after {content: \":\\0020\"; padding-right: .5ex}\n",
       ".dl-inline>dt:not(:first-of-type) {padding-left: .5ex}\n",
       "</style><dl class=dl-inline><dt>2.5%</dt><dd>0</dd><dt>97.5%</dt><dd>3</dd></dl>\n",
       "</li>\n",
       "\t<li><style>\n",
       ".dl-inline {width: auto; margin:0; padding: 0}\n",
       ".dl-inline>dt, .dl-inline>dd {float: none; width: auto; display: inline-block}\n",
       ".dl-inline>dt::after {content: \":\\0020\"; padding-right: .5ex}\n",
       ".dl-inline>dt:not(:first-of-type) {padding-left: .5ex}\n",
       "</style><dl class=dl-inline><dt>2.5%</dt><dd>0</dd><dt>97.5%</dt><dd>4</dd></dl>\n",
       "</li>\n",
       "\t<li><style>\n",
       ".dl-inline {width: auto; margin:0; padding: 0}\n",
       ".dl-inline>dt, .dl-inline>dd {float: none; width: auto; display: inline-block}\n",
       ".dl-inline>dt::after {content: \":\\0020\"; padding-right: .5ex}\n",
       ".dl-inline>dt:not(:first-of-type) {padding-left: .5ex}\n",
       "</style><dl class=dl-inline><dt>2.5%</dt><dd>0</dd><dt>97.5%</dt><dd>6</dd></dl>\n",
       "</li>\n",
       "\t<li><style>\n",
       ".dl-inline {width: auto; margin:0; padding: 0}\n",
       ".dl-inline>dt, .dl-inline>dd {float: none; width: auto; display: inline-block}\n",
       ".dl-inline>dt::after {content: \":\\0020\"; padding-right: .5ex}\n",
       ".dl-inline>dt:not(:first-of-type) {padding-left: .5ex}\n",
       "</style><dl class=dl-inline><dt>2.5%</dt><dd>0</dd><dt>97.5%</dt><dd>8.19999999999999</dd></dl>\n",
       "</li>\n",
       "\t<li><style>\n",
       ".dl-inline {width: auto; margin:0; padding: 0}\n",
       ".dl-inline>dt, .dl-inline>dd {float: none; width: auto; display: inline-block}\n",
       ".dl-inline>dt::after {content: \":\\0020\"; padding-right: .5ex}\n",
       ".dl-inline>dt:not(:first-of-type) {padding-left: .5ex}\n",
       "</style><dl class=dl-inline><dt>2.5%</dt><dd>0</dd><dt>97.5%</dt><dd>6</dd></dl>\n",
       "</li>\n",
       "</ol>\n",
       "</dd>\n",
       "</dl>\n",
       "</dd>\n",
       "\t<dt>$total_dentro</dt>\n",
       "\t\t<dd>4</dd>\n",
       "\t<dt>$total_H</dt>\n",
       "\t\t<dd>5</dd>\n",
       "</dl>\n"
      ],
      "text/latex": [
       "\\begin{description}\n",
       "\\item[\\$Intervalos] \\begin{description}\n",
       "\\item[\\$Y\\_test] \\begin{enumerate*}\n",
       "\\item 1\n",
       "\\item 5\n",
       "\\item 6\n",
       "\\item 3\n",
       "\\item 4\n",
       "\\end{enumerate*}\n",
       "\n",
       "\\item[\\$IC\\_pred] \\begin{enumerate}\n",
       "\\item \\begin{description*}\n",
       "\\item[2.5\\textbackslash{}\\%] 0\n",
       "\\item[97.5\\textbackslash{}\\%] 3\n",
       "\\end{description*}\n",
       "\n",
       "\\item \\begin{description*}\n",
       "\\item[2.5\\textbackslash{}\\%] 0\n",
       "\\item[97.5\\textbackslash{}\\%] 4\n",
       "\\end{description*}\n",
       "\n",
       "\\item \\begin{description*}\n",
       "\\item[2.5\\textbackslash{}\\%] 0\n",
       "\\item[97.5\\textbackslash{}\\%] 6\n",
       "\\end{description*}\n",
       "\n",
       "\\item \\begin{description*}\n",
       "\\item[2.5\\textbackslash{}\\%] 0\n",
       "\\item[97.5\\textbackslash{}\\%] 8.19999999999999\n",
       "\\end{description*}\n",
       "\n",
       "\\item \\begin{description*}\n",
       "\\item[2.5\\textbackslash{}\\%] 0\n",
       "\\item[97.5\\textbackslash{}\\%] 6\n",
       "\\end{description*}\n",
       "\n",
       "\\end{enumerate}\n",
       "\n",
       "\\end{description}\n",
       "\n",
       "\\item[\\$total\\_dentro] 4\n",
       "\\item[\\$total\\_H] 5\n",
       "\\end{description}\n"
      ],
      "text/markdown": [
       "$Intervalos\n",
       ":   $Y_test\n",
       ":   1. 1\n",
       "2. 5\n",
       "3. 6\n",
       "4. 3\n",
       "5. 4\n",
       "\n",
       "\n",
       "\n",
       "$IC_pred\n",
       ":   1. 2.5%\n",
       ":   097.5%\n",
       ":   3\n",
       "\n",
       "\n",
       "2. 2.5%\n",
       ":   097.5%\n",
       ":   4\n",
       "\n",
       "\n",
       "3. 2.5%\n",
       ":   097.5%\n",
       ":   6\n",
       "\n",
       "\n",
       "4. 2.5%\n",
       ":   097.5%\n",
       ":   8.19999999999999\n",
       "\n",
       "\n",
       "5. 2.5%\n",
       ":   097.5%\n",
       ":   6\n",
       "\n",
       "\n",
       "\n",
       "\n",
       "\n",
       "\n",
       "\n",
       "\n",
       "$total_dentro\n",
       ":   4\n",
       "$total_H\n",
       ":   5\n",
       "\n",
       "\n"
      ],
      "text/plain": [
       "$Intervalos\n",
       "$Intervalos$Y_test\n",
       "[1] 1 5 6 3 4\n",
       "\n",
       "$Intervalos$IC_pred\n",
       "$Intervalos$IC_pred[[1]]\n",
       " 2.5% 97.5% \n",
       "    0     3 \n",
       "\n",
       "$Intervalos$IC_pred[[2]]\n",
       " 2.5% 97.5% \n",
       "    0     4 \n",
       "\n",
       "$Intervalos$IC_pred[[3]]\n",
       " 2.5% 97.5% \n",
       "    0     6 \n",
       "\n",
       "$Intervalos$IC_pred[[4]]\n",
       " 2.5% 97.5% \n",
       "  0.0   8.2 \n",
       "\n",
       "$Intervalos$IC_pred[[5]]\n",
       " 2.5% 97.5% \n",
       "    0     6 \n",
       "\n",
       "\n",
       "\n",
       "$total_dentro\n",
       "[1] 4\n",
       "\n",
       "$total_H\n",
       "[1] 5\n"
      ]
     },
     "metadata": {},
     "output_type": "display_data"
    }
   ],
   "source": [
    "conferindo_IP(H=5)"
   ]
  },
  {
   "cell_type": "markdown",
   "id": "214f547d",
   "metadata": {},
   "source": [
    "Para H passos, Y_teste está dentro dos intervalos de confiança feito com o bootstrap paramétrico."
   ]
  }
 ],
 "metadata": {
  "kernelspec": {
   "display_name": "R",
   "language": "R",
   "name": "ir"
  },
  "language_info": {
   "codemirror_mode": "r",
   "file_extension": ".r",
   "mimetype": "text/x-r-source",
   "name": "R",
   "pygments_lexer": "r",
   "version": "4.4.2"
  }
 },
 "nbformat": 4,
 "nbformat_minor": 5
}
