{
 "cells": [
  {
   "cell_type": "code",
   "execution_count": 1,
   "id": "062e4530",
   "metadata": {},
   "outputs": [],
   "source": [
    "library(pacman)\n",
    "p_load(dplyr,glarma,boot)"
   ]
  },
  {
   "cell_type": "code",
   "execution_count": 2,
   "id": "83461b08",
   "metadata": {},
   "outputs": [
    {
     "data": {
      "text/html": [
       "'C:/Users/Marcelo/OneDrive/Área de Trabalho/ts/glarma'"
      ],
      "text/latex": [
       "'C:/Users/Marcelo/OneDrive/Área de Trabalho/ts/glarma'"
      ],
      "text/markdown": [
       "'C:/Users/Marcelo/OneDrive/Área de Trabalho/ts/glarma'"
      ],
      "text/plain": [
       "[1] \"C:/Users/Marcelo/OneDrive/Área de Trabalho/ts/glarma\""
      ]
     },
     "metadata": {},
     "output_type": "display_data"
    }
   ],
   "source": [
    "setwd('C:\\\\Users\\\\Marcelo\\\\OneDrive\\\\Área de Trabalho\\\\ts\\\\glarma')\n",
    "getwd()"
   ]
  },
  {
   "cell_type": "markdown",
   "id": "5d5a10f5",
   "metadata": {},
   "source": [
    "# Simulação"
   ]
  },
  {
   "cell_type": "markdown",
   "id": "5ed9db1a",
   "metadata": {},
   "source": [
    "Criando a função que simula o processo:"
   ]
  },
  {
   "cell_type": "code",
   "execution_count": 55,
   "id": "a1576590",
   "metadata": {},
   "outputs": [],
   "source": [
    "simulate_glarma <- function(T = 100, burn_in=50, beta = 1, theta = 0.3, x = NULL) {\n",
    "\n",
    "  T_total <- T + burn_in\n",
    "  \n",
    "  if (is.null(x)) x <- rep(1, T_total)\n",
    "  \n",
    "  z <- numeric(T_total)\n",
    "  mu <- numeric(T_total)\n",
    "  y <- numeric(T_total)\n",
    "  e <- numeric(T_total)\n",
    "  \n",
    "  for (t in 1:T_total) {\n",
    "    z_t <- 0\n",
    "    if (t > 1) z_t <- + e[t - 1] * theta\n",
    "    \n",
    "    eta <- beta * x[t] + z_t\n",
    "    mu[t] <- exp(eta)\n",
    "    y[t] <- rpois(1, lambda = mu[t])\n",
    "    e[t] <- (y[t] - mu[t]) / sqrt(mu[t])\n",
    "    z[t] <- z_t\n",
    "  }\n",
    "  \n",
    "  return(data.frame(time = 1:T, x = x[(burn_in + 1):T_total], y = y[(burn_in + 1):T_total],\n",
    "                    mu = mu[(burn_in + 1):T_total], z = z[(burn_in + 1):T_total],e=e[(burn_in + 1):T_total]))\n",
    "}"
   ]
  },
  {
   "cell_type": "markdown",
   "id": "a2128275",
   "metadata": {},
   "source": [
    "Vou conferir se a simulação está correta:"
   ]
  },
  {
   "cell_type": "code",
   "execution_count": 56,
   "id": "a1e273db",
   "metadata": {},
   "outputs": [],
   "source": [
    "Amostra_original<-simulate_glarma(T=100,beta=1,theta=0.3,x=NULL)"
   ]
  },
  {
   "cell_type": "code",
   "execution_count": 57,
   "id": "4996cde4",
   "metadata": {},
   "outputs": [
    {
     "data": {
      "text/html": [
       "100"
      ],
      "text/latex": [
       "100"
      ],
      "text/markdown": [
       "100"
      ],
      "text/plain": [
       "[1] 100"
      ]
     },
     "metadata": {},
     "output_type": "display_data"
    }
   ],
   "source": [
    "length(Amostra_original$y)"
   ]
  },
  {
   "cell_type": "code",
   "execution_count": 58,
   "id": "ebc518fb",
   "metadata": {},
   "outputs": [
    {
     "data": {
      "text/plain": [
       "   Min. 1st Qu.  Median    Mean 3rd Qu.    Max. \n",
       "   0.00    1.00    3.00    2.60    3.25    8.00 "
      ]
     },
     "metadata": {},
     "output_type": "display_data"
    }
   ],
   "source": [
    "summary(Amostra_original$y)"
   ]
  },
  {
   "cell_type": "code",
   "execution_count": 59,
   "id": "8e9d168b",
   "metadata": {},
   "outputs": [],
   "source": [
    "X <- Amostra_original$x\n",
    "X <- as.matrix(X)\n",
    "colnames(X) <- \"Intercept\""
   ]
  },
  {
   "cell_type": "code",
   "execution_count": 60,
   "id": "96cb3383",
   "metadata": {},
   "outputs": [],
   "source": [
    "result=glarma(Amostra_original$y, X, phiLags = NULL ,thetaLags = c(1), type = \"Poi\")"
   ]
  },
  {
   "cell_type": "code",
   "execution_count": 61,
   "id": "86b1d515",
   "metadata": {},
   "outputs": [
    {
     "data": {
      "text/html": [
       "<strong>theta_1:</strong> 0.294824377637891"
      ],
      "text/latex": [
       "\\textbf{theta\\textbackslash{}\\_1:} 0.294824377637891"
      ],
      "text/markdown": [
       "**theta_1:** 0.294824377637891"
      ],
      "text/plain": [
       "  theta_1 \n",
       "0.2948244 "
      ]
     },
     "metadata": {},
     "output_type": "display_data"
    }
   ],
   "source": [
    "Theta<-result$delta[2]\n",
    "Theta"
   ]
  },
  {
   "cell_type": "code",
   "execution_count": 62,
   "id": "604dda45",
   "metadata": {},
   "outputs": [
    {
     "data": {
      "text/html": [
       "<strong>Intercept:</strong> 0.929757901771993"
      ],
      "text/latex": [
       "\\textbf{Intercept:} 0.929757901771993"
      ],
      "text/markdown": [
       "**Intercept:** 0.929757901771993"
      ],
      "text/plain": [
       "Intercept \n",
       "0.9297579 "
      ]
     },
     "metadata": {},
     "output_type": "display_data"
    }
   ],
   "source": [
    "Beta<-result$delta[1]\n",
    "Beta"
   ]
  },
  {
   "cell_type": "markdown",
   "id": "5f065059",
   "metadata": {},
   "source": [
    "Conseguimos recuperar os parâmetros bem, está tudo certo."
   ]
  },
  {
   "cell_type": "markdown",
   "id": "d5ee8190",
   "metadata": {},
   "source": [
    "# Bootstrap paramétrico:"
   ]
  },
  {
   "cell_type": "markdown",
   "id": "0fd0d2ad",
   "metadata": {},
   "source": [
    "Antes de criar as funções para rodar o experimento Monte Carlo, vou ver se a minha ideia do bootstrap está funcionando."
   ]
  },
  {
   "cell_type": "code",
   "execution_count": 17,
   "id": "08323519",
   "metadata": {},
   "outputs": [],
   "source": [
    "T=length(Amostra_original$y)\n",
    "B=100"
   ]
  },
  {
   "cell_type": "markdown",
   "id": "67732244",
   "metadata": {},
   "source": [
    "gerando as amostras bootstrap:"
   ]
  },
  {
   "cell_type": "code",
   "execution_count": 18,
   "id": "b405af7e",
   "metadata": {},
   "outputs": [],
   "source": [
    "mu<-Amostra_original$mu"
   ]
  },
  {
   "cell_type": "code",
   "execution_count": 19,
   "id": "fec83547",
   "metadata": {},
   "outputs": [
    {
     "data": {
      "text/html": [
       "100"
      ],
      "text/latex": [
       "100"
      ],
      "text/markdown": [
       "100"
      ],
      "text/plain": [
       "[1] 100"
      ]
     },
     "metadata": {},
     "output_type": "display_data"
    }
   ],
   "source": [
    "length(mu)"
   ]
  },
  {
   "cell_type": "code",
   "execution_count": 20,
   "id": "0264a510",
   "metadata": {},
   "outputs": [],
   "source": [
    "Y_Bootstrap <- matrix(NA, nrow = T, ncol = B)"
   ]
  },
  {
   "cell_type": "code",
   "execution_count": 22,
   "id": "8cf54775",
   "metadata": {},
   "outputs": [],
   "source": [
    "for (b in 1:B){\n",
    "    r = simulate_glarma(T=T,beta=1,theta=Theta,x=NULL) \n",
    "    Y_Bootstrap[,b] <- r$y\n",
    "    }"
   ]
  },
  {
   "cell_type": "markdown",
   "id": "fc6d9a32",
   "metadata": {},
   "source": [
    "criando uma função que retorna os parâmetros estimados a partir de uma amostra:"
   ]
  },
  {
   "cell_type": "code",
   "execution_count": 2,
   "id": "c58f2620",
   "metadata": {},
   "outputs": [],
   "source": [
    "recupera_par <- function(Y_col,X) {\n",
    "  fit <- tryCatch({\n",
    "    glarma(Y_col, X, phiLags = NULL, thetaLags = c(1), type = \"Poi\")\n",
    "  }, error = function(e) {\n",
    "    message(\"GLARMA failed to converge: \", e$message)\n",
    "    return(NULL)\n",
    "  })\n",
    "  \n",
    "  if (!is.null(fit) && !is.null(fit$delta) && length(fit$delta) >= 2 && is.numeric(fit$delta)) {\n",
    "    return(c(beta = fit$delta[1],theta = fit$delta[2])\n",
    "    )\n",
    "  } else {\n",
    "    return(c(beta = NA,theta = NA)\n",
    "    )\n",
    "  }\n",
    "}"
   ]
  },
  {
   "cell_type": "markdown",
   "id": "010af6d3",
   "metadata": {},
   "source": [
    "estimando os parâmetros para B amostras bootstrap."
   ]
  },
  {
   "cell_type": "code",
   "execution_count": 24,
   "id": "a03d7c06",
   "metadata": {},
   "outputs": [],
   "source": [
    "par_estimates <- t(apply(Y_Bootstrap, 2, function(y_col) recupera_par(y_col, X)))"
   ]
  },
  {
   "cell_type": "code",
   "execution_count": 25,
   "id": "52461999",
   "metadata": {},
   "outputs": [],
   "source": [
    "beta=par_estimates[,1]\n",
    "theta=par_estimates[,2]"
   ]
  },
  {
   "cell_type": "code",
   "execution_count": 26,
   "id": "435bc3fc",
   "metadata": {},
   "outputs": [],
   "source": [
    "par_estimates=list('beta'=beta[!is.na(beta)],'theta'=theta[!is.na(theta)])"
   ]
  },
  {
   "cell_type": "markdown",
   "id": "1a7787a1",
   "metadata": {},
   "source": [
    "A média (nas B amostras) das parâmetros está perto do valor dos parâmetros para amostar original."
   ]
  },
  {
   "cell_type": "code",
   "execution_count": 27,
   "id": "7a6a2fb9",
   "metadata": {},
   "outputs": [
    {
     "data": {
      "text/html": [
       "1.00196906653669"
      ],
      "text/latex": [
       "1.00196906653669"
      ],
      "text/markdown": [
       "1.00196906653669"
      ],
      "text/plain": [
       "[1] 1.001969"
      ]
     },
     "metadata": {},
     "output_type": "display_data"
    },
    {
     "data": {
      "text/html": [
       "0.337134396509231"
      ],
      "text/latex": [
       "0.337134396509231"
      ],
      "text/markdown": [
       "0.337134396509231"
      ],
      "text/plain": [
       "[1] 0.3371344"
      ]
     },
     "metadata": {},
     "output_type": "display_data"
    }
   ],
   "source": [
    "mean(par_estimates$beta,na.rm=TRUE)\n",
    "mean(par_estimates$theta,na.rm=TRUE)"
   ]
  },
  {
   "cell_type": "code",
   "execution_count": 28,
   "id": "b69d7a60",
   "metadata": {},
   "outputs": [
    {
     "data": {
      "text/html": [
       "<style>\n",
       ".dl-inline {width: auto; margin:0; padding: 0}\n",
       ".dl-inline>dt, .dl-inline>dd {float: none; width: auto; display: inline-block}\n",
       ".dl-inline>dt::after {content: \":\\0020\"; padding-right: .5ex}\n",
       ".dl-inline>dt:not(:first-of-type) {padding-left: .5ex}\n",
       "</style><dl class=dl-inline><dt>2.5%</dt><dd>0.240781370041432</dd><dt>97.5%</dt><dd>0.416456947646565</dd></dl>\n"
      ],
      "text/latex": [
       "\\begin{description*}\n",
       "\\item[2.5\\textbackslash{}\\%] 0.240781370041432\n",
       "\\item[97.5\\textbackslash{}\\%] 0.416456947646565\n",
       "\\end{description*}\n"
      ],
      "text/markdown": [
       "2.5%\n",
       ":   0.24078137004143297.5%\n",
       ":   0.416456947646565\n",
       "\n"
      ],
      "text/plain": [
       "     2.5%     97.5% \n",
       "0.2407814 0.4164569 "
      ]
     },
     "metadata": {},
     "output_type": "display_data"
    }
   ],
   "source": [
    "quantile(par_estimates$theta,probs=c(0.025,0.975))"
   ]
  },
  {
   "cell_type": "code",
   "execution_count": 29,
   "id": "a970b2ff",
   "metadata": {},
   "outputs": [
    {
     "data": {
      "image/png": "[encoded data removed]",
      "text/plain": [
       "Plot with title \"Histogram of par_estimates$theta\""
      ]
     },
     "metadata": {
      "image/png": {
       "height": 420,
       "width": 420
      }
     },
     "output_type": "display_data"
    }
   ],
   "source": [
    "hist(par_estimates$theta)"
   ]
  },
  {
   "cell_type": "markdown",
   "id": "eaa55909",
   "metadata": {},
   "source": [
    "Nossa ideia para o bootstrap está funcionando, vamos fazer o experimento monte carlo:"
   ]
  },
  {
   "cell_type": "markdown",
   "id": "3b49f047",
   "metadata": {},
   "source": [
    "### Questão 1"
   ]
  },
  {
   "cell_type": "markdown",
   "id": "613d61b1",
   "metadata": {},
   "source": [
    "Criando a função que faz o Bootstrap paramétrico. \n",
    "Ela retorna o valor dos parâmetros estimados na amostra original.\n",
    "Além disso, retorna os vetores Beta_boostrap e Theta_bootstrap com as estimativas para os parâmetros na amostra bootstrap.\n",
    "Ela também retorna a média do Beta_bootstrap e Theta_bootstrap e seus intervalos de confiança.\n",
    "Finalmente, ela também retorna a Amostra original."
   ]
  },
  {
   "cell_type": "code",
   "execution_count": 47,
   "id": "915552e6",
   "metadata": {},
   "outputs": [],
   "source": [
    "bootstrap_parametrico <- function(B=100,T=100,beta=1,theta=0.3)\n",
    "\n",
    "    {\n",
    "\n",
    "    Amostra_original<-simulate_glarma(T=T,beta=1,theta=0.3,x=NULL)\n",
    "    X <- Amostra_original$x\n",
    "    X <- as.matrix(X)\n",
    "    colnames(X) <- \"Intercept\"\n",
    "\n",
    "    result=glarma(Amostra_original$y, X, phiLags = NULL ,thetaLags = c(1), type = \"Poi\")\n",
    "    beta_estimado<-result$delta[1]\n",
    "    theta_estimado<-result$delta[2]\n",
    "\n",
    "    T=length(Amostra_original$y)\n",
    "    mu<-result$mu\n",
    "\n",
    "    Y_Bootstrap <- matrix(NA, nrow = T, ncol = B)\n",
    "\n",
    "    for (b in 1:B)\n",
    "        {\n",
    "        s = simulate_glarma(T=T,beta=beta_estimado,theta=theta_estimado,x=NULL) \n",
    "        Y_Bootstrap[,b] <- s$y\n",
    "        }\n",
    "    \n",
    "    par_bootstrap <- t(apply(Y_Bootstrap, 2, function(y_col) recupera_par(y_col, X)))\n",
    "                             \n",
    "    beta_bootstrap=par_bootstrap[,1]\n",
    "    theta_bootstrap=par_bootstrap[,2]\n",
    "    \n",
    "    par_bootstrap=list('beta'=beta_bootstrap[!is.na(beta_bootstrap)],'theta'=theta_bootstrap[!is.na(theta_bootstrap)])\n",
    "\n",
    "    \n",
    "    mean_beta <- mean(par_bootstrap$beta)\n",
    "    mean_theta <- mean(par_bootstrap$theta)\n",
    "\n",
    "    IC_theta<-quantile(par_bootstrap$theta, probs = c(0.025, 0.975))\n",
    "    IC_beta<-quantile(par_bootstrap$beta, probs = c(0.025, 0.975))\n",
    "\n",
    "            \n",
    "    return(list('beta_estimado'=beta_estimado,\n",
    "                'Beta_bootstrap'=par_bootstrap[1],\n",
    "                'theta_estimado'=theta_estimado,\n",
    "                'Theta_bootstrap'=par_bootstrap[2],\n",
    "                'mean_beta'=mean_beta,\n",
    "                'mean_theta'=mean_theta,\n",
    "                'IC_theta'=IC_theta,\n",
    "                'IC_beta'=IC_beta,\n",
    "                'Amostra_original'= Amostra_original$y))\n",
    "    }"
   ]
  },
  {
   "cell_type": "markdown",
   "id": "a74e47fd",
   "metadata": {},
   "source": [
    "Para ficar claro, vou rodar a função 1 vez com B=10 para ser possível ver o output:"
   ]
  },
  {
   "cell_type": "code",
   "execution_count": 34,
   "id": "5d9d6325",
   "metadata": {
    "scrolled": true
   },
   "outputs": [
    {
     "data": {
      "text/html": [
       "<dl>\n",
       "\t<dt>$beta_estimado</dt>\n",
       "\t\t<dd><strong>Intercept:</strong> 0.964179131401806</dd>\n",
       "\t<dt>$Beta_bootstrap</dt>\n",
       "\t\t<dd><strong>$beta</strong> = <style>\n",
       ".list-inline {list-style: none; margin:0; padding: 0}\n",
       ".list-inline>li {display: inline-block}\n",
       ".list-inline>li:not(:last-child)::after {content: \"\\00b7\"; padding: 0 .5ex}\n",
       "</style>\n",
       "<ol class=list-inline><li>0.945538212925242</li><li>1.21973334584034</li><li>1.03639181295438</li><li>0.947817952520812</li><li>0.995444435156517</li><li>1.12120861055112</li><li>0.9130322361958</li><li>1.01476887581031</li><li>0.976672541823167</li><li>1.10089475610305</li></ol>\n",
       "</dd>\n",
       "\t<dt>$theta_estimado</dt>\n",
       "\t\t<dd><strong>theta_1:</strong> 0.339725213744957</dd>\n",
       "\t<dt>$Theta_bootstrap</dt>\n",
       "\t\t<dd><strong>$theta</strong> = <style>\n",
       ".list-inline {list-style: none; margin:0; padding: 0}\n",
       ".list-inline>li {display: inline-block}\n",
       ".list-inline>li:not(:last-child)::after {content: \"\\00b7\"; padding: 0 .5ex}\n",
       "</style>\n",
       "<ol class=list-inline><li>0.403055697943423</li><li>0.379898228610576</li><li>0.330324618826487</li><li>0.349029714203789</li><li>0.3057417983432</li><li>0.365773922398388</li><li>0.385603703485939</li><li>0.384991197758038</li><li>0.359958406777127</li><li>0.244649198880401</li></ol>\n",
       "</dd>\n",
       "\t<dt>$mean_beta</dt>\n",
       "\t\t<dd>1.02715027798807</dd>\n",
       "\t<dt>$mean_theta</dt>\n",
       "\t\t<dd>0.350902648722737</dd>\n",
       "\t<dt>$IC_theta</dt>\n",
       "\t\t<dd><style>\n",
       ".dl-inline {width: auto; margin:0; padding: 0}\n",
       ".dl-inline>dt, .dl-inline>dd {float: none; width: auto; display: inline-block}\n",
       ".dl-inline>dt::after {content: \":\\0020\"; padding-right: .5ex}\n",
       ".dl-inline>dt:not(:first-of-type) {padding-left: .5ex}\n",
       "</style><dl class=dl-inline><dt>2.5%</dt><dd>0.258395033759531</dd><dt>97.5%</dt><dd>0.399128999190489</dd></dl>\n",
       "</dd>\n",
       "\t<dt>$IC_beta</dt>\n",
       "\t\t<dd><style>\n",
       ".dl-inline {width: auto; margin:0; padding: 0}\n",
       ".dl-inline>dt, .dl-inline>dd {float: none; width: auto; display: inline-block}\n",
       ".dl-inline>dt::after {content: \":\\0020\"; padding-right: .5ex}\n",
       ".dl-inline>dt:not(:first-of-type) {padding-left: .5ex}\n",
       "</style><dl class=dl-inline><dt>2.5%</dt><dd>0.920346080959924</dd><dt>97.5%</dt><dd>1.19756528040027</dd></dl>\n",
       "</dd>\n",
       "\t<dt>$Amostra_original</dt>\n",
       "\t\t<dd><style>\n",
       ".list-inline {list-style: none; margin:0; padding: 0}\n",
       ".list-inline>li {display: inline-block}\n",
       ".list-inline>li:not(:last-child)::after {content: \"\\00b7\"; padding: 0 .5ex}\n",
       "</style>\n",
       "<ol class=list-inline><li>0</li><li>0</li><li>1</li><li>1</li><li>0</li><li>3</li><li>3</li><li>4</li><li>3</li><li>3</li><li>5</li><li>4</li><li>5</li><li>2</li><li>0</li><li>1</li><li>2</li><li>0</li><li>0</li><li>2</li><li>6</li><li>5</li><li>3</li><li>2</li><li>1</li><li>1</li><li>5</li><li>7</li><li>9</li><li>6</li><li>1</li><li>5</li><li>5</li><li>3</li><li>1</li><li>1</li><li>3</li><li>3</li><li>2</li><li>1</li><li>3</li><li>3</li><li>1</li><li>3</li><li>2</li><li>4</li><li>5</li><li>5</li><li>2</li><li>1</li><li>2</li><li>3</li><li>5</li><li>1</li><li>2</li><li>3</li><li>3</li><li>3</li><li>3</li><li>3</li><li>1</li><li>2</li><li>2</li><li>7</li><li>9</li><li>2</li><li>1</li><li>1</li><li>4</li><li>3</li><li>2</li><li>3</li><li>1</li><li>2</li><li>4</li><li>5</li><li>0</li><li>4</li><li>7</li><li>2</li><li>1</li><li>1</li><li>0</li><li>1</li><li>3</li><li>4</li><li>4</li><li>7</li><li>5</li><li>1</li><li>3</li><li>5</li><li>5</li><li>1</li><li>1</li><li>2</li><li>4</li><li>3</li><li>0</li><li>2</li></ol>\n",
       "</dd>\n",
       "</dl>\n"
      ],
      "text/latex": [
       "\\begin{description}\n",
       "\\item[\\$beta\\_estimado] \\textbf{Intercept:} 0.964179131401806\n",
       "\\item[\\$Beta\\_bootstrap] \\textbf{\\$beta} = \\begin{enumerate*}\n",
       "\\item 0.945538212925242\n",
       "\\item 1.21973334584034\n",
       "\\item 1.03639181295438\n",
       "\\item 0.947817952520812\n",
       "\\item 0.995444435156517\n",
       "\\item 1.12120861055112\n",
       "\\item 0.9130322361958\n",
       "\\item 1.01476887581031\n",
       "\\item 0.976672541823167\n",
       "\\item 1.10089475610305\n",
       "\\end{enumerate*}\n",
       "\n",
       "\\item[\\$theta\\_estimado] \\textbf{theta\\textbackslash{}\\_1:} 0.339725213744957\n",
       "\\item[\\$Theta\\_bootstrap] \\textbf{\\$theta} = \\begin{enumerate*}\n",
       "\\item 0.403055697943423\n",
       "\\item 0.379898228610576\n",
       "\\item 0.330324618826487\n",
       "\\item 0.349029714203789\n",
       "\\item 0.3057417983432\n",
       "\\item 0.365773922398388\n",
       "\\item 0.385603703485939\n",
       "\\item 0.384991197758038\n",
       "\\item 0.359958406777127\n",
       "\\item 0.244649198880401\n",
       "\\end{enumerate*}\n",
       "\n",
       "\\item[\\$mean\\_beta] 1.02715027798807\n",
       "\\item[\\$mean\\_theta] 0.350902648722737\n",
       "\\item[\\$IC\\_theta] \\begin{description*}\n",
       "\\item[2.5\\textbackslash{}\\%] 0.258395033759531\n",
       "\\item[97.5\\textbackslash{}\\%] 0.399128999190489\n",
       "\\end{description*}\n",
       "\n",
       "\\item[\\$IC\\_beta] \\begin{description*}\n",
       "\\item[2.5\\textbackslash{}\\%] 0.920346080959924\n",
       "\\item[97.5\\textbackslash{}\\%] 1.19756528040027\n",
       "\\end{description*}\n",
       "\n",
       "\\item[\\$Amostra\\_original] \\begin{enumerate*}\n",
       "\\item 0\n",
       "\\item 0\n",
       "\\item 1\n",
       "\\item 1\n",
       "\\item 0\n",
       "\\item 3\n",
       "\\item 3\n",
       "\\item 4\n",
       "\\item 3\n",
       "\\item 3\n",
       "\\item 5\n",
       "\\item 4\n",
       "\\item 5\n",
       "\\item 2\n",
       "\\item 0\n",
       "\\item 1\n",
       "\\item 2\n",
       "\\item 0\n",
       "\\item 0\n",
       "\\item 2\n",
       "\\item 6\n",
       "\\item 5\n",
       "\\item 3\n",
       "\\item 2\n",
       "\\item 1\n",
       "\\item 1\n",
       "\\item 5\n",
       "\\item 7\n",
       "\\item 9\n",
       "\\item 6\n",
       "\\item 1\n",
       "\\item 5\n",
       "\\item 5\n",
       "\\item 3\n",
       "\\item 1\n",
       "\\item 1\n",
       "\\item 3\n",
       "\\item 3\n",
       "\\item 2\n",
       "\\item 1\n",
       "\\item 3\n",
       "\\item 3\n",
       "\\item 1\n",
       "\\item 3\n",
       "\\item 2\n",
       "\\item 4\n",
       "\\item 5\n",
       "\\item 5\n",
       "\\item 2\n",
       "\\item 1\n",
       "\\item 2\n",
       "\\item 3\n",
       "\\item 5\n",
       "\\item 1\n",
       "\\item 2\n",
       "\\item 3\n",
       "\\item 3\n",
       "\\item 3\n",
       "\\item 3\n",
       "\\item 3\n",
       "\\item 1\n",
       "\\item 2\n",
       "\\item 2\n",
       "\\item 7\n",
       "\\item 9\n",
       "\\item 2\n",
       "\\item 1\n",
       "\\item 1\n",
       "\\item 4\n",
       "\\item 3\n",
       "\\item 2\n",
       "\\item 3\n",
       "\\item 1\n",
       "\\item 2\n",
       "\\item 4\n",
       "\\item 5\n",
       "\\item 0\n",
       "\\item 4\n",
       "\\item 7\n",
       "\\item 2\n",
       "\\item 1\n",
       "\\item 1\n",
       "\\item 0\n",
       "\\item 1\n",
       "\\item 3\n",
       "\\item 4\n",
       "\\item 4\n",
       "\\item 7\n",
       "\\item 5\n",
       "\\item 1\n",
       "\\item 3\n",
       "\\item 5\n",
       "\\item 5\n",
       "\\item 1\n",
       "\\item 1\n",
       "\\item 2\n",
       "\\item 4\n",
       "\\item 3\n",
       "\\item 0\n",
       "\\item 2\n",
       "\\end{enumerate*}\n",
       "\n",
       "\\end{description}\n"
      ],
      "text/markdown": [
       "$beta_estimado\n",
       ":   **Intercept:** 0.964179131401806\n",
       "$Beta_bootstrap\n",
       ":   **$beta** = 1. 0.945538212925242\n",
       "2. 1.21973334584034\n",
       "3. 1.03639181295438\n",
       "4. 0.947817952520812\n",
       "5. 0.995444435156517\n",
       "6. 1.12120861055112\n",
       "7. 0.9130322361958\n",
       "8. 1.01476887581031\n",
       "9. 0.976672541823167\n",
       "10. 1.10089475610305\n",
       "\n",
       "\n",
       "\n",
       "$theta_estimado\n",
       ":   **theta_1:** 0.339725213744957\n",
       "$Theta_bootstrap\n",
       ":   **$theta** = 1. 0.403055697943423\n",
       "2. 0.379898228610576\n",
       "3. 0.330324618826487\n",
       "4. 0.349029714203789\n",
       "5. 0.3057417983432\n",
       "6. 0.365773922398388\n",
       "7. 0.385603703485939\n",
       "8. 0.384991197758038\n",
       "9. 0.359958406777127\n",
       "10. 0.244649198880401\n",
       "\n",
       "\n",
       "\n",
       "$mean_beta\n",
       ":   1.02715027798807\n",
       "$mean_theta\n",
       ":   0.350902648722737\n",
       "$IC_theta\n",
       ":   2.5%\n",
       ":   0.25839503375953197.5%\n",
       ":   0.399128999190489\n",
       "\n",
       "\n",
       "$IC_beta\n",
       ":   2.5%\n",
       ":   0.92034608095992497.5%\n",
       ":   1.19756528040027\n",
       "\n",
       "\n",
       "$Amostra_original\n",
       ":   1. 0\n",
       "2. 0\n",
       "3. 1\n",
       "4. 1\n",
       "5. 0\n",
       "6. 3\n",
       "7. 3\n",
       "8. 4\n",
       "9. 3\n",
       "10. 3\n",
       "11. 5\n",
       "12. 4\n",
       "13. 5\n",
       "14. 2\n",
       "15. 0\n",
       "16. 1\n",
       "17. 2\n",
       "18. 0\n",
       "19. 0\n",
       "20. 2\n",
       "21. 6\n",
       "22. 5\n",
       "23. 3\n",
       "24. 2\n",
       "25. 1\n",
       "26. 1\n",
       "27. 5\n",
       "28. 7\n",
       "29. 9\n",
       "30. 6\n",
       "31. 1\n",
       "32. 5\n",
       "33. 5\n",
       "34. 3\n",
       "35. 1\n",
       "36. 1\n",
       "37. 3\n",
       "38. 3\n",
       "39. 2\n",
       "40. 1\n",
       "41. 3\n",
       "42. 3\n",
       "43. 1\n",
       "44. 3\n",
       "45. 2\n",
       "46. 4\n",
       "47. 5\n",
       "48. 5\n",
       "49. 2\n",
       "50. 1\n",
       "51. 2\n",
       "52. 3\n",
       "53. 5\n",
       "54. 1\n",
       "55. 2\n",
       "56. 3\n",
       "57. 3\n",
       "58. 3\n",
       "59. 3\n",
       "60. 3\n",
       "61. 1\n",
       "62. 2\n",
       "63. 2\n",
       "64. 7\n",
       "65. 9\n",
       "66. 2\n",
       "67. 1\n",
       "68. 1\n",
       "69. 4\n",
       "70. 3\n",
       "71. 2\n",
       "72. 3\n",
       "73. 1\n",
       "74. 2\n",
       "75. 4\n",
       "76. 5\n",
       "77. 0\n",
       "78. 4\n",
       "79. 7\n",
       "80. 2\n",
       "81. 1\n",
       "82. 1\n",
       "83. 0\n",
       "84. 1\n",
       "85. 3\n",
       "86. 4\n",
       "87. 4\n",
       "88. 7\n",
       "89. 5\n",
       "90. 1\n",
       "91. 3\n",
       "92. 5\n",
       "93. 5\n",
       "94. 1\n",
       "95. 1\n",
       "96. 2\n",
       "97. 4\n",
       "98. 3\n",
       "99. 0\n",
       "100. 2\n",
       "\n",
       "\n",
       "\n",
       "\n",
       "\n"
      ],
      "text/plain": [
       "$beta_estimado\n",
       "Intercept \n",
       "0.9641791 \n",
       "\n",
       "$Beta_bootstrap\n",
       "$Beta_bootstrap$beta\n",
       " [1] 0.9455382 1.2197333 1.0363918 0.9478180 0.9954444 1.1212086 0.9130322\n",
       " [8] 1.0147689 0.9766725 1.1008948\n",
       "\n",
       "\n",
       "$theta_estimado\n",
       "  theta_1 \n",
       "0.3397252 \n",
       "\n",
       "$Theta_bootstrap\n",
       "$Theta_bootstrap$theta\n",
       " [1] 0.4030557 0.3798982 0.3303246 0.3490297 0.3057418 0.3657739 0.3856037\n",
       " [8] 0.3849912 0.3599584 0.2446492\n",
       "\n",
       "\n",
       "$mean_beta\n",
       "[1] 1.02715\n",
       "\n",
       "$mean_theta\n",
       "[1] 0.3509026\n",
       "\n",
       "$IC_theta\n",
       "    2.5%    97.5% \n",
       "0.258395 0.399129 \n",
       "\n",
       "$IC_beta\n",
       "     2.5%     97.5% \n",
       "0.9203461 1.1975653 \n",
       "\n",
       "$Amostra_original\n",
       "  [1] 0 0 1 1 0 3 3 4 3 3 5 4 5 2 0 1 2 0 0 2 6 5 3 2 1 1 5 7 9 6 1 5 5 3 1 1 3\n",
       " [38] 3 2 1 3 3 1 3 2 4 5 5 2 1 2 3 5 1 2 3 3 3 3 3 1 2 2 7 9 2 1 1 4 3 2 3 1 2\n",
       " [75] 4 5 0 4 7 2 1 1 0 1 3 4 4 7 5 1 3 5 5 1 1 2 4 3 0 2\n"
      ]
     },
     "metadata": {},
     "output_type": "display_data"
    }
   ],
   "source": [
    "bootstrap_parametrico(B=10)"
   ]
  },
  {
   "cell_type": "markdown",
   "id": "b0730a2c",
   "metadata": {},
   "source": [
    "A função Questao1 faz o experimento Monte Carlo.Ela retorna:\n",
    "\n",
    "um vetor de tamanho R com os parâmetros estimados da Amostra original de cada iteração (r in 1:R).\n",
    "\n",
    "um vetor de tamanho R (r 1:R) com a média (em b 1:B) dos parâmetros bootstrap em cada iteração r.\n",
    "\n",
    "uma lista de tamanho R com de intervalo de confiança bootstrap para cada parâmetro.\n",
    "\n",
    "Além disso retorna quatro escalares:\n",
    "\n",
    "mean_theta_dif_boot_est <- média (em r 1:R) de (mean_theta_bootstrap[r] - theta_estimado[r])^2 \n",
    "( erro quadrático médio entre o theta estimado original e a média do theta_bootstrap)\n",
    "\n",
    "theta_dif_boot_true;  média (em r 1:R) de (mean_theta_bootstrap[r] - theta)^2\n",
    "( erro quadrático médio entre o theta verdadeiro e a média do theta_bootstrap)\n",
    "\n",
    "Raciocínio análago para o beta.\n"
   ]
  },
  {
   "cell_type": "code",
   "execution_count": 4,
   "id": "d6269018",
   "metadata": {},
   "outputs": [],
   "source": [
    "Questao1 <- function(B = 20, T = 100, beta = 1, theta = 0.3, R = 2) {\n",
    "  \n",
    "  theta_estimado <- numeric(R)\n",
    "  beta_estimado <- numeric(R)\n",
    "  mean_theta_bootstrap <- numeric(R)\n",
    "  mean_beta_bootstrap <- numeric(R)\n",
    "  IC_theta_bootstrap <- vector(\"list\", R)\n",
    "  IC_beta_bootstrap <- vector(\"list\", R)\n",
    "  theta_dif_boot_true <- numeric(R)\n",
    "  theta_dif_boot_est <- numeric(R)\n",
    "  beta_dif_boot_true <- numeric(R)\n",
    "  beta_dif_boot_est <- numeric(R)\n",
    "\n",
    "  \n",
    "  for (r in 1:R) {\n",
    "    result <- tryCatch({\n",
    "      bootstrap_parametrico(B = B, T = T, beta = beta, theta = theta)\n",
    "    }, error = function(e) {\n",
    "      message(sprintf(\"Erro na repetição %d: %s\", r, e$message))\n",
    "      return(NULL)\n",
    "    })\n",
    "    \n",
    "    if (!is.null(result)) {\n",
    "        mean_theta_bootstrap[r] <- result$mean_theta\n",
    "        mean_beta_bootstrap[r] <- result$mean_theta\n",
    "        IC_theta_bootstrap[[r]] <- result$IC_theta\n",
    "        IC_beta_bootstrap[[r]] <- result$IC_beta\n",
    "        theta_estimado[r] <- result$theta_estimado\n",
    "        beta_estimado[r] <- result$beta_estimado\n",
    "\n",
    "        theta_dif_boot_est[r] <- (mean_theta_bootstrap[r] - theta_estimado[r])^2\n",
    "        theta_dif_boot_true[r] <- (mean_theta_bootstrap[r] - theta)^2\n",
    "\n",
    "        beta_dif_boot_est[r] <- (mean_beta_bootstrap[r] - beta_estimado[r])^2\n",
    "        beta_dif_boot_true[r] <- (mean_beta_bootstrap[r] - beta)^2\n",
    "\n",
    "    } else {\n",
    "      mean_theta_bootstrap[r] <- NA\n",
    "      mean_beta_bootstrap[r] <- NA\n",
    "\n",
    "      IC_theta_bootstrap[[r]] <- c(NA, NA)\n",
    "      IC_beta_bootstrap[[r]] <- c(NA, NA)\n",
    "      theta_estimado[r] <- NA\n",
    "      beta_estimado[r]<-NA\n",
    "        \n",
    "    theta_dif_boot_est[r] <- NA\n",
    "    theta_dif_boot_true[r] <- NA\n",
    "\n",
    "    beta_dif_boot_est[r] <- NA\n",
    "    beta_dif_boot_true[r] <- NA\n",
    "    }\n",
    "\n",
    "\n",
    "  }\n",
    "  \n",
    "  return(list(\n",
    "    'theta_estimado' = theta_estimado,\n",
    "    'beta_estimado' = beta_estimado,\n",
    "    'mean_theta_bootstrap' = mean_theta_bootstrap,\n",
    "    'mean_beta_bootstrap' = mean_beta_bootstrap,\n",
    "    'IC_theta_bootstrap' = IC_theta_bootstrap,\n",
    "    'IC_beta_bootstrap' = IC_beta_bootstrap,\n",
    "    'mean_theta_dif_boot_est' = mean(theta_dif_boot_est, na.rm = TRUE),\n",
    "    'mean_theta_dif_boot_true' = mean(theta_dif_boot_true, na.rm = TRUE),\n",
    "    'mean_beta_dif_boot_est' = mean(beta_dif_boot_est, na.rm = TRUE),\n",
    "    'mean_beta_dif_boot_true' = mean(beta_dif_boot_true, na.rm = TRUE)\n",
    "  ))\n",
    "}\n",
    "\n"
   ]
  },
  {
   "cell_type": "markdown",
   "id": "0f82f222",
   "metadata": {},
   "source": [
    "Para ficar mais claro, vamos rodar a função com B=20 e R=2:"
   ]
  },
  {
   "cell_type": "code",
   "execution_count": 39,
   "id": "314b1105",
   "metadata": {},
   "outputs": [
    {
     "name": "stderr",
     "output_type": "stream",
     "text": [
      "GLARMA failed to converge: Fisher Scoring fails to converge from the initial estimates.\n",
      "\n"
     ]
    }
   ],
   "source": [
    "MM_bootstrap_parametrico<-Questao1(B=20,R=2)"
   ]
  },
  {
   "cell_type": "code",
   "execution_count": 40,
   "id": "1c57a67f",
   "metadata": {},
   "outputs": [
    {
     "data": {
      "text/html": [
       "<dl>\n",
       "\t<dt>$theta_estimado</dt>\n",
       "\t\t<dd><style>\n",
       ".list-inline {list-style: none; margin:0; padding: 0}\n",
       ".list-inline>li {display: inline-block}\n",
       ".list-inline>li:not(:last-child)::after {content: \"\\00b7\"; padding: 0 .5ex}\n",
       "</style>\n",
       "<ol class=list-inline><li>0.373595101786257</li><li>0.293284732046803</li></ol>\n",
       "</dd>\n",
       "\t<dt>$beta_estimado</dt>\n",
       "\t\t<dd><style>\n",
       ".list-inline {list-style: none; margin:0; padding: 0}\n",
       ".list-inline>li {display: inline-block}\n",
       ".list-inline>li:not(:last-child)::after {content: \"\\00b7\"; padding: 0 .5ex}\n",
       "</style>\n",
       "<ol class=list-inline><li>1.01385123199714</li><li>0.972661390434401</li></ol>\n",
       "</dd>\n",
       "\t<dt>$mean_theta_bootstrap</dt>\n",
       "\t\t<dd><style>\n",
       ".list-inline {list-style: none; margin:0; padding: 0}\n",
       ".list-inline>li {display: inline-block}\n",
       ".list-inline>li:not(:last-child)::after {content: \"\\00b7\"; padding: 0 .5ex}\n",
       "</style>\n",
       "<ol class=list-inline><li>0.37490588714954</li><li>0.285038538497943</li></ol>\n",
       "</dd>\n",
       "\t<dt>$mean_beta_bootstrap</dt>\n",
       "\t\t<dd><style>\n",
       ".list-inline {list-style: none; margin:0; padding: 0}\n",
       ".list-inline>li {display: inline-block}\n",
       ".list-inline>li:not(:last-child)::after {content: \"\\00b7\"; padding: 0 .5ex}\n",
       "</style>\n",
       "<ol class=list-inline><li>0.37490588714954</li><li>0.285038538497943</li></ol>\n",
       "</dd>\n",
       "\t<dt>$IC_theta_bootstrap</dt>\n",
       "\t\t<dd><ol>\n",
       "\t<li><style>\n",
       ".dl-inline {width: auto; margin:0; padding: 0}\n",
       ".dl-inline>dt, .dl-inline>dd {float: none; width: auto; display: inline-block}\n",
       ".dl-inline>dt::after {content: \":\\0020\"; padding-right: .5ex}\n",
       ".dl-inline>dt:not(:first-of-type) {padding-left: .5ex}\n",
       "</style><dl class=dl-inline><dt>2.5%</dt><dd>0.339499279926336</dd><dt>97.5%</dt><dd>0.410908269162711</dd></dl>\n",
       "</li>\n",
       "\t<li><style>\n",
       ".dl-inline {width: auto; margin:0; padding: 0}\n",
       ".dl-inline>dt, .dl-inline>dd {float: none; width: auto; display: inline-block}\n",
       ".dl-inline>dt::after {content: \":\\0020\"; padding-right: .5ex}\n",
       ".dl-inline>dt:not(:first-of-type) {padding-left: .5ex}\n",
       "</style><dl class=dl-inline><dt>2.5%</dt><dd>0.205846749715939</dd><dt>97.5%</dt><dd>0.367576003965858</dd></dl>\n",
       "</li>\n",
       "</ol>\n",
       "</dd>\n",
       "\t<dt>$IC_beta_bootstrap</dt>\n",
       "\t\t<dd><ol>\n",
       "\t<li><style>\n",
       ".dl-inline {width: auto; margin:0; padding: 0}\n",
       ".dl-inline>dt, .dl-inline>dd {float: none; width: auto; display: inline-block}\n",
       ".dl-inline>dt::after {content: \":\\0020\"; padding-right: .5ex}\n",
       ".dl-inline>dt:not(:first-of-type) {padding-left: .5ex}\n",
       "</style><dl class=dl-inline><dt>2.5%</dt><dd>0.846446291604389</dd><dt>97.5%</dt><dd>1.19658680583726</dd></dl>\n",
       "</li>\n",
       "\t<li><style>\n",
       ".dl-inline {width: auto; margin:0; padding: 0}\n",
       ".dl-inline>dt, .dl-inline>dd {float: none; width: auto; display: inline-block}\n",
       ".dl-inline>dt::after {content: \":\\0020\"; padding-right: .5ex}\n",
       ".dl-inline>dt:not(:first-of-type) {padding-left: .5ex}\n",
       "</style><dl class=dl-inline><dt>2.5%</dt><dd>0.829021125027402</dd><dt>97.5%</dt><dd>1.10518669946315</dd></dl>\n",
       "</li>\n",
       "</ol>\n",
       "</dd>\n",
       "\t<dt>$mean_theta_dif_boot_est</dt>\n",
       "\t\t<dd>3.48589331569297e-05</dd>\n",
       "\t<dt>$mean_theta_dif_boot_true</dt>\n",
       "\t\t<dd>0.00291736862996855</dd>\n",
       "\t<dt>$mean_beta_dif_boot_est</dt>\n",
       "\t\t<dd>0.440538170103822</dd>\n",
       "\t<dt>$mean_beta_dif_boot_true</dt>\n",
       "\t\t<dd>0.45095627067673</dd>\n",
       "</dl>\n"
      ],
      "text/latex": [
       "\\begin{description}\n",
       "\\item[\\$theta\\_estimado] \\begin{enumerate*}\n",
       "\\item 0.373595101786257\n",
       "\\item 0.293284732046803\n",
       "\\end{enumerate*}\n",
       "\n",
       "\\item[\\$beta\\_estimado] \\begin{enumerate*}\n",
       "\\item 1.01385123199714\n",
       "\\item 0.972661390434401\n",
       "\\end{enumerate*}\n",
       "\n",
       "\\item[\\$mean\\_theta\\_bootstrap] \\begin{enumerate*}\n",
       "\\item 0.37490588714954\n",
       "\\item 0.285038538497943\n",
       "\\end{enumerate*}\n",
       "\n",
       "\\item[\\$mean\\_beta\\_bootstrap] \\begin{enumerate*}\n",
       "\\item 0.37490588714954\n",
       "\\item 0.285038538497943\n",
       "\\end{enumerate*}\n",
       "\n",
       "\\item[\\$IC\\_theta\\_bootstrap] \\begin{enumerate}\n",
       "\\item \\begin{description*}\n",
       "\\item[2.5\\textbackslash{}\\%] 0.339499279926336\n",
       "\\item[97.5\\textbackslash{}\\%] 0.410908269162711\n",
       "\\end{description*}\n",
       "\n",
       "\\item \\begin{description*}\n",
       "\\item[2.5\\textbackslash{}\\%] 0.205846749715939\n",
       "\\item[97.5\\textbackslash{}\\%] 0.367576003965858\n",
       "\\end{description*}\n",
       "\n",
       "\\end{enumerate}\n",
       "\n",
       "\\item[\\$IC\\_beta\\_bootstrap] \\begin{enumerate}\n",
       "\\item \\begin{description*}\n",
       "\\item[2.5\\textbackslash{}\\%] 0.846446291604389\n",
       "\\item[97.5\\textbackslash{}\\%] 1.19658680583726\n",
       "\\end{description*}\n",
       "\n",
       "\\item \\begin{description*}\n",
       "\\item[2.5\\textbackslash{}\\%] 0.829021125027402\n",
       "\\item[97.5\\textbackslash{}\\%] 1.10518669946315\n",
       "\\end{description*}\n",
       "\n",
       "\\end{enumerate}\n",
       "\n",
       "\\item[\\$mean\\_theta\\_dif\\_boot\\_est] 3.48589331569297e-05\n",
       "\\item[\\$mean\\_theta\\_dif\\_boot\\_true] 0.00291736862996855\n",
       "\\item[\\$mean\\_beta\\_dif\\_boot\\_est] 0.440538170103822\n",
       "\\item[\\$mean\\_beta\\_dif\\_boot\\_true] 0.45095627067673\n",
       "\\end{description}\n"
      ],
      "text/markdown": [
       "$theta_estimado\n",
       ":   1. 0.373595101786257\n",
       "2. 0.293284732046803\n",
       "\n",
       "\n",
       "\n",
       "$beta_estimado\n",
       ":   1. 1.01385123199714\n",
       "2. 0.972661390434401\n",
       "\n",
       "\n",
       "\n",
       "$mean_theta_bootstrap\n",
       ":   1. 0.37490588714954\n",
       "2. 0.285038538497943\n",
       "\n",
       "\n",
       "\n",
       "$mean_beta_bootstrap\n",
       ":   1. 0.37490588714954\n",
       "2. 0.285038538497943\n",
       "\n",
       "\n",
       "\n",
       "$IC_theta_bootstrap\n",
       ":   1. 2.5%\n",
       ":   0.33949927992633697.5%\n",
       ":   0.410908269162711\n",
       "\n",
       "\n",
       "2. 2.5%\n",
       ":   0.20584674971593997.5%\n",
       ":   0.367576003965858\n",
       "\n",
       "\n",
       "\n",
       "\n",
       "\n",
       "$IC_beta_bootstrap\n",
       ":   1. 2.5%\n",
       ":   0.84644629160438997.5%\n",
       ":   1.19658680583726\n",
       "\n",
       "\n",
       "2. 2.5%\n",
       ":   0.82902112502740297.5%\n",
       ":   1.10518669946315\n",
       "\n",
       "\n",
       "\n",
       "\n",
       "\n",
       "$mean_theta_dif_boot_est\n",
       ":   3.48589331569297e-05\n",
       "$mean_theta_dif_boot_true\n",
       ":   0.00291736862996855\n",
       "$mean_beta_dif_boot_est\n",
       ":   0.440538170103822\n",
       "$mean_beta_dif_boot_true\n",
       ":   0.45095627067673\n",
       "\n",
       "\n"
      ],
      "text/plain": [
       "$theta_estimado\n",
       "[1] 0.3735951 0.2932847\n",
       "\n",
       "$beta_estimado\n",
       "[1] 1.0138512 0.9726614\n",
       "\n",
       "$mean_theta_bootstrap\n",
       "[1] 0.3749059 0.2850385\n",
       "\n",
       "$mean_beta_bootstrap\n",
       "[1] 0.3749059 0.2850385\n",
       "\n",
       "$IC_theta_bootstrap\n",
       "$IC_theta_bootstrap[[1]]\n",
       "     2.5%     97.5% \n",
       "0.3394993 0.4109083 \n",
       "\n",
       "$IC_theta_bootstrap[[2]]\n",
       "     2.5%     97.5% \n",
       "0.2058467 0.3675760 \n",
       "\n",
       "\n",
       "$IC_beta_bootstrap\n",
       "$IC_beta_bootstrap[[1]]\n",
       "     2.5%     97.5% \n",
       "0.8464463 1.1965868 \n",
       "\n",
       "$IC_beta_bootstrap[[2]]\n",
       "     2.5%     97.5% \n",
       "0.8290211 1.1051867 \n",
       "\n",
       "\n",
       "$mean_theta_dif_boot_est\n",
       "[1] 3.485893e-05\n",
       "\n",
       "$mean_theta_dif_boot_true\n",
       "[1] 0.002917369\n",
       "\n",
       "$mean_beta_dif_boot_est\n",
       "[1] 0.4405382\n",
       "\n",
       "$mean_beta_dif_boot_true\n",
       "[1] 0.4509563\n"
      ]
     },
     "metadata": {},
     "output_type": "display_data"
    }
   ],
   "source": [
    "MM_bootstrap_parametrico"
   ]
  },
  {
   "cell_type": "markdown",
   "id": "57d368f1",
   "metadata": {},
   "source": [
    "Respondendo a questão:"
   ]
  },
  {
   "cell_type": "markdown",
   "id": "9e8990a4",
   "metadata": {},
   "source": [
    "A função conferindo_cobertura_bootstrap responde a nossa questão 1) - ver texto abaixo do output."
   ]
  },
  {
   "cell_type": "code",
   "execution_count": 43,
   "id": "10108e4c",
   "metadata": {},
   "outputs": [],
   "source": [
    "conferindo_cobertura_bootstrap <- function(B = 20, T = 100, beta = 1, theta = 0.3, R = 100) {\n",
    "  \n",
    "  resultado <- Questao1(B = B, T = T, beta = beta, theta = theta, R = R)\n",
    "\n",
    "  theta_estimado <- resultado$theta_estimado\n",
    "  beta_estimado <- resultado$beta_estimado\n",
    "    \n",
    "  IC_theta_bootstrap <- resultado$IC_theta_bootstrap\n",
    "  mean_theta_boot <- resultado$mean_theta_boot\n",
    "\n",
    "  IC_beta_bootstrap <- resultado$IC_beta_bootstrap\n",
    "  mean_beta_boot <- resultado$mean_beta_boot\n",
    "    \n",
    "  dentro_do_intervalo_theta <- logical(R)\n",
    "  dentro_do_intervalo_beta <- logical(R)\n",
    "\n",
    "    \n",
    " for (r in 1:R) {\n",
    "    intervalo_theta <- IC_theta_bootstrap[[r]]\n",
    "    intervalo_beta <- IC_beta_bootstrap[[r]]\n",
    "    \n",
    "    if (any(is.na(intervalo_theta))) {\n",
    "      dentro_do_intervalo_theta[r] <- NA\n",
    "      dentro_do_intervalo_beta[r] <- NA\n",
    "    } else {\n",
    "      dentro_do_intervalo_theta[r] <- (theta >= intervalo_theta[1]) && (theta <= intervalo_theta[2])\n",
    "      dentro_do_intervalo_beta[r] <- (beta >= intervalo_beta[1]) && (beta <= intervalo_beta[2])\n",
    "    }\n",
    "  }\n",
    "\n",
    "  cobertura_percentual_theta <- mean(dentro_do_intervalo_theta, na.rm = TRUE) * 100\n",
    "  cobertura_percentual_beta <- mean(dentro_do_intervalo_beta, na.rm = TRUE) * 100\n",
    "\n",
    "  \n",
    "  return(list(\n",
    "    cobertura_percentual_theta = cobertura_percentual_theta,\n",
    "    cobertura_percentual_beta = cobertura_percentual_beta,\n",
    "\n",
    "    total_dentro_theta = sum(dentro_do_intervalo_theta,na.rm=TRUE),\n",
    "    total_dentro_beta = sum(dentro_do_intervalo_beta,na.rm=TRUE),\n",
    "\n",
    "    total_r = sum(!is.na(dentro_do_intervalo_theta)),\n",
    "      \n",
    "    mean_dif_theta_boot_true = resultado$mean_theta_dif_boot_true,\n",
    "    mean_dif_theta_boot_est=resultado$mean_theta_dif_boot_est,\n",
    "    mean_dif_beta_boot_true = resultado$mean_beta_dif_boot_true ,\n",
    "    mean_dif_beta_boot_est=resultado$mean_beta_dif_boot_est\n",
    "  ))\n",
    "}\n"
   ]
  },
  {
   "cell_type": "code",
   "execution_count": 44,
   "id": "0fcc13a3",
   "metadata": {},
   "outputs": [
    {
     "name": "stderr",
     "output_type": "stream",
     "text": [
      "GLARMA failed to converge: Fisher Scoring fails to converge from the initial estimates.\n",
      "\n",
      "GLARMA failed to converge: Fisher Scoring fails to converge from the initial estimates.\n",
      "\n",
      "GLARMA failed to converge: Fisher Scoring fails to converge from the initial estimates.\n",
      "\n",
      "GLARMA failed to converge: Fisher Scoring fails to converge from the initial estimates.\n",
      "\n",
      "GLARMA failed to converge: Fisher Scoring fails to converge from the initial estimates.\n",
      "\n",
      "GLARMA failed to converge: Fisher Scoring fails to converge from the initial estimates.\n",
      "\n",
      "GLARMA failed to converge: Fisher Scoring fails to converge from the initial estimates.\n",
      "\n",
      "GLARMA failed to converge: Fisher Scoring fails to converge from the initial estimates.\n",
      "\n"
     ]
    },
    {
     "data": {
      "text/html": [
       "<dl>\n",
       "\t<dt>$cobertura_percentual_theta</dt>\n",
       "\t\t<dd>92</dd>\n",
       "\t<dt>$cobertura_percentual_beta</dt>\n",
       "\t\t<dd>92</dd>\n",
       "\t<dt>$total_dentro_theta</dt>\n",
       "\t\t<dd>92</dd>\n",
       "\t<dt>$total_dentro_beta</dt>\n",
       "\t\t<dd>92</dd>\n",
       "\t<dt>$total_r</dt>\n",
       "\t\t<dd>100</dd>\n",
       "\t<dt>$mean_dif_theta_boot_true</dt>\n",
       "\t\t<dd>0.00217628359507018</dd>\n",
       "\t<dt>$mean_dif_theta_boot_est</dt>\n",
       "\t\t<dd>2.41416906439163e-05</dd>\n",
       "\t<dt>$mean_dif_beta_boot_true</dt>\n",
       "\t\t<dd>0.494160383951601</dd>\n",
       "\t<dt>$mean_dif_beta_boot_est</dt>\n",
       "\t\t<dd>0.483344169615911</dd>\n",
       "</dl>\n"
      ],
      "text/latex": [
       "\\begin{description}\n",
       "\\item[\\$cobertura\\_percentual\\_theta] 92\n",
       "\\item[\\$cobertura\\_percentual\\_beta] 92\n",
       "\\item[\\$total\\_dentro\\_theta] 92\n",
       "\\item[\\$total\\_dentro\\_beta] 92\n",
       "\\item[\\$total\\_r] 100\n",
       "\\item[\\$mean\\_dif\\_theta\\_boot\\_true] 0.00217628359507018\n",
       "\\item[\\$mean\\_dif\\_theta\\_boot\\_est] 2.41416906439163e-05\n",
       "\\item[\\$mean\\_dif\\_beta\\_boot\\_true] 0.494160383951601\n",
       "\\item[\\$mean\\_dif\\_beta\\_boot\\_est] 0.483344169615911\n",
       "\\end{description}\n"
      ],
      "text/markdown": [
       "$cobertura_percentual_theta\n",
       ":   92\n",
       "$cobertura_percentual_beta\n",
       ":   92\n",
       "$total_dentro_theta\n",
       ":   92\n",
       "$total_dentro_beta\n",
       ":   92\n",
       "$total_r\n",
       ":   100\n",
       "$mean_dif_theta_boot_true\n",
       ":   0.00217628359507018\n",
       "$mean_dif_theta_boot_est\n",
       ":   2.41416906439163e-05\n",
       "$mean_dif_beta_boot_true\n",
       ":   0.494160383951601\n",
       "$mean_dif_beta_boot_est\n",
       ":   0.483344169615911\n",
       "\n",
       "\n"
      ],
      "text/plain": [
       "$cobertura_percentual_theta\n",
       "[1] 92\n",
       "\n",
       "$cobertura_percentual_beta\n",
       "[1] 92\n",
       "\n",
       "$total_dentro_theta\n",
       "[1] 92\n",
       "\n",
       "$total_dentro_beta\n",
       "[1] 92\n",
       "\n",
       "$total_r\n",
       "[1] 100\n",
       "\n",
       "$mean_dif_theta_boot_true\n",
       "[1] 0.002176284\n",
       "\n",
       "$mean_dif_theta_boot_est\n",
       "[1] 2.414169e-05\n",
       "\n",
       "$mean_dif_beta_boot_true\n",
       "[1] 0.4941604\n",
       "\n",
       "$mean_dif_beta_boot_est\n",
       "[1] 0.4833442\n"
      ]
     },
     "metadata": {},
     "output_type": "display_data"
    }
   ],
   "source": [
    "conferindo_cobertura_bootstrap(R=100,B=100)"
   ]
  },
  {
   "cell_type": "markdown",
   "id": "20af9fbb",
   "metadata": {},
   "source": [
    "O parâmetro verdadeiro está contido em 92% dos 100 intervalos de confiança. \n",
    "Também podemos notar que o erro quadratico médio é mais baixo quando comparamos a média do bootstrap com o parâmetro estimado do \n",
    "que com o parâmetro verdadeiro. Logo a distância é menor em relação ao parâmetro estimado."
   ]
  },
  {
   "cell_type": "markdown",
   "id": "59479a7c",
   "metadata": {},
   "source": [
    "# Bootstrap Não Paramétrico"
   ]
  },
  {
   "cell_type": "markdown",
   "id": "c9d52972",
   "metadata": {},
   "source": [
    "Vamos ver o que acontece no bootstrap não paramétrico:"
   ]
  },
  {
   "cell_type": "code",
   "execution_count": 45,
   "id": "390641f5",
   "metadata": {},
   "outputs": [],
   "source": [
    "e<-Amostra_original$e"
   ]
  },
  {
   "cell_type": "code",
   "execution_count": 46,
   "id": "e477fe12",
   "metadata": {},
   "outputs": [],
   "source": [
    "y<-Amostra_original$y"
   ]
  },
  {
   "cell_type": "code",
   "execution_count": 47,
   "id": "90738fce",
   "metadata": {},
   "outputs": [],
   "source": [
    "mu<-Amostra_original$mu"
   ]
  },
  {
   "cell_type": "code",
   "execution_count": 48,
   "id": "c1bfe91d",
   "metadata": {},
   "outputs": [],
   "source": [
    "X <- Amostra_original$x\n",
    "X <- as.matrix(X)\n",
    "colnames(X) <- \"Intercept\""
   ]
  },
  {
   "cell_type": "code",
   "execution_count": 49,
   "id": "520feeba",
   "metadata": {},
   "outputs": [],
   "source": [
    "e_boot <- replicate(B, sample(e, size = T, replace = TRUE))"
   ]
  },
  {
   "cell_type": "code",
   "execution_count": 50,
   "id": "66e9f98d",
   "metadata": {},
   "outputs": [],
   "source": [
    "gera_y_boot <- function(e,mu)\n",
    "{\n",
    "    \n",
    "    T <- length(e)\n",
    "    y <- numeric(T)\n",
    "    \n",
    "    for (t in 1:T)\n",
    "        {\n",
    "        y[t] = mu[t] + e[t]*sqrt(mu[t])\n",
    "        y[t] = round(y[t])\n",
    "        }\n",
    "    y[y < 1e-12] <- 0\n",
    "    return(data.frame(y=y))\n",
    "} "
   ]
  },
  {
   "cell_type": "code",
   "execution_count": 51,
   "id": "5caaeece",
   "metadata": {},
   "outputs": [],
   "source": [
    "est_bootstrap <- function(y,X)\n",
    "{\n",
    "  fit <- tryCatch({\n",
    "    glarma(y, X, phiLags = NULL, thetaLags = c(1), type = \"Poi\")\n",
    "  }, error = function(e) {\n",
    "    message(\"GLARMA failed to converge: \", e$message)\n",
    "    return(NULL)\n",
    "  })\n",
    "  \n",
    "  if (!is.null(fit) && !is.null(fit$delta) && length(fit$delta) >= 2 && is.numeric(fit$delta)) {\n",
    "    return(c(beta = fit$delta[1],theta = fit$delta[2])\n",
    "    )\n",
    "  } else {\n",
    "    return(c(beta = NA,theta = NA)\n",
    "    )\n",
    "  }\n",
    "}"
   ]
  },
  {
   "cell_type": "code",
   "execution_count": 52,
   "id": "820958aa",
   "metadata": {},
   "outputs": [],
   "source": [
    "gera_mu_boot <- function(e,y,x,par)\n",
    "{\n",
    "    z <- numeric(T)\n",
    "\n",
    "    beta <- par[1]\n",
    "    theta <- par[2]\n",
    "    \n",
    "    for (t in 1:T) {\n",
    "        z_t <- 0\n",
    "        if (t > 1) z_t <-  e[t - 1] * theta\n",
    "\n",
    "        eta <- beta * x[t] + z_t\n",
    "        mu[t] <- exp(eta)\n",
    "        z[t] <- z_t\n",
    "      }\n",
    "    return(mu)\n",
    "}"
   ]
  },
  {
   "cell_type": "code",
   "execution_count": 53,
   "id": "ea3b9eb8",
   "metadata": {},
   "outputs": [],
   "source": [
    "bootstrap_n_parametrico <- function(e_boot, mu_init, y, X, B)\n",
    "{\n",
    "\n",
    "    T <- length(y)\n",
    "    Y_Bootstrap <- matrix(NA, nrow = T, ncol = B)\n",
    "    theta_boot <- numeric(B)\n",
    "    beta_boot <- numeric(B)\n",
    "\n",
    "    mu_current <- mu_init  \n",
    "  \n",
    "  for (b in 1:B) {\n",
    "    e <- e_boot[, b]\n",
    "    \n",
    "    y_boot <- gera_y_boot(e, mu_current)\n",
    "    y_boot<-y_boot$y\n",
    "    Y_Bootstrap[, b] <- y_boot\n",
    "    \n",
    "    par <- est_bootstrap(y_boot, X)\n",
    "    theta_boot[b] <- par[2]\n",
    "    beta_boot[b] <- par[1]\n",
    "      \n",
    "    mu_current <- gera_mu_boot(e=e, y=y_boot, x=X, par=par)\n",
    "  }\n",
    "   \n",
    "  return(cbind(beta_boot,theta_boot))\n",
    "}"
   ]
  },
  {
   "cell_type": "code",
   "execution_count": 54,
   "id": "0aa36770",
   "metadata": {},
   "outputs": [],
   "source": [
    "par_bootstrap <- bootstrap_n_parametrico(e_boot=e_boot,mu=mu,y=y,X=X,B=B)"
   ]
  },
  {
   "cell_type": "code",
   "execution_count": 55,
   "id": "130e1f93",
   "metadata": {},
   "outputs": [
    {
     "data": {
      "text/html": [
       "-0.000370618399197457"
      ],
      "text/latex": [
       "-0.000370618399197457"
      ],
      "text/markdown": [
       "-0.000370618399197457"
      ],
      "text/plain": [
       "[1] -0.0003706184"
      ]
     },
     "metadata": {},
     "output_type": "display_data"
    }
   ],
   "source": [
    "mean(par_bootstrap[,'theta_boot'])"
   ]
  },
  {
   "cell_type": "code",
   "execution_count": 56,
   "id": "1296650a",
   "metadata": {
    "scrolled": true
   },
   "outputs": [
    {
     "data": {
      "image/png": "[encoded data removed]",
      "text/plain": [
       "Plot with title \"Histogram of par_bootstrap[, \"theta_boot\"]\""
      ]
     },
     "metadata": {
      "image/png": {
       "height": 420,
       "width": 420
      }
     },
     "output_type": "display_data"
    }
   ],
   "source": [
    "hist(par_bootstrap[,'theta_boot'])"
   ]
  },
  {
   "cell_type": "markdown",
   "id": "3ad5b60e",
   "metadata": {},
   "source": [
    "O bootstrap não paramétrico deu errado, como o esperado. Eu montei o experimento Monte Carlo para o código ficar completo:"
   ]
  },
  {
   "cell_type": "markdown",
   "id": "973fde64",
   "metadata": {},
   "source": [
    "### Questão 2"
   ]
  },
  {
   "cell_type": "code",
   "execution_count": 59,
   "id": "deec85f2",
   "metadata": {},
   "outputs": [],
   "source": [
    "Questao2 <- function(B=20,T=100,beta=1,theta=0.3,R=2)\n",
    "    {\n",
    "    \n",
    "    theta_estimado <- numeric(R)\n",
    "    beta_estimado <- numeric(R)\n",
    "    mean_theta_bootstrap <- numeric(R)\n",
    "    mean_beta_bootstrap <- numeric(R)\n",
    "    IC_theta_bootstrap <- vector(\"list\", R)\n",
    "    IC_beta_bootstrap <- vector(\"list\", R)\n",
    "    theta_dif_boot_true <- numeric(R)\n",
    "    theta_dif_boot_est <- numeric(R)\n",
    "    beta_dif_boot_true <- numeric(R)\n",
    "    beta_dif_boot_est <- numeric(R)\n",
    "\n",
    "    for (r in 1:R)\n",
    "        {\n",
    "\n",
    "        Amostra_original<-simulate_glarma(T=100,beta=1,theta=0.3,x=NULL)\n",
    "        X <- Amostra_original$x\n",
    "        X <- as.matrix(X)\n",
    "        colnames(X) <- \"Intercept\"\n",
    "\n",
    "        result=glarma(Amostra_original$y, X, phiLags = NULL ,thetaLags = c(1), type = \"Poi\")\n",
    "        beta_estimado[r]<-result$delta[1]\n",
    "        theta_estimado[r]<-result$delta[2]\n",
    "        \n",
    "        e<-Amostra_original$e\n",
    "        e_boot <- replicate(B, sample(e, size = T, replace = TRUE))\n",
    "        \n",
    "        par_bootstrap<-bootstrap_n_parametrico(e_boot=e_boot,B=20,mu_init=Amostra_original$mu,y=Amostra_original$y,X=X)\n",
    "        \n",
    "        Theta_bootstrap<-par_bootstrap[,'theta_boot']\n",
    "        Beta_bootstrap<-par_bootstrap[,'beta_boot']\n",
    "\n",
    "        \n",
    "        mean_theta_bootstrap[r] <- mean(Theta_bootstrap)\n",
    "        mean_beta_bootstrap[r] <- mean(Beta_bootstrap)\n",
    "        \n",
    "        IC_theta_bootstrap[[r]]<-quantile(Theta_bootstrap, probs = c(0.025, 0.975))\n",
    "        IC_beta_bootstrap[[r]]<-quantile(Beta_bootstrap, probs = c(0.025, 0.975))\n",
    "        \n",
    "        theta_dif_boot_est[r] <- (mean_theta_bootstrap[r] - theta_estimado[r])^2\n",
    "        theta_dif_boot_true[r] <- (mean_theta_bootstrap[r] - theta)^2\n",
    "\n",
    "        beta_dif_boot_est[r] <- (mean_beta_bootstrap[r] - beta_estimado[r])^2\n",
    "        beta_dif_boot_true[r] <- (mean_beta_bootstrap[r] - beta)^2\n",
    "\n",
    "        }\n",
    "    return(list('theta_estimado'=theta_estimado,\n",
    "                'beta_estimado'=beta_estimado,\n",
    "                'mean_theta_bootstrap'=mean_theta_bootstrap,\n",
    "                'mean_beta_bootstrap'=mean_beta_bootstrap,\n",
    "                'IC_theta_bootstrap'=IC_theta_bootstrap,\n",
    "               'IC_beta_bootstrap'=IC_beta_bootstrap,\n",
    "                'mean_theta_dif_boot_est' = mean(theta_dif_boot_est, na.rm = TRUE),\n",
    "                'mean_theta_dif_boot_true' = mean(theta_dif_boot_true, na.rm = TRUE),\n",
    "                'mean_beta_dif_boot_est' = mean(beta_dif_boot_est, na.rm = TRUE),\n",
    "                'mean_beta_dif_boot_true' = mean(beta_dif_boot_true, na.rm = TRUE)\n",
    "                ))\n",
    "    } "
   ]
  },
  {
   "cell_type": "markdown",
   "id": "7297e1ec",
   "metadata": {},
   "source": [
    "Testando as funções:"
   ]
  },
  {
   "cell_type": "code",
   "execution_count": 60,
   "id": "61e4c0f5",
   "metadata": {},
   "outputs": [],
   "source": [
    "MM_bootstrap_n_parametrico<-Questao2(B=20,R=2)"
   ]
  },
  {
   "cell_type": "code",
   "execution_count": 61,
   "id": "d8dca004",
   "metadata": {},
   "outputs": [
    {
     "data": {
      "text/html": [
       "<dl>\n",
       "\t<dt>$theta_estimado</dt>\n",
       "\t\t<dd><style>\n",
       ".list-inline {list-style: none; margin:0; padding: 0}\n",
       ".list-inline>li {display: inline-block}\n",
       ".list-inline>li:not(:last-child)::after {content: \"\\00b7\"; padding: 0 .5ex}\n",
       "</style>\n",
       "<ol class=list-inline><li>0.282816431072546</li><li>0.325890607844324</li></ol>\n",
       "</dd>\n",
       "\t<dt>$beta_estimado</dt>\n",
       "\t\t<dd><style>\n",
       ".list-inline {list-style: none; margin:0; padding: 0}\n",
       ".list-inline>li {display: inline-block}\n",
       ".list-inline>li:not(:last-child)::after {content: \"\\00b7\"; padding: 0 .5ex}\n",
       "</style>\n",
       "<ol class=list-inline><li>1.04409512264816</li><li>0.949878856913491</li></ol>\n",
       "</dd>\n",
       "\t<dt>$mean_theta_bootstrap</dt>\n",
       "\t\t<dd><style>\n",
       ".list-inline {list-style: none; margin:0; padding: 0}\n",
       ".list-inline>li {display: inline-block}\n",
       ".list-inline>li:not(:last-child)::after {content: \"\\00b7\"; padding: 0 .5ex}\n",
       "</style>\n",
       "<ol class=list-inline><li>-0.0133797731679488</li><li>-0.00509248055837412</li></ol>\n",
       "</dd>\n",
       "\t<dt>$mean_beta_bootstrap</dt>\n",
       "\t\t<dd><style>\n",
       ".list-inline {list-style: none; margin:0; padding: 0}\n",
       ".list-inline>li {display: inline-block}\n",
       ".list-inline>li:not(:last-child)::after {content: \"\\00b7\"; padding: 0 .5ex}\n",
       "</style>\n",
       "<ol class=list-inline><li>1.18326431256418</li><li>0.94886120057529</li></ol>\n",
       "</dd>\n",
       "\t<dt>$IC_theta_bootstrap</dt>\n",
       "\t\t<dd><ol>\n",
       "\t<li><style>\n",
       ".dl-inline {width: auto; margin:0; padding: 0}\n",
       ".dl-inline>dt, .dl-inline>dd {float: none; width: auto; display: inline-block}\n",
       ".dl-inline>dt::after {content: \":\\0020\"; padding-right: .5ex}\n",
       ".dl-inline>dt:not(:first-of-type) {padding-left: .5ex}\n",
       "</style><dl class=dl-inline><dt>2.5%</dt><dd>-0.158034161411147</dd><dt>97.5%</dt><dd>0.0688101305732844</dd></dl>\n",
       "</li>\n",
       "\t<li><style>\n",
       ".dl-inline {width: auto; margin:0; padding: 0}\n",
       ".dl-inline>dt, .dl-inline>dd {float: none; width: auto; display: inline-block}\n",
       ".dl-inline>dt::after {content: \":\\0020\"; padding-right: .5ex}\n",
       ".dl-inline>dt:not(:first-of-type) {padding-left: .5ex}\n",
       "</style><dl class=dl-inline><dt>2.5%</dt><dd>-0.128559988372725</dd><dt>97.5%</dt><dd>0.101332194159946</dd></dl>\n",
       "</li>\n",
       "</ol>\n",
       "</dd>\n",
       "\t<dt>$IC_beta_bootstrap</dt>\n",
       "\t\t<dd><ol>\n",
       "\t<li><style>\n",
       ".dl-inline {width: auto; margin:0; padding: 0}\n",
       ".dl-inline>dt, .dl-inline>dd {float: none; width: auto; display: inline-block}\n",
       ".dl-inline>dt::after {content: \":\\0020\"; padding-right: .5ex}\n",
       ".dl-inline>dt:not(:first-of-type) {padding-left: .5ex}\n",
       "</style><dl class=dl-inline><dt>2.5%</dt><dd>0.944477458455162</dd><dt>97.5%</dt><dd>1.46121032147708</dd></dl>\n",
       "</li>\n",
       "\t<li><style>\n",
       ".dl-inline {width: auto; margin:0; padding: 0}\n",
       ".dl-inline>dt, .dl-inline>dd {float: none; width: auto; display: inline-block}\n",
       ".dl-inline>dt::after {content: \":\\0020\"; padding-right: .5ex}\n",
       ".dl-inline>dt:not(:first-of-type) {padding-left: .5ex}\n",
       "</style><dl class=dl-inline><dt>2.5%</dt><dd>0.832989816411914</dd><dt>97.5%</dt><dd>1.09740571529093</dd></dl>\n",
       "</li>\n",
       "</ol>\n",
       "</dd>\n",
       "\t<dt>$mean_theta_dif_boot_est</dt>\n",
       "\t\t<dd>0.0986409981075326</dd>\n",
       "\t<dt>$mean_theta_dif_boot_true</dt>\n",
       "\t\t<dd>0.0956441519620284</dd>\n",
       "\t<dt>$mean_beta_dif_boot_est</dt>\n",
       "\t\t<dd>0.00968454952315114</dd>\n",
       "\t<dt>$mean_beta_dif_boot_true</dt>\n",
       "\t\t<dd>0.0181004925331102</dd>\n",
       "</dl>\n"
      ],
      "text/latex": [
       "\\begin{description}\n",
       "\\item[\\$theta\\_estimado] \\begin{enumerate*}\n",
       "\\item 0.282816431072546\n",
       "\\item 0.325890607844324\n",
       "\\end{enumerate*}\n",
       "\n",
       "\\item[\\$beta\\_estimado] \\begin{enumerate*}\n",
       "\\item 1.04409512264816\n",
       "\\item 0.949878856913491\n",
       "\\end{enumerate*}\n",
       "\n",
       "\\item[\\$mean\\_theta\\_bootstrap] \\begin{enumerate*}\n",
       "\\item -0.0133797731679488\n",
       "\\item -0.00509248055837412\n",
       "\\end{enumerate*}\n",
       "\n",
       "\\item[\\$mean\\_beta\\_bootstrap] \\begin{enumerate*}\n",
       "\\item 1.18326431256418\n",
       "\\item 0.94886120057529\n",
       "\\end{enumerate*}\n",
       "\n",
       "\\item[\\$IC\\_theta\\_bootstrap] \\begin{enumerate}\n",
       "\\item \\begin{description*}\n",
       "\\item[2.5\\textbackslash{}\\%] -0.158034161411147\n",
       "\\item[97.5\\textbackslash{}\\%] 0.0688101305732844\n",
       "\\end{description*}\n",
       "\n",
       "\\item \\begin{description*}\n",
       "\\item[2.5\\textbackslash{}\\%] -0.128559988372725\n",
       "\\item[97.5\\textbackslash{}\\%] 0.101332194159946\n",
       "\\end{description*}\n",
       "\n",
       "\\end{enumerate}\n",
       "\n",
       "\\item[\\$IC\\_beta\\_bootstrap] \\begin{enumerate}\n",
       "\\item \\begin{description*}\n",
       "\\item[2.5\\textbackslash{}\\%] 0.944477458455162\n",
       "\\item[97.5\\textbackslash{}\\%] 1.46121032147708\n",
       "\\end{description*}\n",
       "\n",
       "\\item \\begin{description*}\n",
       "\\item[2.5\\textbackslash{}\\%] 0.832989816411914\n",
       "\\item[97.5\\textbackslash{}\\%] 1.09740571529093\n",
       "\\end{description*}\n",
       "\n",
       "\\end{enumerate}\n",
       "\n",
       "\\item[\\$mean\\_theta\\_dif\\_boot\\_est] 0.0986409981075326\n",
       "\\item[\\$mean\\_theta\\_dif\\_boot\\_true] 0.0956441519620284\n",
       "\\item[\\$mean\\_beta\\_dif\\_boot\\_est] 0.00968454952315114\n",
       "\\item[\\$mean\\_beta\\_dif\\_boot\\_true] 0.0181004925331102\n",
       "\\end{description}\n"
      ],
      "text/markdown": [
       "$theta_estimado\n",
       ":   1. 0.282816431072546\n",
       "2. 0.325890607844324\n",
       "\n",
       "\n",
       "\n",
       "$beta_estimado\n",
       ":   1. 1.04409512264816\n",
       "2. 0.949878856913491\n",
       "\n",
       "\n",
       "\n",
       "$mean_theta_bootstrap\n",
       ":   1. -0.0133797731679488\n",
       "2. -0.00509248055837412\n",
       "\n",
       "\n",
       "\n",
       "$mean_beta_bootstrap\n",
       ":   1. 1.18326431256418\n",
       "2. 0.94886120057529\n",
       "\n",
       "\n",
       "\n",
       "$IC_theta_bootstrap\n",
       ":   1. 2.5%\n",
       ":   -0.15803416141114797.5%\n",
       ":   0.0688101305732844\n",
       "\n",
       "\n",
       "2. 2.5%\n",
       ":   -0.12855998837272597.5%\n",
       ":   0.101332194159946\n",
       "\n",
       "\n",
       "\n",
       "\n",
       "\n",
       "$IC_beta_bootstrap\n",
       ":   1. 2.5%\n",
       ":   0.94447745845516297.5%\n",
       ":   1.46121032147708\n",
       "\n",
       "\n",
       "2. 2.5%\n",
       ":   0.83298981641191497.5%\n",
       ":   1.09740571529093\n",
       "\n",
       "\n",
       "\n",
       "\n",
       "\n",
       "$mean_theta_dif_boot_est\n",
       ":   0.0986409981075326\n",
       "$mean_theta_dif_boot_true\n",
       ":   0.0956441519620284\n",
       "$mean_beta_dif_boot_est\n",
       ":   0.00968454952315114\n",
       "$mean_beta_dif_boot_true\n",
       ":   0.0181004925331102\n",
       "\n",
       "\n"
      ],
      "text/plain": [
       "$theta_estimado\n",
       "[1] 0.2828164 0.3258906\n",
       "\n",
       "$beta_estimado\n",
       "[1] 1.0440951 0.9498789\n",
       "\n",
       "$mean_theta_bootstrap\n",
       "[1] -0.013379773 -0.005092481\n",
       "\n",
       "$mean_beta_bootstrap\n",
       "[1] 1.1832643 0.9488612\n",
       "\n",
       "$IC_theta_bootstrap\n",
       "$IC_theta_bootstrap[[1]]\n",
       "       2.5%       97.5% \n",
       "-0.15803416  0.06881013 \n",
       "\n",
       "$IC_theta_bootstrap[[2]]\n",
       "      2.5%      97.5% \n",
       "-0.1285600  0.1013322 \n",
       "\n",
       "\n",
       "$IC_beta_bootstrap\n",
       "$IC_beta_bootstrap[[1]]\n",
       "     2.5%     97.5% \n",
       "0.9444775 1.4612103 \n",
       "\n",
       "$IC_beta_bootstrap[[2]]\n",
       "     2.5%     97.5% \n",
       "0.8329898 1.0974057 \n",
       "\n",
       "\n",
       "$mean_theta_dif_boot_est\n",
       "[1] 0.098641\n",
       "\n",
       "$mean_theta_dif_boot_true\n",
       "[1] 0.09564415\n",
       "\n",
       "$mean_beta_dif_boot_est\n",
       "[1] 0.00968455\n",
       "\n",
       "$mean_beta_dif_boot_true\n",
       "[1] 0.01810049\n"
      ]
     },
     "metadata": {},
     "output_type": "display_data"
    }
   ],
   "source": [
    "MM_bootstrap_n_parametrico"
   ]
  },
  {
   "cell_type": "code",
   "execution_count": 62,
   "id": "5e895051",
   "metadata": {},
   "outputs": [],
   "source": [
    "conferindo_cobertura_bootstrap2 <- function(B = 20, T = 100, beta = 1, theta = 0.3, R = 100) {\n",
    "  \n",
    "  resultado <- Questao2(B = B, T = T, beta = beta, theta = theta, R = R)\n",
    "\n",
    "  theta_estimado <- resultado$theta_estimado\n",
    "  beta_estimado <- resultado$beta_estimado\n",
    "    \n",
    "  IC_theta_bootstrap <- resultado$IC_theta_bootstrap\n",
    "  mean_theta_boot <- resultado$mean_theta_boot\n",
    "\n",
    "  IC_beta_bootstrap <- resultado$IC_beta_bootstrap\n",
    "  mean_beta_boot <- resultado$mean_beta_boot\n",
    "    \n",
    "  dentro_do_intervalo_theta <- logical(R)\n",
    "  dentro_do_intervalo_beta <- logical(R)\n",
    "\n",
    "    \n",
    " for (r in 1:R) {\n",
    "    intervalo_theta <- IC_theta_bootstrap[[r]]\n",
    "    intervalo_beta <- IC_beta_bootstrap[[r]]\n",
    "    \n",
    "    if (any(is.na(intervalo_theta))) {\n",
    "      dentro_do_intervalo_theta[r] <- NA\n",
    "      dentro_do_intervalo_beta[r] <- NA\n",
    "    } else {\n",
    "      dentro_do_intervalo_theta[r] <- (theta >= intervalo_theta[1]) && (theta <= intervalo_theta[2])\n",
    "      dentro_do_intervalo_beta[r] <- (beta >= intervalo_beta[1]) && (beta <= intervalo_beta[2])\n",
    "    }\n",
    "  }\n",
    "\n",
    "  cobertura_percentual_theta <- mean(dentro_do_intervalo_theta, na.rm = TRUE) * 100\n",
    "  cobertura_percentual_beta <- mean(dentro_do_intervalo_beta, na.rm = TRUE) * 100\n",
    "\n",
    "  \n",
    "  return(list(\n",
    "    cobertura_percentual_theta = cobertura_percentual_theta,\n",
    "    cobertura_percentual_beta = cobertura_percentual_beta,\n",
    "\n",
    "    total_dentro_theta = sum(dentro_do_intervalo_theta,na.rm=TRUE),\n",
    "    total_dentro_beta = sum(dentro_do_intervalo_beta,na.rm=TRUE),\n",
    "\n",
    "    total_r = sum(!is.na(dentro_do_intervalo_theta)),\n",
    "      \n",
    "    mean_dif_theta_boot_true = resultado$mean_theta_dif_boot_true,\n",
    "    mean_dif_theta_boot_est=resultado$mean_theta_dif_boot_est,\n",
    "    mean_dif_beta_boot_true = resultado$mean_beta_dif_boot_true ,\n",
    "    mean_dif_beta_boot_est=resultado$mean_beta_dif_boot_est\n",
    "  ))\n",
    "}\n"
   ]
  },
  {
   "cell_type": "code",
   "execution_count": 63,
   "id": "5a23762e",
   "metadata": {},
   "outputs": [
    {
     "data": {
      "text/html": [
       "<dl>\n",
       "\t<dt>$cobertura_percentual_theta</dt>\n",
       "\t\t<dd>0</dd>\n",
       "\t<dt>$cobertura_percentual_beta</dt>\n",
       "\t\t<dd>0</dd>\n",
       "\t<dt>$total_dentro_theta</dt>\n",
       "\t\t<dd>0</dd>\n",
       "\t<dt>$total_dentro_beta</dt>\n",
       "\t\t<dd>0</dd>\n",
       "\t<dt>$total_r</dt>\n",
       "\t\t<dd>2</dd>\n",
       "\t<dt>$mean_dif_theta_boot_true</dt>\n",
       "\t\t<dd>0.0849217372298995</dd>\n",
       "\t<dt>$mean_dif_theta_boot_est</dt>\n",
       "\t\t<dd>0.0927827690486409</dd>\n",
       "\t<dt>$mean_dif_beta_boot_true</dt>\n",
       "\t\t<dd>0.596613767025563</dd>\n",
       "\t<dt>$mean_dif_beta_boot_est</dt>\n",
       "\t\t<dd>0.45780750192877</dd>\n",
       "</dl>\n"
      ],
      "text/latex": [
       "\\begin{description}\n",
       "\\item[\\$cobertura\\_percentual\\_theta] 0\n",
       "\\item[\\$cobertura\\_percentual\\_beta] 0\n",
       "\\item[\\$total\\_dentro\\_theta] 0\n",
       "\\item[\\$total\\_dentro\\_beta] 0\n",
       "\\item[\\$total\\_r] 2\n",
       "\\item[\\$mean\\_dif\\_theta\\_boot\\_true] 0.0849217372298995\n",
       "\\item[\\$mean\\_dif\\_theta\\_boot\\_est] 0.0927827690486409\n",
       "\\item[\\$mean\\_dif\\_beta\\_boot\\_true] 0.596613767025563\n",
       "\\item[\\$mean\\_dif\\_beta\\_boot\\_est] 0.45780750192877\n",
       "\\end{description}\n"
      ],
      "text/markdown": [
       "$cobertura_percentual_theta\n",
       ":   0\n",
       "$cobertura_percentual_beta\n",
       ":   0\n",
       "$total_dentro_theta\n",
       ":   0\n",
       "$total_dentro_beta\n",
       ":   0\n",
       "$total_r\n",
       ":   2\n",
       "$mean_dif_theta_boot_true\n",
       ":   0.0849217372298995\n",
       "$mean_dif_theta_boot_est\n",
       ":   0.0927827690486409\n",
       "$mean_dif_beta_boot_true\n",
       ":   0.596613767025563\n",
       "$mean_dif_beta_boot_est\n",
       ":   0.45780750192877\n",
       "\n",
       "\n"
      ],
      "text/plain": [
       "$cobertura_percentual_theta\n",
       "[1] 0\n",
       "\n",
       "$cobertura_percentual_beta\n",
       "[1] 0\n",
       "\n",
       "$total_dentro_theta\n",
       "[1] 0\n",
       "\n",
       "$total_dentro_beta\n",
       "[1] 0\n",
       "\n",
       "$total_r\n",
       "[1] 2\n",
       "\n",
       "$mean_dif_theta_boot_true\n",
       "[1] 0.08492174\n",
       "\n",
       "$mean_dif_theta_boot_est\n",
       "[1] 0.09278277\n",
       "\n",
       "$mean_dif_beta_boot_true\n",
       "[1] 0.5966138\n",
       "\n",
       "$mean_dif_beta_boot_est\n",
       "[1] 0.4578075\n"
      ]
     },
     "metadata": {},
     "output_type": "display_data"
    }
   ],
   "source": [
    "conferindo_cobertura_bootstrap2(R=2)"
   ]
  },
  {
   "cell_type": "markdown",
   "id": "0e10bf53",
   "metadata": {},
   "source": [
    "Já sabemos que o não paramétrico está errado, logo fiz poucas iterações."
   ]
  },
  {
   "cell_type": "markdown",
   "id": "0e6bee7d",
   "metadata": {},
   "source": [
    "# Questão 3"
   ]
  },
  {
   "cell_type": "markdown",
   "id": "0ed932a3",
   "metadata": {},
   "source": [
    "criando a funçao que faz previsões no modelo glarma:"
   ]
  },
  {
   "cell_type": "code",
   "execution_count": 5,
   "id": "2470ec58",
   "metadata": {},
   "outputs": [],
   "source": [
    "prev_glarma <- function(y, x, beta, theta, seed = NULL) {\n",
    "\n",
    " futuro_x <- rep(mean(x[, 1], na.rm = TRUE), 1)\n",
    "\n",
    "  if (!is.null(seed)) set.seed(seed)\n",
    "  \n",
    "  T <- length(y)\n",
    "  mu <- numeric(T)\n",
    "  e <- numeric(T)\n",
    "  z <- numeric(T)\n",
    "  \n",
    "  #passo 1, reconstruir z,e,mu\n",
    "    \n",
    "  for (t in 1:T) {\n",
    "      \n",
    "    z_t <- if (t > 1) e[t - 1] * theta else 0\n",
    "    eta <- beta * x[t] + z_t\n",
    "    mu[t] <- exp(eta)\n",
    "    e[t] <- (y[t] - mu[t]) / sqrt(mu[t])\n",
    "    z[t] <- z_t\n",
    "  }\n",
    "  \n",
    "    e_t <- e[T]\n",
    "\n",
    "    z_t <- e_t * theta\n",
    "\n",
    "    eta <- beta * futuro_x + z_t\n",
    "   \n",
    "    y_pred <-  exp(eta)\n",
    "\n",
    "\n",
    "\n",
    "  return(list('y_pred'= y_pred))\n",
    "}\n"
   ]
  },
  {
   "cell_type": "markdown",
   "id": "d08d416a",
   "metadata": {},
   "source": [
    "criando uma função que faz o Intervalo preditivo bootstrap utilizando o bootstrap paramétrico já apresentado."
   ]
  },
  {
   "cell_type": "code",
   "execution_count": 42,
   "id": "37d8abbd",
   "metadata": {},
   "outputs": [],
   "source": [
    "intervalo_preditivo_bootstrap <- function(T=100,B=100, beta = 1, theta = 0.3,R=2){\n",
    "    \n",
    "    mean_Y_pred <- numeric(R)\n",
    "    IC_pred <- vector(\"list\", R)\n",
    "    Y_teste <- numeric(R)\n",
    "    \n",
    "    x_train <- rep(1,(T-1))\n",
    "    x_train <- as.matrix(x_train)\n",
    "    colnames(x_train) <- \"Intercept\"\n",
    "    \n",
    "    for (r in 1:R)\n",
    "    {\n",
    "        \n",
    "    Y_pred<-numeric(B)\n",
    "    beta_boot<-numeric(B)\n",
    "    theta_boot<-numeric(B)\n",
    "        \n",
    "    boot <- bootstrap_parametrico(T=T,B=B, beta = 1, theta = 0.3)\n",
    "    \n",
    "    Y <- boot$Amostra_original\n",
    "    Y_train = Y[1:(T-1)]\n",
    "    Y_test = Y[T]\n",
    "    \n",
    "    theta_boot<-boot$Theta_bootstrap$theta\n",
    "    beta_boot<-boot$Beta_bootstrap$beta\n",
    "    \n",
    "    for (b in 1:B)\n",
    "        {\n",
    "        prev<-prev_glarma(y=Y_train,x=x_train,beta=beta_boot[b],theta=theta_boot[b])\n",
    "        Y_pred[b]<-prev$y_pred\n",
    "        }\n",
    "        \n",
    "    mean_Y_pred[r]=mean(Y_pred,na.rm=TRUE)\n",
    "        \n",
    "    IC_pred[[r]]<-quantile(Y_pred,probs = c(0.025, 0.975),na.rm=TRUE)\n",
    "    IC_pred[[r]] <- c(floor(IC_pred[[r]][1]), ceiling(IC_pred[[r]][2]))\n",
    "\n",
    "    Y_teste[r]<-Y_test\n",
    "    }\n",
    "    \n",
    "        return(list('Y_test'=Y_teste,'IC_pred'=IC_pred))\n",
    "}"
   ]
  },
  {
   "cell_type": "markdown",
   "id": "f7d46bb1",
   "metadata": {},
   "source": [
    "Eu arredondei os limites dos intervalos para o inteiro mais próximo, pois o Y_test é inteiro."
   ]
  },
  {
   "cell_type": "markdown",
   "id": "3a457c45",
   "metadata": {},
   "source": [
    "conferindo_IP verifica o percentual de intervalos que contém o Y_teste:"
   ]
  },
  {
   "cell_type": "code",
   "execution_count": 38,
   "id": "0c57dc93",
   "metadata": {},
   "outputs": [],
   "source": [
    "conferindo_IP <- function(B = 100, T = 100, beta = 1, theta = 0.3, R=2) {\n",
    "  \n",
    "  dentro_do_intervalo <- logical(R)\n",
    "\n",
    "    resultado <- intervalo_preditivo_bootstrap(T=T,B=B, beta = beta, theta = theta,R=R)\n",
    "\n",
    "    Y_test <- resultado$Y_test\n",
    "    IC_pred <- resultado$IC_pred\n",
    "  \n",
    "  for (r in 1:R) {\n",
    "    \n",
    "    intervalo <- IC_pred[[r]]\n",
    "    \n",
    "    if (any(is.na(intervalo))) {\n",
    "      dentro_do_intervalo[r] <- NA\n",
    "    } else {\n",
    "    dentro_do_intervalo[r] <- (Y_test[r] >= intervalo[1]) && (Y_test[r] <= intervalo[2])\n",
    "    }\n",
    "  }\n",
    "\n",
    "  cobertura_percentual <- mean(dentro_do_intervalo,na.rm = TRUE) * 100\n",
    "  \n",
    "  return(list(\n",
    "    total_dentro = sum(dentro_do_intervalo,na.rm = TRUE),\n",
    "    cobertura_percentual = cobertura_percentual,    \n",
    "    total_R = sum(!is.na(dentro_do_intervalo))    \n",
    "  ))\n",
    "    \n",
    "}"
   ]
  },
  {
   "cell_type": "code",
   "execution_count": 39,
   "id": "46d1e65e",
   "metadata": {},
   "outputs": [
    {
     "data": {
      "text/html": [
       "<dl>\n",
       "\t<dt>$total_dentro</dt>\n",
       "\t\t<dd>8</dd>\n",
       "\t<dt>$cobertura_percentual</dt>\n",
       "\t\t<dd>80</dd>\n",
       "\t<dt>$total_R</dt>\n",
       "\t\t<dd>10</dd>\n",
       "</dl>\n"
      ],
      "text/latex": [
       "\\begin{description}\n",
       "\\item[\\$total\\_dentro] 8\n",
       "\\item[\\$cobertura\\_percentual] 80\n",
       "\\item[\\$total\\_R] 10\n",
       "\\end{description}\n"
      ],
      "text/markdown": [
       "$total_dentro\n",
       ":   8\n",
       "$cobertura_percentual\n",
       ":   80\n",
       "$total_R\n",
       ":   10\n",
       "\n",
       "\n"
      ],
      "text/plain": [
       "$total_dentro\n",
       "[1] 8\n",
       "\n",
       "$cobertura_percentual\n",
       "[1] 80\n",
       "\n",
       "$total_R\n",
       "[1] 10\n"
      ]
     },
     "metadata": {},
     "output_type": "display_data"
    }
   ],
   "source": [
    "conferindo_IP(R=10,B=50)"
   ]
  },
  {
   "cell_type": "markdown",
   "id": "aedc0e36",
   "metadata": {},
   "source": [
    "Nos 10 experimentos feitos, o Y_teste está no intervalo 8 vezes. "
   ]
  },
  {
   "cell_type": "markdown",
   "id": "8ab24cf5",
   "metadata": {},
   "source": [
    "Fiquei com dúvida na questão 3, poderia me ajudar após a entrega do trabalho?"
   ]
  }
 ],
 "metadata": {
  "kernelspec": {
   "display_name": "R",
   "language": "R",
   "name": "ir"
  },
  "language_info": {
   "codemirror_mode": "r",
   "file_extension": ".r",
   "mimetype": "text/x-r-source",
   "name": "R",
   "pygments_lexer": "r",
   "version": "4.4.2"
  }
 },
 "nbformat": 4,
 "nbformat_minor": 5
}
