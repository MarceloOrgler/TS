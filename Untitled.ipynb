{
 "cells": [
  {
   "cell_type": "markdown",
   "id": "8b07ec92",
   "metadata": {},
   "source": [
    "Instalando e carregando as bibliotecas utilizadas"
   ]
  },
  {
   "cell_type": "code",
   "execution_count": 2,
   "id": "38c22fb8",
   "metadata": {},
   "outputs": [],
   "source": [
    "library(pacman)\n",
    "p_load(ggplot2,forecast,dlm,numDeriv,plotly)"
   ]
  },
  {
   "cell_type": "markdown",
   "id": "57d13059",
   "metadata": {},
   "source": [
    "Carregando as funções auxiliares, que não podem ser mostras aqui ainda"
   ]
  },
  {
   "cell_type": "code",
   "execution_count": 4,
   "id": "2efaf68d",
   "metadata": {},
   "outputs": [],
   "source": [
    "source('funcoes_auxiliares.R')"
   ]
  },
  {
   "cell_type": "code",
   "execution_count": null,
   "id": "da2ed134",
   "metadata": {},
   "outputs": [],
   "source": []
  }
 ],
 "metadata": {
  "kernelspec": {
   "display_name": "R",
   "language": "R",
   "name": "ir"
  },
  "language_info": {
   "codemirror_mode": "r",
   "file_extension": ".r",
   "mimetype": "text/x-r-source",
   "name": "R",
   "pygments_lexer": "r",
   "version": "4.4.2"
  }
 },
 "nbformat": 4,
 "nbformat_minor": 5
}
