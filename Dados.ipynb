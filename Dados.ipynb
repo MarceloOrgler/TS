{
 "cells": [
  {
   "cell_type": "code",
   "execution_count": 2,
   "id": "69fd7f67",
   "metadata": {},
   "outputs": [],
   "source": [
    "library(pacman)"
   ]
  },
  {
   "cell_type": "code",
   "execution_count": 11,
   "id": "806bd384",
   "metadata": {},
   "outputs": [],
   "source": [
    "source('funcoes_auxiliares.R')"
   ]
  },
  {
   "cell_type": "markdown",
   "id": "54db1a2c",
   "metadata": {},
   "source": [
    "# Salvando os dados"
   ]
  },
  {
   "cell_type": "code",
   "execution_count": 12,
   "id": "c030f8ad",
   "metadata": {},
   "outputs": [],
   "source": [
    "y_mnl1 <- simul_y_mnl(T=100,10,0.5,n_seed=1)"
   ]
  },
  {
   "cell_type": "code",
   "execution_count": 13,
   "id": "d3f52ab3",
   "metadata": {},
   "outputs": [],
   "source": [
    "y_mnl2 <- simul_y_mnl(T=1000,10,0.5,1)"
   ]
  },
  {
   "cell_type": "code",
   "execution_count": 14,
   "id": "8aafe3cf",
   "metadata": {},
   "outputs": [],
   "source": [
    "y_mnl3 <- simul_y_mnl(T=1000,1,0.5,1)\n"
   ]
  },
  {
   "cell_type": "code",
   "execution_count": 37,
   "id": "1d5a1262",
   "metadata": {},
   "outputs": [],
   "source": [
    "T <- 100\n",
    "sigma2_epsilon <- 4\n",
    "sigma2_eta <- 1   \n",
    "sigma2_qsi <- 0.1\n",
    "n_seed <- 42\n",
    "\n",
    "y_mtl <- simul_y_mtl(T, sigma2_eta=sigma2_eta, sigma2_qsi=sigma2_qsi, sigma2_epsilon=sigma2_epsilon, n_seed=n_seed)"
   ]
  },
  {
   "cell_type": "code",
   "execution_count": 16,
   "id": "d659ec1a",
   "metadata": {},
   "outputs": [],
   "source": [
    "y_mtl4 <- simul_y_mtl(T=100,10,0.1,1,n_seed=1)"
   ]
  },
  {
   "cell_type": "code",
   "execution_count": 17,
   "id": "c9a3cb13",
   "metadata": {},
   "outputs": [],
   "source": [
    "y_mnl5 <- simul_y_mnl(T=T,1,0.5,1)"
   ]
  },
  {
   "cell_type": "code",
   "execution_count": 18,
   "id": "d8dc8fd2",
   "metadata": {},
   "outputs": [],
   "source": [
    "T=1000\n",
    "y_mnl6 <- simul_y_mnl(T=T,1,0.5,1)"
   ]
  },
  {
   "cell_type": "code",
   "execution_count": 20,
   "id": "f538588e",
   "metadata": {},
   "outputs": [],
   "source": [
    "saveRDS(list(vetor1 = y_mnl1, vetor2 = y_mnl2,vector3=y_mnl3,vector4=y_mtl,vetor5=y_mnl5,vector5=y_mnl6), \"dados.rds\")"
   ]
  },
  {
   "cell_type": "markdown",
   "id": "9bb988e5",
   "metadata": {},
   "source": [
    "# lendo os vetores"
   ]
  },
  {
   "cell_type": "code",
   "execution_count": 21,
   "id": "2e63d09e",
   "metadata": {},
   "outputs": [],
   "source": [
    "dados <- readRDS(\"dados.rds\")"
   ]
  },
  {
   "cell_type": "code",
   "execution_count": 24,
   "id": "e7c2f459",
   "metadata": {},
   "outputs": [],
   "source": [
    "y_mnl=dados$vetor1"
   ]
  }
 ],
 "metadata": {
  "kernelspec": {
   "display_name": "R",
   "language": "R",
   "name": "ir"
  },
  "language_info": {
   "codemirror_mode": "r",
   "file_extension": ".r",
   "mimetype": "text/x-r-source",
   "name": "R",
   "pygments_lexer": "r",
   "version": "4.4.2"
  }
 },
 "nbformat": 4,
 "nbformat_minor": 5
}
