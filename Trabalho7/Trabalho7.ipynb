{
 "cells": [
  {
   "cell_type": "code",
   "execution_count": 23,
   "id": "dc566eef",
   "metadata": {},
   "outputs": [],
   "source": [
    "library(pacman)\n",
    "p_load(dplyr,tidyr,splines,glarma)"
   ]
  },
  {
   "cell_type": "code",
   "execution_count": 24,
   "id": "2ded00f1",
   "metadata": {},
   "outputs": [
    {
     "data": {
      "text/html": [
       "'C:/Users/Marcelo/OneDrive/Área de Trabalho/ts/trabalho 2 - TS/Trabalho7'"
      ],
      "text/latex": [
       "'C:/Users/Marcelo/OneDrive/Área de Trabalho/ts/trabalho 2 - TS/Trabalho7'"
      ],
      "text/markdown": [
       "'C:/Users/Marcelo/OneDrive/Área de Trabalho/ts/trabalho 2 - TS/Trabalho7'"
      ],
      "text/plain": [
       "[1] \"C:/Users/Marcelo/OneDrive/Área de Trabalho/ts/trabalho 2 - TS/Trabalho7\""
      ]
     },
     "metadata": {},
     "output_type": "display_data"
    }
   ],
   "source": [
    "setwd('C:\\\\Users\\\\Marcelo\\\\OneDrive\\\\Área de Trabalho\\\\ts\\\\trabalho 2 - TS\\\\Trabalho7')\n",
    "getwd()"
   ]
  },
  {
   "cell_type": "markdown",
   "id": "687beb10",
   "metadata": {},
   "source": [
    "Função de Verossimilhança da Professora:"
   ]
  },
  {
   "cell_type": "code",
   "execution_count": 25,
   "id": "e88256a3",
   "metadata": {},
   "outputs": [],
   "source": [
    "Like <- function(Parametros, y, nb, np, nq, lamb, x, Ind) {\n",
    "  \n",
    "    \n",
    "  ny <- length(y)\n",
    "  \n",
    "  # Separating parameters: beta, fi, theta\n",
    "  if (nb > 0) {\n",
    "    beta <- Parametros[1:nb]\n",
    "  }\n",
    "  \n",
    "  ar_ma_start <- nb + 1\n",
    "  \n",
    "  if (np > 0 && nq == 0) {\n",
    "    fi <- Parametros[ar_ma_start:(ar_ma_start + np - 1)]\n",
    "  }\n",
    "  \n",
    "  if (nq > 0 && np == 0) {\n",
    "    theta <- Parametros[ar_ma_start:(ar_ma_start + nq - 1)]\n",
    "  }\n",
    "  \n",
    "  if (np > 0 && nq > 0) {\n",
    "    fi <- Parametros[ar_ma_start:(ar_ma_start + np - 1)]\n",
    "    theta <- Parametros[(ar_ma_start + np):(ar_ma_start + np + nq - 1)]\n",
    "  }\n",
    "  \n",
    "  # Initialize variables\n",
    "  z    <- rep(0, ny)\n",
    "  w    <- rep(0, ny)\n",
    "  mi   <- rep(0, ny)\n",
    "  erro <- rep(0, ny)\n",
    "  \n",
    "  # First observation: compute w[1]\n",
    "  if (nb == 0) {\n",
    "    w[1] <- 0\n",
    "  } else if (nb == 1) {\n",
    "    w[1] <- beta[1]\n",
    "  } else {\n",
    "    w[1] <- beta[1] + as.numeric(x[1, 1:(nb - 1)] %*% beta[2:nb])\n",
    "  }\n",
    "  \n",
    "  mi[1]   <- exp(w[1])\n",
    "  erro[1] <- (y[1] - mi[1]) / (mi[1]^lamb)\n",
    "  L       <- y[1] * w[1] - exp(w[1])\n",
    "  \n",
    "  # Loop over t = 2 to ny\n",
    "  for (t in 2:ny) {\n",
    "    \n",
    "    # AR component\n",
    "    if (np > 0) {\n",
    "      for (k in 1:min(np, t - 1)) {\n",
    "        z[t] <- z[t] + fi[k] * (z[t - k] + erro[t - k])\n",
    "      }\n",
    "    }\n",
    "    \n",
    "    # MA component\n",
    "    if (nq > 0) {\n",
    "      for (k in 1:min(nq, t - 1)) {\n",
    "        z[t] <- z[t] + theta[k] * erro[t - k]\n",
    "      }\n",
    "    }\n",
    "    \n",
    "    # Compute w[t] based on z[t] and x[t,]\n",
    "    if (nb == 0) {\n",
    "      w[t] <- z[t]\n",
    "    } else if (nb == 1) {\n",
    "      w[t] <- beta[1] + z[t]\n",
    "    } else {\n",
    "      w[t] <- beta[1] + as.numeric(x[t, 1:(nb - 1)] %*% beta[2:nb]) + z[t]\n",
    "    }\n",
    "    \n",
    "    mi[t]   <- exp(w[t])\n",
    "    erro[t] <- (y[t] - mi[t]) / (mi[t]^lamb)\n",
    "    L       <- L + y[t] * w[t] - exp(w[t])\n",
    "  }\n",
    "  \n",
    "  L <- -L  # negative log-likelihood\n",
    "  \n",
    "  valores <- cbind(erro, z, mi)\n",
    "  \n",
    "  if (Ind == 0) return(L)\n",
    "  if (Ind == 1) return(valores)\n",
    "}\n"
   ]
  },
  {
   "cell_type": "markdown",
   "id": "ba4bbcb1",
   "metadata": {},
   "source": [
    "Função que adiciona faz a estimação, calcula o AIC dado o numero de bases para cada covariável não linear:"
   ]
  },
  {
   "cell_type": "code",
   "execution_count": 26,
   "id": "ab2dd44c",
   "metadata": {},
   "outputs": [],
   "source": [
    "MLE_com_splines <- function(y, z_list, k_list,\n",
    "                          other_covariates = NULL,\n",
    "                          np = 0, nq = 0, lamb = 0.5,\n",
    "                          Ind = 0) {\n",
    "  \n",
    "  nz <- length(z_list)\n",
    "  \n",
    "  # Construindo as bases splines com seus respectivos ks.\n",
    "  spline_list <- list()\n",
    "  spline_sizes <- integer(nz)\n",
    "  \n",
    "  for (i in seq_along(z_list)) {\n",
    "    k_i <- k_list[[i]]\n",
    "    spline_i <- ns(z_list[[i]], df = k_i) #bases splines para a variável não linear numero i\n",
    "    spline_list[[i]] <- spline_i #lista com as bases\n",
    "    spline_sizes[i] <- ncol(spline_i) #numero de bases a variavel não linear i\n",
    "  }\n",
    "\n",
    "  # juntando as bases splines usando cbind:\n",
    "  names(spline_list) <- names(z_list)\n",
    "  spline_basis <- do.call(cbind, spline_list)\n",
    "  n_spline <- sum(spline_sizes)\n",
    "  \n",
    "  # Juntando com as outras covariáveis:\n",
    "  if (!is.null(other_covariates)) {\n",
    "    x <- cbind(spline_basis, other_covariates)\n",
    "    n_other <- ncol(other_covariates)\n",
    "  } else {\n",
    "    x <- spline_basis\n",
    "    n_other <- 0\n",
    "  }\n",
    "  \n",
    "  nb <- 1 + n_spline + n_other  # intercepto + splines + numero betas das outras cov\n",
    "  n_params <- nb + np + nq\n",
    "  start_vals <- rep(0, n_params)\n",
    "\n",
    "  # ajustando o modelo dado um numero fixo de bases para cada covariável não linear:\n",
    "  opt <- optim(par = start_vals,\n",
    "               fn = Like,\n",
    "               y = y,\n",
    "               nb = nb,\n",
    "               np = np,\n",
    "               nq = nq,\n",
    "               lamb = lamb,\n",
    "               x = x,\n",
    "               Ind = Ind,\n",
    "               method = \"BFGS\",\n",
    "               hessian = FALSE)\n",
    "\n",
    "  logLik <- -opt$value\n",
    "  AIC <- 2 * n_params - 2 * logLik\n",
    "\n",
    "  best_coef <- opt$par\n",
    "  beta0 <- best_coef[1]\n",
    "  beta_spline_all <- best_coef[2:(1 + n_spline)]\n",
    "  \n",
    "  # separando os coeficientes das bases splines para cada variável não linear:\n",
    "  beta_spline_list <- list()\n",
    "  idx <- 1\n",
    "  for (i in seq_along(z_list)) {\n",
    "    varname <- names(z_list)[i]\n",
    "    len <- spline_sizes[i]\n",
    "    beta_spline_list[[varname]] <- beta_spline_all[idx:(idx + len - 1)]\n",
    "    idx <- idx + len\n",
    "  }\n",
    "    \n",
    "  # separando os outros coeficientes:\n",
    "  beta_other <- if (n_other > 0)\n",
    "      {best_coef[(2 + n_spline):(1 + n_spline + n_other)]}\n",
    "                else {numeric(0)}\n",
    "    \n",
    "  fi   <- if (np > 0) \n",
    "      {best_coef[(nb + 1):(nb + np)]}\n",
    "                else {numeric(0)}\n",
    "  \n",
    "  theta <- if (nq > 0) \n",
    "      {best_coef[(nb + np + 1):(nb + np + nq)]} \n",
    "       else {numeric(0)}\n",
    "\n",
    "  fit <- list(\n",
    "    AIC = AIC,\n",
    "    logLik = logLik,\n",
    "    beta0 = beta0,\n",
    "    beta_spline = beta_spline_list,\n",
    "    beta_other = beta_other,\n",
    "    fi = fi,\n",
    "    theta = theta,\n",
    "    k_list = k_list\n",
    "  )\n",
    "\n",
    "  return(fit)\n",
    "}\n"
   ]
  },
  {
   "cell_type": "code",
   "execution_count": 27,
   "id": "6183d101",
   "metadata": {},
   "outputs": [],
   "source": [
    "select_best_k_multi <- function(y, z_list, k_ranges,\n",
    "                                other_covariates = NULL,\n",
    "                                np = 0, nq = 0, lamb = 0.5,\n",
    "                                Ind = 0) {\n",
    "  \n",
    "  # Gerando um grid com os possíveis numeros de bases para cada variável spline:\n",
    "    \n",
    "  k_grid <- expand.grid(k_ranges)\n",
    "  \n",
    "  best_AIC <- Inf\n",
    "  best_fit <- NULL\n",
    "  best_k_list <- NULL\n",
    "  \n",
    " #calculando o AIC para cada combinação de número de bases:\n",
    "  for (i in seq_len(nrow(k_grid))) \n",
    "  {\n",
    "    current_k <- as.list(k_grid[i, ])\n",
    "    \n",
    "    result <- tryCatch({\n",
    "                          MLE_com_splines(\n",
    "                            y = y,\n",
    "                            z_list = z_list,\n",
    "                            k_list = current_k,\n",
    "                            other_covariates = other_covariates,\n",
    "                            np = np,\n",
    "                            nq = nq,\n",
    "                            lamb = lamb,\n",
    "                            Ind = Ind\n",
    "                          )\n",
    "                        }, \n",
    "                       error = function(e) {return(NULL)}\n",
    "                      )\n",
    "    \n",
    "    if (!is.null(result) && result$AIC < best_AIC) {\n",
    "        \n",
    "      best_AIC <- result$AIC\n",
    "      best_fit <- result\n",
    "      best_k_list <- current_k\n",
    "    }\n",
    "  }\n",
    "    \n",
    "  best_fit$k_list <- best_k_list\n",
    "  return(best_fit)\n",
    "}\n"
   ]
  },
  {
   "cell_type": "markdown",
   "id": "4e0514c5",
   "metadata": {},
   "source": [
    "Pegando o dataset de Doença respiratórias:"
   ]
  },
  {
   "cell_type": "code",
   "execution_count": 28,
   "id": "44aab5e3",
   "metadata": {},
   "outputs": [],
   "source": [
    "df <- read.csv(\"DR.csv\",header = TRUE,sep=';')"
   ]
  },
  {
   "cell_type": "code",
   "execution_count": 29,
   "id": "4abe5d08",
   "metadata": {},
   "outputs": [
    {
     "data": {
      "text/plain": [
       "     Data            Atendimentos    tempmed               O3           \n",
       " Length:72          Min.   : 1.0   Length:72          Length:72         \n",
       " Class :character   1st Qu.:12.0   Class :character   Class :character  \n",
       " Mode  :character   Median :21.5   Mode  :character   Mode  :character  \n",
       "                    Mean   :24.1                                        \n",
       "                    3rd Qu.:33.0                                        \n",
       "                    Max.   :91.0                                        \n",
       "      CO                NO2                SO2           \n",
       " Length:72          Length:72          Length:72         \n",
       " Class :character   Class :character   Class :character  \n",
       " Mode  :character   Mode  :character   Mode  :character  \n",
       "                                                         \n",
       "                                                         \n",
       "                                                         "
      ]
     },
     "metadata": {},
     "output_type": "display_data"
    }
   ],
   "source": [
    "summary(df)"
   ]
  },
  {
   "cell_type": "code",
   "execution_count": 30,
   "id": "f35ab813",
   "metadata": {},
   "outputs": [],
   "source": [
    "df<- df %>% select(Atendimentos,tempmed,O3,CO,NO2,SO2)"
   ]
  },
  {
   "cell_type": "markdown",
   "id": "90d8237f",
   "metadata": {},
   "source": [
    "Limpando os dados:"
   ]
  },
  {
   "cell_type": "code",
   "execution_count": 31,
   "id": "c1ae5d35",
   "metadata": {},
   "outputs": [],
   "source": [
    "df[] <- lapply(df, function(x) {\n",
    "  if (is.character(x)) as.numeric(gsub(\",\", \".\", x)) else x\n",
    "})"
   ]
  },
  {
   "cell_type": "code",
   "execution_count": 32,
   "id": "42d29d21",
   "metadata": {},
   "outputs": [
    {
     "data": {
      "text/plain": [
       "  Atendimentos     tempmed            O3              CO        \n",
       " Min.   : 1.0   Min.   :18.85   Min.   :16.76   Min.   : 295.2  \n",
       " 1st Qu.:12.0   1st Qu.:22.61   1st Qu.:26.34   1st Qu.: 645.7  \n",
       " Median :21.5   Median :23.97   Median :32.22   Median : 829.8  \n",
       " Mean   :24.1   Mean   :24.17   Mean   :32.72   Mean   : 826.8  \n",
       " 3rd Qu.:33.0   3rd Qu.:26.02   3rd Qu.:38.44   3rd Qu.:1018.4  \n",
       " Max.   :91.0   Max.   :29.14   Max.   :48.15   Max.   :1616.3  \n",
       "      NO2             SO2        \n",
       " Min.   :11.19   Min.   : 5.959  \n",
       " 1st Qu.:19.33   1st Qu.: 9.361  \n",
       " Median :24.45   Median :11.140  \n",
       " Mean   :24.42   Mean   :11.809  \n",
       " 3rd Qu.:28.70   3rd Qu.:13.695  \n",
       " Max.   :38.72   Max.   :20.420  "
      ]
     },
     "metadata": {},
     "output_type": "display_data"
    }
   ],
   "source": [
    "summary(df)"
   ]
  },
  {
   "cell_type": "code",
   "execution_count": 33,
   "id": "037dcee4",
   "metadata": {},
   "outputs": [],
   "source": [
    "df<- df %>% drop_na()"
   ]
  },
  {
   "cell_type": "markdown",
   "id": "aa192c00",
   "metadata": {},
   "source": [
    "Montando o X:"
   ]
  },
  {
   "cell_type": "code",
   "execution_count": 34,
   "id": "efb76c07",
   "metadata": {},
   "outputs": [],
   "source": [
    "X <- as.matrix(df[ , setdiff(names(df), \"Atendimentos\")])"
   ]
  },
  {
   "cell_type": "markdown",
   "id": "4a5d4cea",
   "metadata": {},
   "source": [
    "Ajustando o modelo sem os splines:"
   ]
  },
  {
   "cell_type": "code",
   "execution_count": 35,
   "id": "2c641eb3",
   "metadata": {},
   "outputs": [
    {
     "data": {
      "text/plain": [
       "\n",
       "Call: glarma(y = df$Atendimentos, X = X, type = \"Poi\", phiLags = c(1), \n",
       "    thetaLags = NULL)\n",
       "\n",
       "Pearson Residuals:\n",
       "    Min       1Q   Median       3Q      Max  \n",
       "-5.1470  -1.5949  -0.2822   1.8875  11.4303  \n",
       "\n",
       "GLARMA Coefficients:\n",
       "      Estimate Std.Error z-ratio Pr(>|z|)    \n",
       "phi_1 0.064316  0.007945   8.095 6.66e-16 ***\n",
       "\n",
       "Linear Model Coefficients:\n",
       "          Estimate  Std.Error z-ratio Pr(>|z|)    \n",
       "tempmed  0.0626788  0.0080746   7.763 8.44e-15 ***\n",
       "O3       0.0417608  0.0038306  10.902  < 2e-16 ***\n",
       "CO       0.0018250  0.0001737  10.508  < 2e-16 ***\n",
       "NO2     -0.0078196  0.0055289  -1.414    0.157    \n",
       "SO2     -0.0994414  0.0113291  -8.778  < 2e-16 ***\n",
       "\n",
       "    Null deviance: 795.53  on 71  degrees of freedom\n",
       "Residual deviance: 612.48  on 66  degrees of freedom\n",
       "AIC: 943.4291 \n",
       "\n",
       "Number of Fisher Scoring iterations: 30\n",
       "\n",
       "LRT and Wald Test:\n",
       "Alternative hypothesis: model is a GLARMA process\n",
       "Null hypothesis: model is a GLM with the same regression structure\n",
       "          Statistic  p-value    \n",
       "LR Test       75.71  < 2e-16 ***\n",
       "Wald Test     65.53 5.55e-16 ***\n",
       "---\n",
       "Signif. codes:  0 '***' 0.001 '**' 0.01 '*' 0.05 '.' 0.1 ' ' 1\n"
      ]
     },
     "metadata": {},
     "output_type": "display_data"
    }
   ],
   "source": [
    "fit =glarma(df$Atendimentos, X=X , phiLags = c(1) ,thetaLags = NULL, type = \"Poi\")\n",
    "summary(fit)"
   ]
  },
  {
   "cell_type": "code",
   "execution_count": 36,
   "id": "34bda8f7",
   "metadata": {},
   "outputs": [
    {
     "data": {
      "text/plain": [
       "\n",
       "Call: glarma(y = df$Atendimentos, X = X[, c(\"tempmed\", \"O3\", \"CO\", \n",
       "    \"SO2\")], type = \"Poi\", phiLags = c(1, 2), thetaLags = NULL)\n",
       "\n",
       "Pearson Residuals:\n",
       "    Min       1Q   Median       3Q      Max  \n",
       "-5.2529  -1.7941  -0.1555   1.4626   8.5222  \n",
       "\n",
       "GLARMA Coefficients:\n",
       "      Estimate Std.Error z-ratio Pr(>|z|)    \n",
       "phi_1 0.082932  0.008198  10.116  < 2e-16 ***\n",
       "phi_2 0.046149  0.008895   5.188 2.13e-07 ***\n",
       "\n",
       "Linear Model Coefficients:\n",
       "          Estimate  Std.Error z-ratio Pr(>|z|)    \n",
       "tempmed  0.0639349  0.0083392   7.667 1.75e-14 ***\n",
       "O3       0.0364563  0.0032981  11.054  < 2e-16 ***\n",
       "CO       0.0013487  0.0001142  11.814  < 2e-16 ***\n",
       "SO2     -0.0720963  0.0118371  -6.091 1.12e-09 ***\n",
       "\n",
       "    Null deviance: 795.53  on 71  degrees of freedom\n",
       "Residual deviance: 578.17  on 66  degrees of freedom\n",
       "AIC: 917.5981 \n",
       "\n",
       "Number of Fisher Scoring iterations: 30\n",
       "\n",
       "LRT and Wald Test:\n",
       "Alternative hypothesis: model is a GLARMA process\n",
       "Null hypothesis: model is a GLM with the same regression structure\n",
       "          Statistic p-value    \n",
       "LR Test       106.0  <2e-16 ***\n",
       "Wald Test     112.5  <2e-16 ***\n",
       "---\n",
       "Signif. codes:  0 '***' 0.001 '**' 0.01 '*' 0.05 '.' 0.1 ' ' 1\n"
      ]
     },
     "metadata": {},
     "output_type": "display_data"
    }
   ],
   "source": [
    "fit =glarma(df$Atendimentos, X=X[,c('tempmed','O3','CO','SO2')] , phiLags = c(1,2) ,thetaLags = NULL, type = \"Poi\")\n",
    "summary(fit)"
   ]
  },
  {
   "cell_type": "markdown",
   "id": "0d660092",
   "metadata": {},
   "source": [
    "A partir do AR(2) os coeficientes do phi não são significativos em todos os níveis de confiança."
   ]
  },
  {
   "cell_type": "code",
   "execution_count": 37,
   "id": "44f2f91c",
   "metadata": {},
   "outputs": [
    {
     "data": {
      "image/png": "[encoded data removed]",
      "text/plain": [
       "Plot with title \"Atendimento X O3\""
      ]
     },
     "metadata": {
      "image/png": {
       "height": 420,
       "width": 420
      }
     },
     "output_type": "display_data"
    }
   ],
   "source": [
    "plot(X[, \"O3\"], df$Atendimento, main = \"Atendimento X O3\")"
   ]
  },
  {
   "cell_type": "code",
   "execution_count": 38,
   "id": "51303deb",
   "metadata": {},
   "outputs": [
    {
     "data": {
      "image/png": "[encoded data removed]",
      "text/plain": [
       "Plot with title \"Atendimento X tempmed\""
      ]
     },
     "metadata": {
      "image/png": {
       "height": 420,
       "width": 420
      }
     },
     "output_type": "display_data"
    }
   ],
   "source": [
    "plot(X[, \"tempmed\"], df$Atendimento, main = \"Atendimento X tempmed\")"
   ]
  },
  {
   "cell_type": "code",
   "execution_count": 39,
   "id": "7dcc58a7",
   "metadata": {},
   "outputs": [
    {
     "data": {
      "image/png": "[encoded data removed]",
      "text/plain": [
       "Plot with title \"Atendimento X CO\""
      ]
     },
     "metadata": {
      "image/png": {
       "height": 420,
       "width": 420
      }
     },
     "output_type": "display_data"
    }
   ],
   "source": [
    "plot(X[, \"CO\"], df$Atendimento, main = \"Atendimento X CO\")"
   ]
  },
  {
   "cell_type": "code",
   "execution_count": 40,
   "id": "07cf70c5",
   "metadata": {},
   "outputs": [
    {
     "data": {
      "image/png": "[encoded data removed]",
      "text/plain": [
       "Plot with title \"Atendimento X SO2\""
      ]
     },
     "metadata": {
      "image/png": {
       "height": 420,
       "width": 420
      }
     },
     "output_type": "display_data"
    }
   ],
   "source": [
    "plot(X[, \"SO2\"], df$Atendimento, main = \"Atendimento X SO2\")"
   ]
  },
  {
   "cell_type": "markdown",
   "id": "4a67b37f",
   "metadata": {},
   "source": [
    "O3 aparentemente tem relação não linear com o número de atendimentos"
   ]
  },
  {
   "cell_type": "markdown",
   "id": "3c029375",
   "metadata": {},
   "source": [
    "Rodando nossa regressão com os splines:"
   ]
  },
  {
   "cell_type": "code",
   "execution_count": 41,
   "id": "b6d2b09d",
   "metadata": {},
   "outputs": [],
   "source": [
    "other_covs <- X[,c('tempmed','CO','SO2')]"
   ]
  },
  {
   "cell_type": "code",
   "execution_count": 42,
   "id": "86b8006d",
   "metadata": {},
   "outputs": [],
   "source": [
    "resposta<-select_best_k_multi(y=df$Atendimentos,z=list(O3=df$O3,tempmed=df$tempmed),other_covariates = other_covs,\n",
    "                        k_ranges=list(O3=1:8,temp_med=1:8),np=3,nq=0,lamb =0.5,Ind=0)"
   ]
  },
  {
   "cell_type": "code",
   "execution_count": 43,
   "id": "08d07465",
   "metadata": {},
   "outputs": [
    {
     "data": {
      "text/html": [
       "<dl>\n",
       "\t<dt>$AIC</dt>\n",
       "\t\t<dd>-7840.30738737551</dd>\n",
       "\t<dt>$logLik</dt>\n",
       "\t\t<dd>3942.15369368775</dd>\n",
       "\t<dt>$beta0</dt>\n",
       "\t\t<dd>2.76306610689278</dd>\n",
       "\t<dt>$beta_spline</dt>\n",
       "\t\t<dd><dl>\n",
       "\t<dt>$O3</dt>\n",
       "\t\t<dd><style>\n",
       ".list-inline {list-style: none; margin:0; padding: 0}\n",
       ".list-inline>li {display: inline-block}\n",
       ".list-inline>li:not(:last-child)::after {content: \"\\00b7\"; padding: 0 .5ex}\n",
       "</style>\n",
       "<ol class=list-inline><li>0.351727607570428</li><li>0.748339770830553</li><li>0.0514625420616618</li><li>1.07794204788271</li><li>-0.521010265442694</li><li>0.572686123411616</li><li>0.636101002121954</li></ol>\n",
       "</dd>\n",
       "\t<dt>$tempmed</dt>\n",
       "\t\t<dd><style>\n",
       ".list-inline {list-style: none; margin:0; padding: 0}\n",
       ".list-inline>li {display: inline-block}\n",
       ".list-inline>li:not(:last-child)::after {content: \"\\00b7\"; padding: 0 .5ex}\n",
       "</style>\n",
       "<ol class=list-inline><li>-0.10411575379499</li><li>-0.342784661481924</li><li>-0.0206866784576695</li><li>-0.127113092415123</li><li>-0.622252363904484</li><li>0.0563834096290639</li><li>-1.64067137163042</li><li>-1.7303685099724</li></ol>\n",
       "</dd>\n",
       "</dl>\n",
       "</dd>\n",
       "\t<dt>$beta_other</dt>\n",
       "\t\t<dd><style>\n",
       ".list-inline {list-style: none; margin:0; padding: 0}\n",
       ".list-inline>li {display: inline-block}\n",
       ".list-inline>li:not(:last-child)::after {content: \"\\00b7\"; padding: 0 .5ex}\n",
       "</style>\n",
       "<ol class=list-inline><li>0.0284734533890816</li><li>0.000740302083696139</li><li>-0.0866522606064693</li></ol>\n",
       "</dd>\n",
       "\t<dt>$fi</dt>\n",
       "\t\t<dd><style>\n",
       ".list-inline {list-style: none; margin:0; padding: 0}\n",
       ".list-inline>li {display: inline-block}\n",
       ".list-inline>li:not(:last-child)::after {content: \"\\00b7\"; padding: 0 .5ex}\n",
       "</style>\n",
       "<ol class=list-inline><li>0.0433467203032375</li><li>0.00227101251663183</li><li>-0.0660772354515024</li></ol>\n",
       "</dd>\n",
       "\t<dt>$theta</dt>\n",
       "\t\t<dd></dd>\n",
       "\t<dt>$k_list</dt>\n",
       "\t\t<dd><dl>\n",
       "\t<dt>$O3</dt>\n",
       "\t\t<dd>7</dd>\n",
       "\t<dt>$temp_med</dt>\n",
       "\t\t<dd>8</dd>\n",
       "</dl>\n",
       "</dd>\n",
       "</dl>\n"
      ],
      "text/latex": [
       "\\begin{description}\n",
       "\\item[\\$AIC] -7840.30738737551\n",
       "\\item[\\$logLik] 3942.15369368775\n",
       "\\item[\\$beta0] 2.76306610689278\n",
       "\\item[\\$beta\\_spline] \\begin{description}\n",
       "\\item[\\$O3] \\begin{enumerate*}\n",
       "\\item 0.351727607570428\n",
       "\\item 0.748339770830553\n",
       "\\item 0.0514625420616618\n",
       "\\item 1.07794204788271\n",
       "\\item -0.521010265442694\n",
       "\\item 0.572686123411616\n",
       "\\item 0.636101002121954\n",
       "\\end{enumerate*}\n",
       "\n",
       "\\item[\\$tempmed] \\begin{enumerate*}\n",
       "\\item -0.10411575379499\n",
       "\\item -0.342784661481924\n",
       "\\item -0.0206866784576695\n",
       "\\item -0.127113092415123\n",
       "\\item -0.622252363904484\n",
       "\\item 0.0563834096290639\n",
       "\\item -1.64067137163042\n",
       "\\item -1.7303685099724\n",
       "\\end{enumerate*}\n",
       "\n",
       "\\end{description}\n",
       "\n",
       "\\item[\\$beta\\_other] \\begin{enumerate*}\n",
       "\\item 0.0284734533890816\n",
       "\\item 0.000740302083696139\n",
       "\\item -0.0866522606064693\n",
       "\\end{enumerate*}\n",
       "\n",
       "\\item[\\$fi] \\begin{enumerate*}\n",
       "\\item 0.0433467203032375\n",
       "\\item 0.00227101251663183\n",
       "\\item -0.0660772354515024\n",
       "\\end{enumerate*}\n",
       "\n",
       "\\item[\\$theta] \n",
       "\\item[\\$k\\_list] \\begin{description}\n",
       "\\item[\\$O3] 7\n",
       "\\item[\\$temp\\_med] 8\n",
       "\\end{description}\n",
       "\n",
       "\\end{description}\n"
      ],
      "text/markdown": [
       "$AIC\n",
       ":   -7840.30738737551\n",
       "$logLik\n",
       ":   3942.15369368775\n",
       "$beta0\n",
       ":   2.76306610689278\n",
       "$beta_spline\n",
       ":   $O3\n",
       ":   1. 0.351727607570428\n",
       "2. 0.748339770830553\n",
       "3. 0.0514625420616618\n",
       "4. 1.07794204788271\n",
       "5. -0.521010265442694\n",
       "6. 0.572686123411616\n",
       "7. 0.636101002121954\n",
       "\n",
       "\n",
       "\n",
       "$tempmed\n",
       ":   1. -0.10411575379499\n",
       "2. -0.342784661481924\n",
       "3. -0.0206866784576695\n",
       "4. -0.127113092415123\n",
       "5. -0.622252363904484\n",
       "6. 0.0563834096290639\n",
       "7. -1.64067137163042\n",
       "8. -1.7303685099724\n",
       "\n",
       "\n",
       "\n",
       "\n",
       "\n",
       "\n",
       "$beta_other\n",
       ":   1. 0.0284734533890816\n",
       "2. 0.000740302083696139\n",
       "3. -0.0866522606064693\n",
       "\n",
       "\n",
       "\n",
       "$fi\n",
       ":   1. 0.0433467203032375\n",
       "2. 0.00227101251663183\n",
       "3. -0.0660772354515024\n",
       "\n",
       "\n",
       "\n",
       "$theta\n",
       ":   \n",
       "$k_list\n",
       ":   $O3\n",
       ":   7\n",
       "$temp_med\n",
       ":   8\n",
       "\n",
       "\n",
       "\n",
       "\n",
       "\n"
      ],
      "text/plain": [
       "$AIC\n",
       "[1] -7840.307\n",
       "\n",
       "$logLik\n",
       "[1] 3942.154\n",
       "\n",
       "$beta0\n",
       "[1] 2.763066\n",
       "\n",
       "$beta_spline\n",
       "$beta_spline$O3\n",
       "[1]  0.35172761  0.74833977  0.05146254  1.07794205 -0.52101027  0.57268612\n",
       "[7]  0.63610100\n",
       "\n",
       "$beta_spline$tempmed\n",
       "[1] -0.10411575 -0.34278466 -0.02068668 -0.12711309 -0.62225236  0.05638341\n",
       "[7] -1.64067137 -1.73036851\n",
       "\n",
       "\n",
       "$beta_other\n",
       "[1]  0.0284734534  0.0007403021 -0.0866522606\n",
       "\n",
       "$fi\n",
       "[1]  0.043346720  0.002271013 -0.066077235\n",
       "\n",
       "$theta\n",
       "numeric(0)\n",
       "\n",
       "$k_list\n",
       "$k_list$O3\n",
       "[1] 7\n",
       "\n",
       "$k_list$temp_med\n",
       "[1] 8\n",
       "\n",
       "attr(,\"out.attrs\")\n",
       "attr(,\"out.attrs\")$dim\n",
       "      O3 temp_med \n",
       "       8        8 \n",
       "\n",
       "attr(,\"out.attrs\")$dimnames\n",
       "attr(,\"out.attrs\")$dimnames$O3\n",
       "[1] \"O3=1\" \"O3=2\" \"O3=3\" \"O3=4\" \"O3=5\" \"O3=6\" \"O3=7\" \"O3=8\"\n",
       "\n",
       "attr(,\"out.attrs\")$dimnames$temp_med\n",
       "[1] \"temp_med=1\" \"temp_med=2\" \"temp_med=3\" \"temp_med=4\" \"temp_med=5\"\n",
       "[6] \"temp_med=6\" \"temp_med=7\" \"temp_med=8\"\n",
       "\n",
       "\n"
      ]
     },
     "metadata": {},
     "output_type": "display_data"
    }
   ],
   "source": [
    "resposta"
   ]
  },
  {
   "cell_type": "code",
   "execution_count": null,
   "id": "15b534f9",
   "metadata": {},
   "outputs": [],
   "source": []
  }
 ],
 "metadata": {
  "kernelspec": {
   "display_name": "R",
   "language": "R",
   "name": "ir"
  },
  "language_info": {
   "codemirror_mode": "r",
   "file_extension": ".r",
   "mimetype": "text/x-r-source",
   "name": "R",
   "pygments_lexer": "r",
   "version": "4.4.2"
  }
 },
 "nbformat": 4,
 "nbformat_minor": 5
}
