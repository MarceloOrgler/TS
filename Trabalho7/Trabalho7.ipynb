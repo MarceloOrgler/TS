{
 "cells": [
  {
   "cell_type": "code",
   "execution_count": 48,
   "id": "22d268a9",
   "metadata": {},
   "outputs": [],
   "source": [
    "library(pacman)\n",
    "p_load(dplyr,tidyr,splines,glarma)"
   ]
  },
  {
   "cell_type": "code",
   "execution_count": 49,
   "id": "ac0aadf7",
   "metadata": {},
   "outputs": [
    {
     "data": {
      "text/html": [
       "'C:/Users/Marcelo/OneDrive/Área de Trabalho/ts/trabalho 2 - TS/Trabalho7'"
      ],
      "text/latex": [
       "'C:/Users/Marcelo/OneDrive/Área de Trabalho/ts/trabalho 2 - TS/Trabalho7'"
      ],
      "text/markdown": [
       "'C:/Users/Marcelo/OneDrive/Área de Trabalho/ts/trabalho 2 - TS/Trabalho7'"
      ],
      "text/plain": [
       "[1] \"C:/Users/Marcelo/OneDrive/Área de Trabalho/ts/trabalho 2 - TS/Trabalho7\""
      ]
     },
     "metadata": {},
     "output_type": "display_data"
    }
   ],
   "source": [
    "setwd('C:\\\\Users\\\\Marcelo\\\\OneDrive\\\\Área de Trabalho\\\\ts\\\\trabalho 2 - TS\\\\Trabalho7')\n",
    "getwd()"
   ]
  },
  {
   "cell_type": "markdown",
   "id": "d025a921",
   "metadata": {},
   "source": [
    "Função de Verossimilhança da Professora:"
   ]
  },
  {
   "cell_type": "code",
   "execution_count": 50,
   "id": "1d4c8644",
   "metadata": {},
   "outputs": [],
   "source": [
    "Like <- function(Parametros, y, nb, np, nq, lamb, x, Ind) {\n",
    "  \n",
    "  ny <- length(y)\n",
    "  \n",
    "  # Separating parameters: beta, fi, theta\n",
    "  if (nb > 0) {\n",
    "    beta <- Parametros[1:nb]\n",
    "  }\n",
    "  \n",
    "  ar_ma_start <- nb + 1\n",
    "  \n",
    "  if (np > 0 && nq == 0) {\n",
    "    fi <- Parametros[ar_ma_start:(ar_ma_start + np - 1)]\n",
    "  }\n",
    "  \n",
    "  if (nq > 0 && np == 0) {\n",
    "    theta <- Parametros[ar_ma_start:(ar_ma_start + nq - 1)]\n",
    "  }\n",
    "  \n",
    "  if (np > 0 && nq > 0) {\n",
    "    fi <- Parametros[ar_ma_start:(ar_ma_start + np - 1)]\n",
    "    theta <- Parametros[(ar_ma_start + np):(ar_ma_start + np + nq - 1)]\n",
    "  }\n",
    "  \n",
    "  # Initialize variables\n",
    "  z    <- rep(0, ny)\n",
    "  w    <- rep(0, ny)\n",
    "  mi   <- rep(0, ny)\n",
    "  erro <- rep(0, ny)\n",
    "  \n",
    "  # First observation: compute w[1]\n",
    "  if (nb == 0) {\n",
    "    w[1] <- 0\n",
    "  } else if (nb == 1) {\n",
    "    w[1] <- beta[1]\n",
    "  } else {\n",
    "    w[1] <- beta[1] + as.numeric(x[1, 1:(nb - 1)] %*% beta[2:nb])\n",
    "  }\n",
    "  \n",
    "  mi[1]   <- exp(w[1])\n",
    "  erro[1] <- (y[1] - mi[1]) / (mi[1]^lamb)\n",
    "  L       <- y[1] * w[1] - exp(w[1])\n",
    "  \n",
    "  # Loop over t = 2 to ny\n",
    "  for (t in 2:ny) {\n",
    "    \n",
    "    # AR component\n",
    "    if (np > 0) {\n",
    "      for (k in 1:min(np, t - 1)) {\n",
    "        z[t] <- z[t] + fi[k] * (z[t - k] + erro[t - k])\n",
    "      }\n",
    "    }\n",
    "    \n",
    "    # MA component\n",
    "    if (nq > 0) {\n",
    "      for (k in 1:min(nq, t - 1)) {\n",
    "        z[t] <- z[t] + theta[k] * erro[t - k]\n",
    "      }\n",
    "    }\n",
    "    \n",
    "    # Compute w[t] based on z[t] and x[t,]\n",
    "    if (nb == 0) {\n",
    "      w[t] <- z[t]\n",
    "    } else if (nb == 1) {\n",
    "      w[t] <- beta[1] + z[t]\n",
    "    } else {\n",
    "      w[t] <- beta[1] + as.numeric(x[t, 1:(nb - 1)] %*% beta[2:nb]) + z[t]\n",
    "    }\n",
    "    \n",
    "    mi[t]   <- exp(w[t])\n",
    "    erro[t] <- (y[t] - mi[t]) / (mi[t]^lamb)\n",
    "    L       <- L + y[t] * w[t] - exp(w[t])\n",
    "  }\n",
    "  \n",
    "  L <- -L  # negative log-likelihood\n",
    "  \n",
    "  valores <- cbind(erro, z, mi)\n",
    "  \n",
    "  if (Ind == 0) return(L)\n",
    "  if (Ind == 1) return(valores)\n",
    "}\n"
   ]
  },
  {
   "cell_type": "markdown",
   "id": "296bae97",
   "metadata": {},
   "source": [
    "Função que adiciona o spline, escolhe o número ótimo de bases com base no AIC e retorna os coeficientes:"
   ]
  },
  {
   "cell_type": "code",
   "execution_count": 51,
   "id": "adf7a6ef",
   "metadata": {},
   "outputs": [],
   "source": [
    "select_best_k <- function(y, z, other_covariates = NULL,\n",
    "                          k_range = 2:8,\n",
    "                          np = 0, nq = 0, lamb = 0.5,\n",
    "                          Ind = 0) {\n",
    "  \n",
    "  best_AIC <- Inf\n",
    "  best_fit <- list()\n",
    "  \n",
    "  for (k in k_range) {\n",
    "    # Build spline basis\n",
    "    spline_basis <- ns(z, df = k)\n",
    "    n_spline <- ncol(spline_basis)\n",
    "    \n",
    "    # Combine with other covariates\n",
    "    if (!is.null(other_covariates)) {\n",
    "      x <- cbind(spline_basis, other_covariates)\n",
    "      n_other <- ncol(other_covariates)\n",
    "    } else {\n",
    "      x <- spline_basis\n",
    "      n_other <- 0\n",
    "    }\n",
    "    \n",
    "    nb <- 1 + n_spline + n_other  # intercept + spline + other covariates\n",
    "    n_params <- nb + np + nq\n",
    "    start_vals <- rep(0, n_params)\n",
    "    \n",
    "    # Fit model\n",
    "    opt <- optim(par = start_vals,\n",
    "                 fn = Like,\n",
    "                 y = y,\n",
    "                 nb = nb,\n",
    "                 np = np,\n",
    "                 nq = nq,\n",
    "                 lamb = lamb,\n",
    "                 x = x,\n",
    "                 Ind = 0,\n",
    "                 method = \"BFGS\",\n",
    "                 hessian = FALSE)\n",
    "    \n",
    "    logLik <- -opt$value\n",
    "    AIC <- 2 * n_params - 2 * logLik\n",
    "    \n",
    "    if (AIC < best_AIC) {\n",
    "      best_AIC <- AIC\n",
    "      best_k <- k\n",
    "      best_coef <- opt$par\n",
    "      best_nb <- nb\n",
    "      \n",
    "      # Extract and split coefficients\n",
    "      beta0 <- best_coef[1]\n",
    "      beta_spline <- best_coef[2:(1 + n_spline)]\n",
    "      beta_other <- if (n_other > 0) best_coef[(2 + n_spline):(1 + n_spline + n_other)] else numeric(0)\n",
    "      fi   <- if (np > 0) best_coef[(nb + 1):(nb + np)] else numeric(0)\n",
    "      theta <- if (nq > 0) best_coef[(nb + np + 1):(nb + np + nq)] else numeric(0)\n",
    "      \n",
    "      best_fit <- list(\n",
    "        best_k = best_k,\n",
    "        best_AIC = best_AIC,\n",
    "        best_logLik = logLik,\n",
    "        beta0 = beta0,\n",
    "        beta_spline = beta_spline,\n",
    "        beta_other = beta_other,\n",
    "        fi = fi,\n",
    "        theta = theta\n",
    "      )\n",
    "    }\n",
    "  }\n",
    "  \n",
    "  return(best_fit)\n",
    "}\n"
   ]
  },
  {
   "cell_type": "markdown",
   "id": "d981e06e",
   "metadata": {},
   "source": [
    "Pegando o dataset de Falências"
   ]
  },
  {
   "cell_type": "code",
   "execution_count": 52,
   "id": "6b21278e",
   "metadata": {},
   "outputs": [],
   "source": [
    "df <- read.csv(\"Falencia.csv\",header = TRUE,sep=';')\n",
    "df<- df %>% select(Falencia,INDPRO,PERMIT,BAA,GS10,FEDFUNDS)"
   ]
  },
  {
   "cell_type": "markdown",
   "id": "b5755ee4",
   "metadata": {},
   "source": [
    "Limpando os dados:"
   ]
  },
  {
   "cell_type": "code",
   "execution_count": 53,
   "id": "e9c73ae3",
   "metadata": {},
   "outputs": [],
   "source": [
    "df[] <- lapply(df, function(x) {\n",
    "  if (is.character(x)) as.numeric(gsub(\",\", \".\", x)) else x\n",
    "})"
   ]
  },
  {
   "cell_type": "code",
   "execution_count": 54,
   "id": "83c089c6",
   "metadata": {},
   "outputs": [],
   "source": [
    "df <- df %>% mutate(across(-1, as.numeric))"
   ]
  },
  {
   "cell_type": "code",
   "execution_count": 55,
   "id": "3cacfdac",
   "metadata": {},
   "outputs": [],
   "source": [
    "df<- df %>% drop_na()"
   ]
  },
  {
   "cell_type": "code",
   "execution_count": 56,
   "id": "602c5c60",
   "metadata": {},
   "outputs": [
    {
     "data": {
      "text/plain": [
       "    Falencia          INDPRO           PERMIT          BAA        \n",
       " Min.   : 0.000   Min.   : 54.34   Min.   : 513   Min.   : 4.510  \n",
       " 1st Qu.: 1.000   1st Qu.: 62.62   1st Qu.:1087   1st Qu.: 6.643  \n",
       " Median : 2.000   Median : 85.48   Median :1441   Median : 7.950  \n",
       " Mean   : 2.738   Mean   : 79.34   Mean   :1390   Mean   : 8.117  \n",
       " 3rd Qu.: 4.000   3rd Qu.: 92.32   3rd Qu.:1687   3rd Qu.: 9.275  \n",
       " Max.   :16.000   Max.   :100.76   Max.   :2263   Max.   :13.690  \n",
       "      GS10           FEDFUNDS    \n",
       " Min.   : 1.530   Min.   :0.070  \n",
       " 1st Qu.: 4.215   1st Qu.:1.758  \n",
       " Median : 5.720   Median :4.885  \n",
       " Mean   : 5.824   Mean   :4.277  \n",
       " 3rd Qu.: 7.353   3rd Qu.:6.003  \n",
       " Max.   :11.860   Max.   :9.850  "
      ]
     },
     "metadata": {},
     "output_type": "display_data"
    }
   ],
   "source": [
    "summary(df)"
   ]
  },
  {
   "cell_type": "markdown",
   "id": "433a2318",
   "metadata": {},
   "source": [
    "Montando o X:"
   ]
  },
  {
   "cell_type": "code",
   "execution_count": 57,
   "id": "e5cd2d85",
   "metadata": {},
   "outputs": [],
   "source": [
    "X <- as.matrix(df[ , setdiff(names(df), \"Falencia\")])"
   ]
  },
  {
   "cell_type": "markdown",
   "id": "30d3f9cc",
   "metadata": {},
   "source": [
    "Ajustando o modelo sem os splines:"
   ]
  },
  {
   "cell_type": "code",
   "execution_count": 58,
   "id": "c756e2a2",
   "metadata": {},
   "outputs": [
    {
     "data": {
      "text/plain": [
       "\n",
       "Call: glarma(y = df$Falencia, X = X, type = \"Poi\", phiLags = c(1, 2, \n",
       "    3), thetaLags = NULL)\n",
       "\n",
       "Pearson Residuals:\n",
       "    Min       1Q   Median       3Q      Max  \n",
       "-1.8357  -0.8786  -0.1932   0.6406   3.5128  \n",
       "\n",
       "GLARMA Coefficients:\n",
       "      Estimate Std.Error z-ratio Pr(>|z|)    \n",
       "phi_1  0.24258   0.02675   9.067  < 2e-16 ***\n",
       "phi_2  0.10540   0.02688   3.922 8.79e-05 ***\n",
       "phi_3  0.10593   0.02775   3.817 0.000135 ***\n",
       "\n",
       "Linear Model Coefficients:\n",
       "           Estimate  Std.Error z-ratio Pr(>|z|)    \n",
       "INDPRO   -0.0003552  0.0041804  -0.085    0.932    \n",
       "PERMIT    0.0002063  0.0002013   1.025    0.306    \n",
       "BAA       0.4431363  0.0871899   5.082 3.73e-07 ***\n",
       "GS10     -0.5271091  0.1181994  -4.459 8.22e-06 ***\n",
       "FEDFUNDS  0.0057158  0.0580906   0.098    0.922    \n",
       "\n",
       "    Null deviance: 840.49  on 335  degrees of freedom\n",
       "Residual deviance: 405.46  on 328  degrees of freedom\n",
       "AIC: 1255.004 \n",
       "\n",
       "Number of Fisher Scoring iterations: 30\n",
       "\n",
       "LRT and Wald Test:\n",
       "Alternative hypothesis: model is a GLARMA process\n",
       "Null hypothesis: model is a GLM with the same regression structure\n",
       "          Statistic p-value    \n",
       "LR Test       184.3  <2e-16 ***\n",
       "Wald Test     119.0  <2e-16 ***\n",
       "---\n",
       "Signif. codes:  0 '***' 0.001 '**' 0.01 '*' 0.05 '.' 0.1 ' ' 1\n"
      ]
     },
     "metadata": {},
     "output_type": "display_data"
    }
   ],
   "source": [
    "fit =glarma(df$Falencia, X=X , phiLags = c(1,2,3) ,thetaLags = NULL, type = \"Poi\")\n",
    "summary(fit)"
   ]
  },
  {
   "cell_type": "markdown",
   "id": "08a5303e",
   "metadata": {},
   "source": [
    "A partir de np=3 os coeficientes do phi não são significativos em todos os níveis de confiança."
   ]
  },
  {
   "cell_type": "markdown",
   "id": "72a6eb48",
   "metadata": {},
   "source": [
    "Rodando nossa regressão com os splines:"
   ]
  },
  {
   "cell_type": "code",
   "execution_count": 59,
   "id": "e9a6f7bc",
   "metadata": {},
   "outputs": [],
   "source": [
    "other_covs <- as.matrix(df$GS10)"
   ]
  },
  {
   "cell_type": "code",
   "execution_count": 60,
   "id": "73506733",
   "metadata": {},
   "outputs": [],
   "source": [
    "resposta<-select_best_k(y=df$Falencia,z=df$BAA,other_covariates = other_covs,\n",
    "                        k_range=2:8,np=3,nq=0,lamb =0.5,Ind=0)"
   ]
  },
  {
   "cell_type": "code",
   "execution_count": 61,
   "id": "f7fb8d1b",
   "metadata": {},
   "outputs": [
    {
     "data": {
      "text/html": [
       "<dl>\n",
       "\t<dt>$best_k</dt>\n",
       "\t\t<dd>6</dd>\n",
       "\t<dt>$best_AIC</dt>\n",
       "\t\t<dd>-406.975264843226</dd>\n",
       "\t<dt>$best_logLik</dt>\n",
       "\t\t<dd>214.487632421613</dd>\n",
       "\t<dt>$beta0</dt>\n",
       "\t\t<dd>0.628534909870531</dd>\n",
       "\t<dt>$beta_spline</dt>\n",
       "\t\t<dd><style>\n",
       ".list-inline {list-style: none; margin:0; padding: 0}\n",
       ".list-inline>li {display: inline-block}\n",
       ".list-inline>li:not(:last-child)::after {content: \"\\00b7\"; padding: 0 .5ex}\n",
       "</style>\n",
       "<ol class=list-inline><li>2.12493234649911</li><li>3.4271218019913</li><li>3.20784571447172</li><li>2.86601696157894</li><li>6.13008630211092</li><li>3.04894968832895</li></ol>\n",
       "</dd>\n",
       "\t<dt>$beta_other</dt>\n",
       "\t\t<dd>-0.462510638707145</dd>\n",
       "\t<dt>$fi</dt>\n",
       "\t\t<dd><style>\n",
       ".list-inline {list-style: none; margin:0; padding: 0}\n",
       ".list-inline>li {display: inline-block}\n",
       ".list-inline>li:not(:last-child)::after {content: \"\\00b7\"; padding: 0 .5ex}\n",
       "</style>\n",
       "<ol class=list-inline><li>0.210020173314218</li><li>0.0703255033205038</li><li>0.089310676517537</li></ol>\n",
       "</dd>\n",
       "\t<dt>$theta</dt>\n",
       "\t\t<dd></dd>\n",
       "</dl>\n"
      ],
      "text/latex": [
       "\\begin{description}\n",
       "\\item[\\$best\\_k] 6\n",
       "\\item[\\$best\\_AIC] -406.975264843226\n",
       "\\item[\\$best\\_logLik] 214.487632421613\n",
       "\\item[\\$beta0] 0.628534909870531\n",
       "\\item[\\$beta\\_spline] \\begin{enumerate*}\n",
       "\\item 2.12493234649911\n",
       "\\item 3.4271218019913\n",
       "\\item 3.20784571447172\n",
       "\\item 2.86601696157894\n",
       "\\item 6.13008630211092\n",
       "\\item 3.04894968832895\n",
       "\\end{enumerate*}\n",
       "\n",
       "\\item[\\$beta\\_other] -0.462510638707145\n",
       "\\item[\\$fi] \\begin{enumerate*}\n",
       "\\item 0.210020173314218\n",
       "\\item 0.0703255033205038\n",
       "\\item 0.089310676517537\n",
       "\\end{enumerate*}\n",
       "\n",
       "\\item[\\$theta] \n",
       "\\end{description}\n"
      ],
      "text/markdown": [
       "$best_k\n",
       ":   6\n",
       "$best_AIC\n",
       ":   -406.975264843226\n",
       "$best_logLik\n",
       ":   214.487632421613\n",
       "$beta0\n",
       ":   0.628534909870531\n",
       "$beta_spline\n",
       ":   1. 2.12493234649911\n",
       "2. 3.4271218019913\n",
       "3. 3.20784571447172\n",
       "4. 2.86601696157894\n",
       "5. 6.13008630211092\n",
       "6. 3.04894968832895\n",
       "\n",
       "\n",
       "\n",
       "$beta_other\n",
       ":   -0.462510638707145\n",
       "$fi\n",
       ":   1. 0.210020173314218\n",
       "2. 0.0703255033205038\n",
       "3. 0.089310676517537\n",
       "\n",
       "\n",
       "\n",
       "$theta\n",
       ":   \n",
       "\n",
       "\n"
      ],
      "text/plain": [
       "$best_k\n",
       "[1] 6\n",
       "\n",
       "$best_AIC\n",
       "[1] -406.9753\n",
       "\n",
       "$best_logLik\n",
       "[1] 214.4876\n",
       "\n",
       "$beta0\n",
       "[1] 0.6285349\n",
       "\n",
       "$beta_spline\n",
       "[1] 2.124932 3.427122 3.207846 2.866017 6.130086 3.048950\n",
       "\n",
       "$beta_other\n",
       "[1] -0.4625106\n",
       "\n",
       "$fi\n",
       "[1] 0.21002017 0.07032550 0.08931068\n",
       "\n",
       "$theta\n",
       "numeric(0)\n"
      ]
     },
     "metadata": {},
     "output_type": "display_data"
    }
   ],
   "source": [
    "resposta"
   ]
  },
  {
   "cell_type": "code",
   "execution_count": null,
   "id": "645c2174",
   "metadata": {},
   "outputs": [],
   "source": []
  }
 ],
 "metadata": {
  "kernelspec": {
   "display_name": "R",
   "language": "R",
   "name": "ir"
  },
  "language_info": {
   "codemirror_mode": "r",
   "file_extension": ".r",
   "mimetype": "text/x-r-source",
   "name": "R",
   "pygments_lexer": "r",
   "version": "4.4.2"
  }
 },
 "nbformat": 4,
 "nbformat_minor": 5
}
