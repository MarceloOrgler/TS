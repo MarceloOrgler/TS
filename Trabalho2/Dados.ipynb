{
 "cells": [
  {
   "cell_type": "code",
   "execution_count": 41,
   "id": "790dcc10",
   "metadata": {},
   "outputs": [],
   "source": [
    "library(pacman)"
   ]
  },
  {
   "cell_type": "code",
   "execution_count": 42,
   "id": "1fe32744",
   "metadata": {},
   "outputs": [],
   "source": [
    "source('funcoes_auxiliares.R')"
   ]
  },
  {
   "cell_type": "markdown",
   "id": "e5983c41",
   "metadata": {},
   "source": [
    "# Salvando os dados"
   ]
  },
  {
   "cell_type": "code",
   "execution_count": 43,
   "id": "459a70f8",
   "metadata": {},
   "outputs": [],
   "source": [
    "y_mnl1 <- simul_y_mnl(T=100,10,0.5,n_seed=1)"
   ]
  },
  {
   "cell_type": "code",
   "execution_count": 44,
   "id": "67948364",
   "metadata": {},
   "outputs": [],
   "source": [
    "y_mnl2 <- simul_y_mnl(T=1000,10,0.5,1)"
   ]
  },
  {
   "cell_type": "code",
   "execution_count": 45,
   "id": "67e2e406",
   "metadata": {},
   "outputs": [],
   "source": [
    "y_mnl3 <- simul_y_mnl(T=1000,1,0.5,1)\n"
   ]
  },
  {
   "cell_type": "code",
   "execution_count": 46,
   "id": "38bdfbb7",
   "metadata": {},
   "outputs": [],
   "source": [
    "T <- 100\n",
    "sigma2_epsilon <- 4\n",
    "sigma2_eta <- 1   \n",
    "sigma2_qsi <- 0.1\n",
    "n_seed <- 42\n",
    "\n",
    "y_mtl <- simul_y_mtl(T, sigma2_eta=sigma2_eta, sigma2_qsi=sigma2_qsi, sigma2_epsilon=sigma2_epsilon, n_seed=n_seed)"
   ]
  },
  {
   "cell_type": "code",
   "execution_count": 47,
   "id": "310ceefc",
   "metadata": {},
   "outputs": [],
   "source": [
    "y_mtl4 <- simul_y_mtl(T=100,10,0.1,1,n_seed=1)"
   ]
  },
  {
   "cell_type": "code",
   "execution_count": 48,
   "id": "e12490b5",
   "metadata": {},
   "outputs": [],
   "source": [
    "y_mnl5 <- simul_y_mnl(T=T,1,0.5,1)"
   ]
  },
  {
   "cell_type": "code",
   "execution_count": 49,
   "id": "3ed62a6c",
   "metadata": {},
   "outputs": [],
   "source": [
    "T=1000\n",
    "y_mnl6 <- simul_y_mnl(T=T,1,0.5,1)"
   ]
  },
  {
   "cell_type": "code",
   "execution_count": 50,
   "id": "534e621a",
   "metadata": {},
   "outputs": [],
   "source": [
    "saveRDS(list(vetor1 = y_mnl1, vetor2 = y_mnl2,vector3=y_mnl3,vector4=y_mtl,vetor5=y_mnl5,vector5=y_mnl6), \"dados.rds\")"
   ]
  },
  {
   "cell_type": "markdown",
   "id": "38d097f3",
   "metadata": {},
   "source": [
    "# lendo os vetores"
   ]
  },
  {
   "cell_type": "code",
   "execution_count": 51,
   "id": "378864e1",
   "metadata": {},
   "outputs": [],
   "source": [
    "dados <- readRDS(\"dados.rds\")"
   ]
  },
  {
   "cell_type": "code",
   "execution_count": 52,
   "id": "decf4400",
   "metadata": {},
   "outputs": [],
   "source": [
    "y_mnl=dados$vetor1"
   ]
  }
 ],
 "metadata": {
  "kernelspec": {
   "display_name": "R",
   "language": "R",
   "name": "ir"
  },
  "language_info": {
   "codemirror_mode": "r",
   "file_extension": ".r",
   "mimetype": "text/x-r-source",
   "name": "R",
   "pygments_lexer": "r",
   "version": "4.4.2"
  }
 },
 "nbformat": 4,
 "nbformat_minor": 5
}
